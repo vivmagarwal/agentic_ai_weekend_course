{
 "cells": [
  {
   "cell_type": "markdown",
   "metadata": {},
   "source": [
    "# Python Basics: Print, Variables, Types, and Strings\n",
    "\n",
    "## Learning Objectives\n",
    "By the end of this section, you will be able to:\n",
    "- Use the `print()` function to display output\n",
    "- Write and use comments to document code\n",
    "- Create and work with variables to store data\n",
    "- Understand different data types (strings, integers, floats)\n",
    "- Work with different types of strings and f-strings for formatting\n",
    "\n",
    "## Why This Matters: Real-World AI/RAG/Agentic Applications\n",
    "**In AI Systems:**\n",
    "- Print statements help debug model outputs and pipeline steps\n",
    "- Variables store model predictions, confidence scores, and processed data\n",
    "- Understanding data types is crucial for handling different AI model inputs/outputs\n",
    "\n",
    "**In RAG Pipelines:**\n",
    "- Variables store retrieved documents, embeddings, and search results\n",
    "- String formatting creates prompts by combining context with user queries\n",
    "- Type handling ensures proper data flow between retrieval and generation steps\n",
    "\n",
    "**In Agentic AI:**\n",
    "- Variables track agent state, actions, and conversation history\n",
    "- F-strings format agent responses and system prompts dynamically\n",
    "- Comments document complex agent decision logic\n",
    "\n",
    "## Prerequisites\n",
    "- None! This is for absolute beginners\n",
    "- Just curiosity and willingness to experiment\n",
    "\n",
    "---"
   ]
  },
  {
   "cell_type": "markdown",
   "metadata": {},
   "source": [
    "## Instructor Activity 1\n",
    "**Concept**: Using the `print()` function to display text\n",
    "\n",
    "### Example 1: Hello, World!\n",
    "\n",
    "**Problem**: Display \"Hello, World!\" on the screen\n",
    "\n",
    "**Expected Output**: `Hello, World!`"
   ]
  },
  {
   "cell_type": "code",
   "execution_count": null,
   "metadata": {},
   "outputs": [],
   "source": [
    "# Empty cell for live demonstration"
   ]
  },
  {
   "cell_type": "markdown",
   "metadata": {},
   "source": [
    "<details>\n",
    "<summary>Solution</summary>\n",
    "\n",
    "```python\n",
    "# This is our first Python program!\n",
    "print(\"Hello, World!\")\n",
    "```\n",
    "\n",
    "**Why this works:**\n",
    "The `print()` function displays whatever is inside the parentheses. Text must be enclosed in quotes (either single `'` or double `\"`) to create a string.\n",
    "\n",
    "</details>"
   ]
  },
  {
   "cell_type": "markdown",
   "metadata": {},
   "source": [
    "### Example 2: Printing Multiple Items\n",
    "\n",
    "**Problem**: Print multiple words with automatic spacing\n",
    "\n",
    "**Expected Output**: `Hello World from Python`"
   ]
  },
  {
   "cell_type": "code",
   "execution_count": null,
   "metadata": {},
   "outputs": [],
   "source": [
    "# Empty cell for demonstration"
   ]
  },
  {
   "cell_type": "markdown",
   "metadata": {},
   "source": [
    "<details>\n",
    "<summary>Solution</summary>\n",
    "\n",
    "```python\n",
    "# Comma-separated items are displayed with spaces between them\n",
    "print(\"Hello\", \"World\", \"from\", \"Python\")\n",
    "```\n",
    "\n",
    "**Why this works:**\n",
    "When you separate items with commas inside `print()`, Python automatically adds a space between them when displaying.\n",
    "\n",
    "</details>"
   ]
  },
  {
   "cell_type": "markdown",
   "metadata": {},
   "source": [
    "---\n",
    "\n",
    "## Learner Activity 1\n",
    "**Practice**: Using the `print()` function\n",
    "\n",
    "### Exercise 1: Your First Print\n",
    "\n",
    "**Task**: Print your name\n",
    "\n",
    "**Expected Output**: Your name should appear"
   ]
  },
  {
   "cell_type": "code",
   "execution_count": null,
   "metadata": {},
   "outputs": [],
   "source": [
    "# Your code here"
   ]
  },
  {
   "cell_type": "markdown",
   "metadata": {},
   "source": [
    "<details>\n",
    "<summary>Solution</summary>\n",
    "\n",
    "```python\n",
    "# Replace with your actual name\n",
    "print(\"Alice\")\n",
    "```\n",
    "\n",
    "**Why this works:**\n",
    "You can put any text inside the quotes, and `print()` will display it exactly as written.\n",
    "\n",
    "</details>"
   ]
  },
  {
   "cell_type": "markdown",
   "metadata": {},
   "source": [
    "### Exercise 2: Multi-Item Messages\n",
    "\n",
    "**Task**: Print your name, age, and favorite color separated by commas\n",
    "\n",
    "**Expected Output**: `Alice 25 blue` (with your information)"
   ]
  },
  {
   "cell_type": "code",
   "execution_count": null,
   "metadata": {},
   "outputs": [],
   "source": [
    "# Your code here"
   ]
  },
  {
   "cell_type": "markdown",
   "metadata": {},
   "source": [
    "<details>\n",
    "<summary>Solution</summary>\n",
    "\n",
    "```python\n",
    "# Customize with your information\n",
    "print(\"Alice\", 25, \"blue\")\n",
    "```\n",
    "\n",
    "**Why this works:**\n",
    "Notice we can mix text (in quotes) with numbers (no quotes). Python handles both and adds spaces between them automatically.\n",
    "\n",
    "</details>"
   ]
  },
  {
   "cell_type": "markdown",
   "metadata": {},
   "source": [
    "---\n",
    "\n",
    "## Instructor Activity 2\n",
    "**Concept**: Using comments to document code\n",
    "\n",
    "### Example 1: Single-Line Comments\n",
    "\n",
    "**Problem**: Add explanatory notes to code\n",
    "\n",
    "**Expected Output**: `Hello!` (comment is ignored)"
   ]
  },
  {
   "cell_type": "code",
   "execution_count": null,
   "metadata": {},
   "outputs": [],
   "source": [
    "# Empty cell for demonstration"
   ]
  },
  {
   "cell_type": "markdown",
   "metadata": {},
   "source": [
    "<details>\n",
    "<summary>Solution</summary>\n",
    "\n",
    "```python\n",
    "# This is a comment - Python ignores this line\n",
    "print(\"Hello!\")  # This comment explains what the line does\n",
    "```\n",
    "\n",
    "**Why this works:**\n",
    "Lines starting with `#` are comments - notes for humans that Python completely ignores. Use them to explain *why* your code does something, not just *what* it does.\n",
    "\n",
    "</details>"
   ]
  },
  {
   "cell_type": "markdown",
   "metadata": {},
   "source": [
    "---\n",
    "\n",
    "## Learner Activity 2\n",
    "**Practice**: Using comments\n",
    "\n",
    "### Exercise 1: Annotate Your Code\n",
    "\n",
    "**Task**: Add a comment above a print statement explaining what it does"
   ]
  },
  {
   "cell_type": "code",
   "execution_count": null,
   "metadata": {},
   "outputs": [],
   "source": [
    "# Your code here"
   ]
  },
  {
   "cell_type": "markdown",
   "metadata": {},
   "source": [
    "<details>\n",
    "<summary>Solution</summary>\n",
    "\n",
    "```python\n",
    "# Display a greeting message to the user\n",
    "print(\"Welcome to Python!\")\n",
    "```\n",
    "\n",
    "**Why this works:**\n",
    "Comments make your code easier to understand later. They're especially helpful in complex AI pipelines where you need to remember what each step does.\n",
    "\n",
    "</details>"
   ]
  },
  {
   "cell_type": "markdown",
   "metadata": {},
   "source": [
    "---\n",
    "\n",
    "## Instructor Activity 3\n",
    "**Concept**: Creating and using variables\n",
    "\n",
    "### Example 1: Storing Values in Variables\n",
    "\n",
    "**Problem**: Store a name in a variable and display it\n",
    "\n",
    "**Expected Output**: `Alice`"
   ]
  },
  {
   "cell_type": "code",
   "execution_count": null,
   "metadata": {},
   "outputs": [],
   "source": [
    "# Empty cell for demonstration"
   ]
  },
  {
   "cell_type": "markdown",
   "metadata": {},
   "source": [
    "<details>\n",
    "<summary>Solution</summary>\n",
    "\n",
    "```python\n",
    "# Create a variable called 'name' and assign it a value\n",
    "name = \"Alice\"\n",
    "\n",
    "# Display the value stored in the variable\n",
    "print(name)  # Note: no quotes around 'name' - we want the value, not the word \"name\"\n",
    "```\n",
    "\n",
    "**Why this works:**\n",
    "Variables store data for later use. Think of them as labeled boxes - the variable name is the label, and the value is what's inside. The `=` sign assigns (stores) a value in a variable.\n",
    "\n",
    "</details>"
   ]
  },
  {
   "cell_type": "markdown",
   "metadata": {},
   "source": [
    "### Example 2: Multiple Variables\n",
    "\n",
    "**Problem**: Store first and last name separately, then display them together\n",
    "\n",
    "**Expected Output**: `John Doe`"
   ]
  },
  {
   "cell_type": "code",
   "execution_count": null,
   "metadata": {},
   "outputs": [],
   "source": [
    "# Empty cell for demonstration"
   ]
  },
  {
   "cell_type": "markdown",
   "metadata": {},
   "source": [
    "<details>\n",
    "<summary>Solution</summary>\n",
    "\n",
    "```python\n",
    "# Store first and last name in separate variables\n",
    "first_name = \"John\"\n",
    "last_name = \"Doe\"\n",
    "\n",
    "# Print both variables together\n",
    "print(first_name, last_name)\n",
    "```\n",
    "\n",
    "**Why this works:**\n",
    "You can create as many variables as you need. Using descriptive names (like `first_name` instead of just `f`) makes code more readable.\n",
    "\n",
    "</details>"
   ]
  },
  {
   "cell_type": "markdown",
   "metadata": {},
   "source": [
    "---\n",
    "\n",
    "## Learner Activity 3\n",
    "**Practice**: Creating and using variables\n",
    "\n",
    "### Exercise 1: Personal Profile Variables\n",
    "\n",
    "**Task**: Create variables for your name, age, and city, then print them all in one statement\n",
    "\n",
    "**Expected Output**: `Alice 25 NYC` (with your information)"
   ]
  },
  {
   "cell_type": "code",
   "execution_count": null,
   "metadata": {},
   "outputs": [],
   "source": [
    "# Your code here"
   ]
  },
  {
   "cell_type": "markdown",
   "metadata": {},
   "source": [
    "<details>\n",
    "<summary>Solution</summary>\n",
    "\n",
    "```python\n",
    "# Create variables for personal information\n",
    "name = \"Alice\"\n",
    "age = 25\n",
    "city = \"NYC\"\n",
    "\n",
    "# Display all information\n",
    "print(name, age, city)\n",
    "```\n",
    "\n",
    "**Why this works:**\n",
    "Variables organize related data. In AI applications, you might store model name, accuracy score, and training dataset in similar variables.\n",
    "\n",
    "</details>"
   ]
  },
  {
   "cell_type": "markdown",
   "metadata": {},
   "source": [
    "### Exercise 2: Variable Updates\n",
    "\n",
    "**Task**: Create a variable `score = 0`, print it, update to `score = 10`, print again\n",
    "\n",
    "**Expected Output**: \n",
    "```\n",
    "0\n",
    "10\n",
    "```"
   ]
  },
  {
   "cell_type": "code",
   "execution_count": null,
   "metadata": {},
   "outputs": [],
   "source": [
    "# Your code here"
   ]
  },
  {
   "cell_type": "markdown",
   "metadata": {},
   "source": [
    "<details>\n",
    "<summary>Solution</summary>\n",
    "\n",
    "```python\n",
    "# Start with score of 0\n",
    "score = 0\n",
    "print(score)\n",
    "\n",
    "# Update the score\n",
    "score = 10\n",
    "print(score)\n",
    "```\n",
    "\n",
    "**Why this works:**\n",
    "Variables can be updated (reassigned) with new values. The old value is replaced. This is useful for tracking changing states, like model training progress.\n",
    "\n",
    "</details>"
   ]
  },
  {
   "cell_type": "markdown",
   "metadata": {},
   "source": [
    "---\n",
    "\n",
    "## Instructor Activity 4\n",
    "**Concept**: Understanding data types (strings, integers, floats)\n",
    "\n",
    "### Example 1: Different Types of Data\n",
    "\n",
    "**Problem**: Explore different data types Python can work with\n",
    "\n",
    "**Expected Output**: \n",
    "```\n",
    "<class 'str'>\n",
    "<class 'int'>\n",
    "<class 'float'>\n",
    "```"
   ]
  },
  {
   "cell_type": "code",
   "execution_count": null,
   "metadata": {},
   "outputs": [],
   "source": [
    "# Empty cell for demonstration"
   ]
  },
  {
   "cell_type": "markdown",
   "metadata": {},
   "source": [
    "<details>\n",
    "<summary>Solution</summary>\n",
    "\n",
    "```python\n",
    "# Create variables of different types\n",
    "name = \"Alice\"      # String (text)\n",
    "age = 25            # Integer (whole number)\n",
    "height = 5.6        # Float (decimal number)\n",
    "\n",
    "# Check the type of each variable\n",
    "print(type(name))    # <class 'str'>\n",
    "print(type(age))     # <class 'int'>\n",
    "print(type(height))  # <class 'float'>\n",
    "```\n",
    "\n",
    "**Why this works:**\n",
    "Python has different data types for different kinds of information:\n",
    "- **str** (string): Text, always in quotes\n",
    "- **int** (integer): Whole numbers, no quotes\n",
    "- **float** (floating-point): Decimal numbers, no quotes\n",
    "\n",
    "The `type()` function tells you what type of data a variable holds.\n",
    "\n",
    "</details>"
   ]
  },
  {
   "cell_type": "markdown",
   "metadata": {},
   "source": [
    "### Example 2: Dynamic Typing\n",
    "\n",
    "**Problem**: Show how a variable can change types\n",
    "\n",
    "**Expected Output**:\n",
    "```\n",
    "<class 'int'>\n",
    "<class 'str'>\n",
    "```"
   ]
  },
  {
   "cell_type": "code",
   "execution_count": null,
   "metadata": {},
   "outputs": [],
   "source": [
    "# Empty cell for demonstration"
   ]
  },
  {
   "cell_type": "markdown",
   "metadata": {},
   "source": [
    "<details>\n",
    "<summary>Solution</summary>\n",
    "\n",
    "```python\n",
    "# Start with an integer\n",
    "x = 5\n",
    "print(type(x))  # <class 'int'>\n",
    "\n",
    "# Reassign as a string\n",
    "x = \"five\"\n",
    "print(type(x))  # <class 'str'>\n",
    "```\n",
    "\n",
    "**Why this works:**\n",
    "Python uses *dynamic typing* - the same variable can hold different types at different times. The type comes from the value, not the variable name.\n",
    "\n",
    "</details>"
   ]
  },
  {
   "cell_type": "markdown",
   "metadata": {},
   "source": [
    "---\n",
    "\n",
    "## Learner Activity 4\n",
    "**Practice**: Working with data types\n",
    "\n",
    "### Exercise 1: Type Explorer\n",
    "\n",
    "**Task**: Create three variables (a word, a whole number, a decimal) and check their types"
   ]
  },
  {
   "cell_type": "code",
   "execution_count": null,
   "metadata": {},
   "outputs": [],
   "source": [
    "# Your code here"
   ]
  },
  {
   "cell_type": "markdown",
   "metadata": {},
   "source": [
    "<details>\n",
    "<summary>Solution</summary>\n",
    "\n",
    "```python\n",
    "# Create variables of different types\n",
    "word = \"Python\"\n",
    "count = 42\n",
    "price = 9.99\n",
    "\n",
    "# Check their types\n",
    "print(type(word))   # <class 'str'>\n",
    "print(type(count))  # <class 'int'>\n",
    "print(type(price))  # <class 'float'>\n",
    "```\n",
    "\n",
    "**Why this works:**\n",
    "Understanding types is crucial because different types support different operations. You can't do math with strings, for example.\n",
    "\n",
    "</details>"
   ]
  },
  {
   "cell_type": "markdown",
   "metadata": {},
   "source": [
    "### Exercise 2: Math vs. Text\n",
    "\n",
    "**Task**: Create `a = 5` and `b = 3`, print `a + b`. Then create `a = \"5\"` and `b = \"3\"`, print `a + b`. Observe the difference.\n",
    "\n",
    "**Expected Output**:\n",
    "```\n",
    "8\n",
    "53\n",
    "```"
   ]
  },
  {
   "cell_type": "code",
   "execution_count": null,
   "metadata": {},
   "outputs": [],
   "source": [
    "# Your code here"
   ]
  },
  {
   "cell_type": "markdown",
   "metadata": {},
   "source": [
    "<details>\n",
    "<summary>Solution</summary>\n",
    "\n",
    "```python\n",
    "# Numbers: + means addition\n",
    "a = 5\n",
    "b = 3\n",
    "print(a + b)  # 8\n",
    "\n",
    "# Strings: + means concatenation (joining)\n",
    "a = \"5\"\n",
    "b = \"3\"\n",
    "print(a + b)  # 53\n",
    "```\n",
    "\n",
    "**Why this works:**\n",
    "The `+` operator behaves differently for different types:\n",
    "- For numbers: addition (5 + 3 = 8)\n",
    "- For strings: concatenation (\"5\" + \"3\" = \"53\")\n",
    "\n",
    "This is why type awareness matters!\n",
    "\n",
    "</details>"
   ]
  },
  {
   "cell_type": "markdown",
   "metadata": {},
   "source": [
    "---\n",
    "\n",
    "## Instructor Activity 5\n",
    "**Concept**: Different types of strings and f-strings\n",
    "\n",
    "### Example 1: Quote Options\n",
    "\n",
    "**Problem**: Show different ways to create strings\n",
    "\n",
    "**Expected Output**: `Hello` (three times)"
   ]
  },
  {
   "cell_type": "code",
   "execution_count": null,
   "metadata": {},
   "outputs": [],
   "source": [
    "# Empty cell for demonstration"
   ]
  },
  {
   "cell_type": "markdown",
   "metadata": {},
   "source": [
    "<details>\n",
    "<summary>Solution</summary>\n",
    "\n",
    "```python\n",
    "# All three create the same string\n",
    "msg1 = \"Hello\"    # Double quotes\n",
    "msg2 = 'Hello'    # Single quotes\n",
    "msg3 = \"\"\"Hello\"\"\"  # Triple quotes\n",
    "\n",
    "print(msg1)\n",
    "print(msg2)\n",
    "print(msg3)\n",
    "```\n",
    "\n",
    "**Why this works:**\n",
    "Python accepts single `'`, double `\"`, or triple `\"\"\"` quotes for strings. They're mostly interchangeable, but triple quotes have a special use (see next example).\n",
    "\n",
    "</details>"
   ]
  },
  {
   "cell_type": "markdown",
   "metadata": {},
   "source": [
    "### Example 2: Multi-Line Strings\n",
    "\n",
    "**Problem**: Create a string that spans multiple lines\n",
    "\n",
    "**Expected Output**:\n",
    "```\n",
    "Roses are red,\n",
    "Violets are blue,\n",
    "Python is fun,\n",
    "And easy too!\n",
    "```"
   ]
  },
  {
   "cell_type": "code",
   "execution_count": null,
   "metadata": {},
   "outputs": [],
   "source": [
    "# Empty cell for demonstration"
   ]
  },
  {
   "cell_type": "markdown",
   "metadata": {},
   "source": [
    "<details>\n",
    "<summary>Solution</summary>\n",
    "\n",
    "```python\n",
    "# Triple quotes preserve line breaks\n",
    "poem = \"\"\"Roses are red,\n",
    "Violets are blue,\n",
    "Python is fun,\n",
    "And easy too!\"\"\"\n",
    "\n",
    "print(poem)\n",
    "```\n",
    "\n",
    "**Why this works:**\n",
    "Triple quotes (`\"\"\"` or `'''`) allow strings to span multiple lines while preserving formatting. Great for long prompts in AI applications!\n",
    "\n",
    "</details>"
   ]
  },
  {
   "cell_type": "markdown",
   "metadata": {},
   "source": [
    "### Example 3: F-Strings for Formatting\n",
    "\n",
    "**Problem**: Embed variables directly into strings\n",
    "\n",
    "**Expected Output**: `My name is Alice and I am 25 years old`"
   ]
  },
  {
   "cell_type": "code",
   "execution_count": null,
   "metadata": {},
   "outputs": [],
   "source": [
    "# Empty cell for demonstration"
   ]
  },
  {
   "cell_type": "markdown",
   "metadata": {},
   "source": [
    "<details>\n",
    "<summary>Solution</summary>\n",
    "\n",
    "```python\n",
    "# Store values in variables\n",
    "name = \"Alice\"\n",
    "age = 25\n",
    "\n",
    "# Use f-string to embed variables (note the 'f' before the quotes)\n",
    "message = f\"My name is {name} and I am {age} years old\"\n",
    "print(message)\n",
    "```\n",
    "\n",
    "**Why this works:**\n",
    "F-strings (formatted string literals) let you embed variables directly in text using `{}`. Put an `f` before the quotes, then use `{variable_name}` to insert values. This is the modern, readable way to format strings in Python.\n",
    "\n",
    "</details>"
   ]
  },
  {
   "cell_type": "markdown",
   "metadata": {},
   "source": [
    "---\n",
    "\n",
    "## Learner Activity 5\n",
    "**Practice**: Working with different string types\n",
    "\n",
    "### Exercise 1: Personal F-String\n",
    "\n",
    "**Task**: Create variables for your name and favorite food, then use an f-string to create a sentence like \"My name is [name] and I love [food]\"\n",
    "\n",
    "**Expected Output**: `My name is Alice and I love pizza` (with your info)"
   ]
  },
  {
   "cell_type": "code",
   "execution_count": null,
   "metadata": {},
   "outputs": [],
   "source": [
    "# Your code here"
   ]
  },
  {
   "cell_type": "markdown",
   "metadata": {},
   "source": [
    "<details>\n",
    "<summary>Solution</summary>\n",
    "\n",
    "```python\n",
    "# Create variables\n",
    "name = \"Alice\"\n",
    "favorite_food = \"pizza\"\n",
    "\n",
    "# Use f-string to combine them\n",
    "sentence = f\"My name is {name} and I love {favorite_food}\"\n",
    "print(sentence)\n",
    "```\n",
    "\n",
    "**Why this works:**\n",
    "F-strings make it easy to build dynamic messages. In AI applications, you'll use this constantly to create prompts like `f\"Summarize this document: {document_text}\"`.\n",
    "\n",
    "</details>"
   ]
  },
  {
   "cell_type": "markdown",
   "metadata": {},
   "source": [
    "### Exercise 2: Multi-Line F-String\n",
    "\n",
    "**Task**: Create variables for name, hobby, and dream_job. Use an f-string with triple quotes to create a multi-line introduction\n",
    "\n",
    "**Expected Output**:\n",
    "```\n",
    "Hi, I'm Alice.\n",
    "I enjoy coding in my free time.\n",
    "My dream job is AI Engineer.\n",
    "```\n",
    "(with your information)"
   ]
  },
  {
   "cell_type": "code",
   "execution_count": null,
   "metadata": {},
   "outputs": [],
   "source": [
    "# Your code here"
   ]
  },
  {
   "cell_type": "markdown",
   "metadata": {},
   "source": [
    "<details>\n",
    "<summary>Solution</summary>\n",
    "\n",
    "```python\n",
    "# Create variables\n",
    "name = \"Alice\"\n",
    "hobby = \"coding\"\n",
    "dream_job = \"AI Engineer\"\n",
    "\n",
    "# Multi-line f-string\n",
    "intro = f\"\"\"Hi, I'm {name}.\n",
    "I enjoy {hobby} in my free time.\n",
    "My dream job is {dream_job}.\"\"\"\n",
    "\n",
    "print(intro)\n",
    "```\n",
    "\n",
    "**Why this works:**\n",
    "Combine the power of f-strings (variable embedding) with triple quotes (multi-line support) for complex, formatted output. Perfect for creating multi-paragraph prompts for LLMs!\n",
    "\n",
    "</details>"
   ]
  },
  {
   "cell_type": "markdown",
   "metadata": {},
   "source": [
    "---\n",
    "\n",
    "## Optional Extra Practice\n",
    "**Challenge yourself with these problems that integrate all the concepts**\n",
    "\n",
    "### Challenge 1: AI Model Info Card\n",
    "\n",
    "**Task**: Create variables for model_name (string), accuracy (float), and training_samples (integer). Use an f-string to create a formatted report.\n",
    "\n",
    "**Expected Output**:\n",
    "```\n",
    "Model: GPT-4\n",
    "Accuracy: 0.95\n",
    "Training Samples: 1000000\n",
    "Type: <class 'str'>\n",
    "```"
   ]
  },
  {
   "cell_type": "code",
   "execution_count": null,
   "metadata": {},
   "outputs": [],
   "source": [
    "# Your code here"
   ]
  },
  {
   "cell_type": "markdown",
   "metadata": {},
   "source": [
    "<details>\n",
    "<summary>Solution</summary>\n",
    "\n",
    "```python\n",
    "# Model information variables\n",
    "model_name = \"GPT-4\"\n",
    "accuracy = 0.95\n",
    "training_samples = 1000000\n",
    "\n",
    "# Create formatted report\n",
    "report = f\"\"\"Model: {model_name}\n",
    "Accuracy: {accuracy}\n",
    "Training Samples: {training_samples}\n",
    "Type: {type(model_name)}\"\"\"\n",
    "\n",
    "print(report)\n",
    "```\n",
    "\n",
    "**Why this works:**\n",
    "This combines all concepts:\n",
    "- Variables with different types (str, float, int)\n",
    "- Multi-line f-strings for formatting\n",
    "- Using `type()` function within an f-string\n",
    "- Comments for documentation\n",
    "\n",
    "This pattern is common in AI applications where you track model metadata.\n",
    "\n",
    "</details>"
   ]
  },
  {
   "cell_type": "markdown",
   "metadata": {},
   "source": [
    "### Challenge 2: RAG Context Builder\n",
    "\n",
    "**Task**: Create variables for `user_query`, `retrieved_doc`, and `confidence_score`. Build a prompt string that combines them for an LLM.\n",
    "\n",
    "**Expected Output**:\n",
    "```\n",
    "User Query: What is Python?\n",
    "Retrieved Context: Python is a programming language...\n",
    "Confidence: 0.89\n",
    "\n",
    "Please answer the user's query using the retrieved context.\n",
    "```"
   ]
  },
  {
   "cell_type": "code",
   "execution_count": null,
   "metadata": {},
   "outputs": [],
   "source": [
    "# Your code here"
   ]
  },
  {
   "cell_type": "markdown",
   "metadata": {},
   "source": [
    "<details>\n",
    "<summary>Solution</summary>\n",
    "\n",
    "```python\n",
    "# RAG pipeline variables\n",
    "user_query = \"What is Python?\"\n",
    "retrieved_doc = \"Python is a programming language...\"\n",
    "confidence_score = 0.89\n",
    "\n",
    "# Build LLM prompt\n",
    "llm_prompt = f\"\"\"User Query: {user_query}\n",
    "Retrieved Context: {retrieved_doc}\n",
    "Confidence: {confidence_score}\n",
    "\n",
    "Please answer the user's query using the retrieved context.\"\"\"\n",
    "\n",
    "print(llm_prompt)\n",
    "```\n",
    "\n",
    "**Why this works:**\n",
    "This is a realistic RAG (Retrieval-Augmented Generation) pattern:\n",
    "1. Store the user's question\n",
    "2. Store retrieved relevant context\n",
    "3. Store confidence/relevance score\n",
    "4. Combine into a prompt for the LLM\n",
    "\n",
    "F-strings make it easy to build dynamic prompts based on runtime data!\n",
    "\n",
    "</details>"
   ]
  }
 ],
 "metadata": {
  "kernelspec": {
   "display_name": "Python 3",
   "language": "python",
   "name": "python3"
  },
  "language_info": {
   "codemirror_mode": {
    "name": "ipython",
    "version": 3
   },
   "file_extension": ".py",
   "mimetype": "text/x-python",
   "name": "python",
   "nbconvert_exporter": "python",
   "pygments_lexer": "ipython3",
   "version": "3.8.0"
  }
 },
 "nbformat": 4,
 "nbformat_minor": 4
}
