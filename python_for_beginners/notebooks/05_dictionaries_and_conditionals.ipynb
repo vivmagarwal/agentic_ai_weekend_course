{
 "cells": [
  {
   "cell_type": "markdown",
   "metadata": {},
   "source": [
    "# Dictionaries and Conditionals in Python\n",
    "\n",
    "## Learning Objectives\n",
    "By the end of this section, you will be able to:\n",
    "- Create and manipulate dictionaries to store key-value pairs\n",
    "- Access, add, update, and remove dictionary entries\n",
    "- Use conditional statements (if, elif, else) to control program flow\n",
    "- Apply comparison operators to make decisions in code\n",
    "- Work with boolean values and logical expressions in AI/RAG contexts\n",
    "\n",
    "## Why This Matters: Real-World AI/RAG/Agentic Applications\n",
    "\n",
    "**In AI Systems:**\n",
    "- Dictionaries store model configurations, hyperparameters, and metadata\n",
    "- Conditionals control model behavior based on input types or confidence scores\n",
    "- Boolean logic determines when to trigger specific AI workflows\n",
    "\n",
    "**In RAG Pipelines:**\n",
    "- Dictionaries represent document metadata (source, timestamp, relevance scores)\n",
    "- Conditionals filter documents based on relevance thresholds\n",
    "- Boolean expressions combine multiple retrieval criteria (score AND recency)\n",
    "- Decision trees route queries to appropriate knowledge bases\n",
    "\n",
    "**In Agentic AI:**\n",
    "- Dictionaries structure agent states, tool parameters, and action results\n",
    "- Conditionals determine which tools/actions to execute based on context\n",
    "- Boolean logic chains together agent decision-making processes\n",
    "- Comparison operators validate action preconditions and success criteria\n",
    "\n",
    "## Prerequisites\n",
    "- Basic Python syntax (variables, print statements)\n",
    "- Understanding of strings and basic data types\n",
    "- Familiarity with lists (helpful but not required)"
   ]
  },
  {
   "cell_type": "markdown",
   "metadata": {},
   "source": [
    "---\n",
    "\n",
    "## Instructor Activity 1\n",
    "**Concept**: Introduction to dictionaries - creating and understanding key-value pairs\n",
    "\n",
    "### Example 1: Creating a Simple Dictionary\n",
    "\n",
    "**Problem**: Store information about a user in a structured way\n",
    "\n",
    "**Expected Output**: A dictionary with user information that can be easily accessed"
   ]
  },
  {
   "cell_type": "code",
   "execution_count": null,
   "metadata": {},
   "outputs": [],
   "source": [
    "# Empty cell for live demonstration"
   ]
  },
  {
   "cell_type": "markdown",
   "metadata": {},
   "source": [
    "<details>\n",
    "<summary>Solution</summary>\n",
    "\n",
    "```python\n",
    "# Create a dictionary using curly braces with key-value pairs\n",
    "user = {\n",
    "    \"name\": \"Alice\",\n",
    "    \"age\": 25,\n",
    "    \"role\": \"AI Engineer\"\n",
    "}\n",
    "\n",
    "print(\"User dictionary:\")\n",
    "print(user)\n",
    "print(f\"\\nType: {type(user)}\")\n",
    "# Output: {'name': 'Alice', 'age': 25, 'role': 'AI Engineer'}\n",
    "```\n",
    "\n",
    "**Why this works:**\n",
    "Dictionaries store data as key-value pairs using the syntax `{key: value, key2: value2}`. Keys are typically strings, and values can be any data type. This structure is perfect for representing structured data like user profiles, configurations, or metadata.\n",
    "\n",
    "</details>"
   ]
  },
  {
   "cell_type": "markdown",
   "metadata": {},
   "source": [
    "### Example 2: Dictionary for AI Model Configuration\n",
    "\n",
    "**Problem**: Store configuration parameters for an AI model\n",
    "\n",
    "**Expected Output**: Dictionary with model hyperparameters"
   ]
  },
  {
   "cell_type": "code",
   "execution_count": null,
   "metadata": {},
   "outputs": [],
   "source": [
    "# Empty cell for demonstration"
   ]
  },
  {
   "cell_type": "markdown",
   "metadata": {},
   "source": [
    "<details>\n",
    "<summary>Solution</summary>\n",
    "\n",
    "```python\n",
    "# Real-world AI example: model configuration dictionary\n",
    "model_config = {\n",
    "    \"model_name\": \"gpt-4\",\n",
    "    \"temperature\": 0.7,\n",
    "    \"max_tokens\": 1000,\n",
    "    \"top_p\": 0.9\n",
    "}\n",
    "\n",
    "print(\"Model Configuration:\")\n",
    "print(model_config)\n",
    "# Output: {'model_name': 'gpt-4', 'temperature': 0.7, 'max_tokens': 1000, 'top_p': 0.9}\n",
    "```\n",
    "\n",
    "**Why this works:**\n",
    "In AI systems, dictionaries are the standard way to pass configuration parameters. This structure makes it easy to modify settings without changing function signatures. Notice how values can be strings (\"gpt-4\"), floats (0.7), or integers (1000).\n",
    "\n",
    "</details>"
   ]
  },
  {
   "cell_type": "markdown",
   "metadata": {},
   "source": [
    "### Example 3: Nested Dictionary for RAG Document\n",
    "\n",
    "**Problem**: Represent a document with metadata in a RAG system\n",
    "\n",
    "**Expected Output**: Dictionary containing document content and nested metadata"
   ]
  },
  {
   "cell_type": "code",
   "execution_count": null,
   "metadata": {},
   "outputs": [],
   "source": [
    "# Empty cell for demonstration"
   ]
  },
  {
   "cell_type": "markdown",
   "metadata": {},
   "source": [
    "<details>\n",
    "<summary>Solution</summary>\n",
    "\n",
    "```python\n",
    "# RAG system example: document with nested metadata\n",
    "document = {\n",
    "    \"content\": \"Python is a versatile programming language\",\n",
    "    \"metadata\": {\n",
    "        \"source\": \"documentation.pdf\",\n",
    "        \"page\": 5,\n",
    "        \"score\": 0.92\n",
    "    }\n",
    "}\n",
    "\n",
    "print(\"Document:\")\n",
    "print(document)\n",
    "# Output shows nested structure with metadata dictionary inside main dictionary\n",
    "```\n",
    "\n",
    "**Why this works:**\n",
    "Dictionaries can contain other dictionaries (nested dictionaries). This is common in RAG systems where documents have both content and rich metadata. The nested structure keeps related information organized hierarchically.\n",
    "\n",
    "</details>"
   ]
  },
  {
   "cell_type": "markdown",
   "metadata": {},
   "source": [
    "---\n",
    "\n",
    "## Learner Activity 1\n",
    "**Practice**: Creating dictionaries with key-value pairs\n",
    "\n",
    "### Exercise 1: Create a Book Dictionary\n",
    "\n",
    "**Task**: Create a dictionary to store information about a book with keys: \"title\", \"author\", \"year\", and \"pages\"\n",
    "\n",
    "**Expected Output**: Dictionary with book information"
   ]
  },
  {
   "cell_type": "code",
   "execution_count": null,
   "metadata": {},
   "outputs": [],
   "source": [
    "# Your code here\n",
    "# Create a dictionary called 'book' with the required keys"
   ]
  },
  {
   "cell_type": "markdown",
   "metadata": {},
   "source": [
    "<details>\n",
    "<summary>Solution</summary>\n",
    "\n",
    "```python\n",
    "# Create a book dictionary\n",
    "book = {\n",
    "    \"title\": \"The Python Handbook\",\n",
    "    \"author\": \"John Doe\",\n",
    "    \"year\": 2023,\n",
    "    \"pages\": 450\n",
    "}\n",
    "\n",
    "print(\"Book information:\")\n",
    "print(book)\n",
    "```\n",
    "\n",
    "**Why this works:**\n",
    "We create a dictionary with four key-value pairs. Keys are strings (\"title\", \"author\", etc.), and values can be different types - strings for title/author, integers for year/pages.\n",
    "\n",
    "</details>"
   ]
  },
  {
   "cell_type": "markdown",
   "metadata": {},
   "source": [
    "### Exercise 2: RAG Retrieval Result\n",
    "\n",
    "**Task**: Create a dictionary representing a retrieved document chunk in a RAG system with keys: \"text\", \"relevance_score\", and \"source\"\n",
    "\n",
    "**Example values**: \n",
    "- text: \"Machine learning is a subset of AI\"\n",
    "- relevance_score: 0.87\n",
    "- source: \"ai_textbook.pdf\"\n",
    "\n",
    "**Expected Output**: Dictionary representing a RAG result"
   ]
  },
  {
   "cell_type": "code",
   "execution_count": null,
   "metadata": {},
   "outputs": [],
   "source": [
    "# Your code here\n",
    "# Create a dictionary called 'rag_result' with the required keys"
   ]
  },
  {
   "cell_type": "markdown",
   "metadata": {},
   "source": [
    "<details>\n",
    "<summary>Solution</summary>\n",
    "\n",
    "```python\n",
    "# Create a RAG retrieval result dictionary\n",
    "rag_result = {\n",
    "    \"text\": \"Machine learning is a subset of AI\",\n",
    "    \"relevance_score\": 0.87,\n",
    "    \"source\": \"ai_textbook.pdf\"\n",
    "}\n",
    "\n",
    "print(\"RAG retrieval result:\")\n",
    "print(rag_result)\n",
    "```\n",
    "\n",
    "**Why this works:**\n",
    "This dictionary structure is typical in RAG systems. The text holds the retrieved content, the relevance_score (float between 0-1) indicates how well it matches the query, and source tracks where it came from for citations.\n",
    "\n",
    "</details>"
   ]
  },
  {
   "cell_type": "markdown",
   "metadata": {},
   "source": [
    "---\n",
    "\n",
    "## Instructor Activity 2\n",
    "**Concept**: Accessing dictionary values using keys\n",
    "\n",
    "### Example 1: Basic Dictionary Access\n",
    "\n",
    "**Problem**: Retrieve specific values from a dictionary\n",
    "\n",
    "**Expected Output**: Individual values extracted from the dictionary"
   ]
  },
  {
   "cell_type": "code",
   "execution_count": null,
   "metadata": {},
   "outputs": [],
   "source": [
    "# Empty cell for demonstration"
   ]
  },
  {
   "cell_type": "markdown",
   "metadata": {},
   "source": [
    "<details>\n",
    "<summary>Solution</summary>\n",
    "\n",
    "```python\n",
    "# Create a user dictionary\n",
    "user = {\n",
    "    \"name\": \"Bob\",\n",
    "    \"age\": 30,\n",
    "    \"email\": \"bob@example.com\"\n",
    "}\n",
    "\n",
    "# Access values using square brackets with the key\n",
    "name = user[\"name\"]\n",
    "age = user[\"age\"]\n",
    "\n",
    "print(f\"Name: {name}\")\n",
    "print(f\"Age: {age}\")\n",
    "# Output: Name: Bob\n",
    "#         Age: 30\n",
    "```\n",
    "\n",
    "**Why this works:**\n",
    "Use square bracket notation `dictionary[key]` to access values. This is like asking \"what's stored under this key?\" Keys act as labels that let you retrieve specific pieces of information from the dictionary.\n",
    "\n",
    "</details>"
   ]
  },
  {
   "cell_type": "markdown",
   "metadata": {},
   "source": [
    "### Example 2: Safe Access with .get()\n",
    "\n",
    "**Problem**: Access dictionary values safely without causing errors for missing keys\n",
    "\n",
    "**Expected Output**: Values retrieved safely with defaults for missing keys"
   ]
  },
  {
   "cell_type": "code",
   "execution_count": null,
   "metadata": {},
   "outputs": [],
   "source": [
    "# Empty cell for demonstration"
   ]
  },
  {
   "cell_type": "markdown",
   "metadata": {},
   "source": [
    "<details>\n",
    "<summary>Solution</summary>\n",
    "\n",
    "```python\n",
    "# AI agent configuration\n",
    "agent_config = {\n",
    "    \"name\": \"research_agent\",\n",
    "    \"max_iterations\": 5\n",
    "}\n",
    "\n",
    "# Safe access using .get() - returns None if key doesn't exist\n",
    "name = agent_config.get(\"name\")\n",
    "timeout = agent_config.get(\"timeout\")  # This key doesn't exist\n",
    "timeout_with_default = agent_config.get(\"timeout\", 30)  # Provide default value\n",
    "\n",
    "print(f\"Name: {name}\")\n",
    "print(f\"Timeout: {timeout}\")  # None\n",
    "print(f\"Timeout with default: {timeout_with_default}\")  # 30\n",
    "```\n",
    "\n",
    "**Why this works:**\n",
    "The `.get()` method is safer than `[]` because it returns `None` (or a default value you specify) instead of crashing with an error when a key doesn't exist. This is crucial in AI systems where configurations might have optional parameters.\n",
    "\n",
    "</details>"
   ]
  },
  {
   "cell_type": "markdown",
   "metadata": {},
   "source": [
    "### Example 3: Accessing Nested Dictionary Values\n",
    "\n",
    "**Problem**: Extract values from nested dictionaries (dictionaries within dictionaries)\n",
    "\n",
    "**Expected Output**: Values from nested structure"
   ]
  },
  {
   "cell_type": "code",
   "execution_count": null,
   "metadata": {},
   "outputs": [],
   "source": [
    "# Empty cell for demonstration"
   ]
  },
  {
   "cell_type": "markdown",
   "metadata": {},
   "source": [
    "<details>\n",
    "<summary>Solution</summary>\n",
    "\n",
    "```python\n",
    "# RAG document with nested metadata\n",
    "document = {\n",
    "    \"content\": \"Introduction to Neural Networks\",\n",
    "    \"metadata\": {\n",
    "        \"source\": \"ml_textbook.pdf\",\n",
    "        \"page\": 42,\n",
    "        \"score\": 0.95\n",
    "    }\n",
    "}\n",
    "\n",
    "# Access nested values using chained brackets\n",
    "content = document[\"content\"]\n",
    "source = document[\"metadata\"][\"source\"]  # First get metadata dict, then get source\n",
    "score = document[\"metadata\"][\"score\"]\n",
    "\n",
    "print(f\"Content: {content}\")\n",
    "print(f\"Source: {source}\")\n",
    "print(f\"Relevance Score: {score}\")\n",
    "```\n",
    "\n",
    "**Why this works:**\n",
    "To access nested values, chain brackets: `dict[\"outer_key\"][\"inner_key\"]`. First bracket gets the nested dictionary, second bracket gets the value from within it. This pattern is common in RAG systems where documents have rich, hierarchical metadata.\n",
    "\n",
    "</details>"
   ]
  },
  {
   "cell_type": "markdown",
   "metadata": {},
   "source": [
    "---\n",
    "\n",
    "## Learner Activity 2\n",
    "**Practice**: Accessing dictionary values\n",
    "\n",
    "### Exercise 1: Extract User Information\n",
    "\n",
    "**Task**: Given a user dictionary, extract and print the name and city\n",
    "\n",
    "**Given**:\n",
    "```python\n",
    "user = {\n",
    "    \"name\": \"Charlie\",\n",
    "    \"age\": 28,\n",
    "    \"city\": \"San Francisco\"\n",
    "}\n",
    "```\n",
    "\n",
    "**Expected Output**: \n",
    "```\n",
    "Name: Charlie\n",
    "City: San Francisco\n",
    "```"
   ]
  },
  {
   "cell_type": "code",
   "execution_count": null,
   "metadata": {},
   "outputs": [],
   "source": [
    "# Your code here\n",
    "user = {\n",
    "    \"name\": \"Charlie\",\n",
    "    \"age\": 28,\n",
    "    \"city\": \"San Francisco\"\n",
    "}\n",
    "\n",
    "# Extract name and city, then print them"
   ]
  },
  {
   "cell_type": "markdown",
   "metadata": {},
   "source": [
    "<details>\n",
    "<summary>Solution</summary>\n",
    "\n",
    "```python\n",
    "user = {\n",
    "    \"name\": \"Charlie\",\n",
    "    \"age\": 28,\n",
    "    \"city\": \"San Francisco\"\n",
    "}\n",
    "\n",
    "# Access values using keys\n",
    "name = user[\"name\"]\n",
    "city = user[\"city\"]\n",
    "\n",
    "print(f\"Name: {name}\")\n",
    "print(f\"City: {city}\")\n",
    "```\n",
    "\n",
    "**Why this works:**\n",
    "We use the key names in square brackets to extract specific values from the dictionary. The keys \"name\" and \"city\" act as labels that point to their corresponding values.\n",
    "\n",
    "</details>"
   ]
  },
  {
   "cell_type": "markdown",
   "metadata": {},
   "source": [
    "### Exercise 2: Safe Access for AI Model Parameters\n",
    "\n",
    "**Task**: Access model parameters safely, providing defaults for missing values\n",
    "\n",
    "**Given**:\n",
    "```python\n",
    "model_params = {\n",
    "    \"temperature\": 0.8,\n",
    "    \"max_tokens\": 500\n",
    "}\n",
    "```\n",
    "\n",
    "**Task**: Get temperature, max_tokens, and top_p (which doesn't exist, use default 1.0)\n",
    "\n",
    "**Expected Output**: \n",
    "```\n",
    "Temperature: 0.8\n",
    "Max Tokens: 500\n",
    "Top P: 1.0\n",
    "```"
   ]
  },
  {
   "cell_type": "code",
   "execution_count": null,
   "metadata": {},
   "outputs": [],
   "source": [
    "# Your code here\n",
    "model_params = {\n",
    "    \"temperature\": 0.8,\n",
    "    \"max_tokens\": 500\n",
    "}\n",
    "\n",
    "# Use .get() to access values safely with defaults"
   ]
  },
  {
   "cell_type": "markdown",
   "metadata": {},
   "source": [
    "<details>\n",
    "<summary>Solution</summary>\n",
    "\n",
    "```python\n",
    "model_params = {\n",
    "    \"temperature\": 0.8,\n",
    "    \"max_tokens\": 500\n",
    "}\n",
    "\n",
    "# Use .get() for safe access with defaults\n",
    "temperature = model_params.get(\"temperature\")\n",
    "max_tokens = model_params.get(\"max_tokens\")\n",
    "top_p = model_params.get(\"top_p\", 1.0)  # Default to 1.0 if not found\n",
    "\n",
    "print(f\"Temperature: {temperature}\")\n",
    "print(f\"Max Tokens: {max_tokens}\")\n",
    "print(f\"Top P: {top_p}\")\n",
    "```\n",
    "\n",
    "**Why this works:**\n",
    "The `.get()` method allows us to provide default values for missing keys. This is essential in AI systems where some parameters might be optional, and we want sensible defaults rather than errors.\n",
    "\n",
    "</details>"
   ]
  },
  {
   "cell_type": "markdown",
   "metadata": {},
   "source": [
    "---\n",
    "\n",
    "## Instructor Activity 3\n",
    "**Concept**: Modifying dictionaries - adding, updating, and removing entries\n",
    "\n",
    "### Example 1: Adding and Updating Dictionary Entries\n",
    "\n",
    "**Problem**: Add new keys and update existing values in a dictionary\n",
    "\n",
    "**Expected Output**: Modified dictionary with new and updated values"
   ]
  },
  {
   "cell_type": "code",
   "execution_count": null,
   "metadata": {},
   "outputs": [],
   "source": [
    "# Empty cell for demonstration"
   ]
  },
  {
   "cell_type": "markdown",
   "metadata": {},
   "source": [
    "<details>\n",
    "<summary>Solution</summary>\n",
    "\n",
    "```python\n",
    "# Start with a basic user profile\n",
    "user = {\n",
    "    \"name\": \"Diana\",\n",
    "    \"role\": \"Developer\"\n",
    "}\n",
    "\n",
    "print(\"Original:\", user)\n",
    "\n",
    "# Add a new key-value pair\n",
    "user[\"email\"] = \"diana@example.com\"\n",
    "\n",
    "# Update an existing value\n",
    "user[\"role\"] = \"Senior Developer\"\n",
    "\n",
    "print(\"Modified:\", user)\n",
    "# Output: {'name': 'Diana', 'role': 'Senior Developer', 'email': 'diana@example.com'}\n",
    "```\n",
    "\n",
    "**Why this works:**\n",
    "Use `dict[key] = value` to both add new keys and update existing ones. If the key exists, it updates the value; if not, it creates a new entry. This makes dictionaries mutable and flexible for storing changing data.\n",
    "\n",
    "</details>"
   ]
  },
  {
   "cell_type": "markdown",
   "metadata": {},
   "source": [
    "### Example 2: Removing Dictionary Entries\n",
    "\n",
    "**Problem**: Remove unwanted keys from a dictionary\n",
    "\n",
    "**Expected Output**: Dictionary with specific keys removed"
   ]
  },
  {
   "cell_type": "code",
   "execution_count": null,
   "metadata": {},
   "outputs": [],
   "source": [
    "# Empty cell for demonstration"
   ]
  },
  {
   "cell_type": "markdown",
   "metadata": {},
   "source": [
    "<details>\n",
    "<summary>Solution</summary>\n",
    "\n",
    "```python\n",
    "# Agent state with temporary data\n",
    "agent_state = {\n",
    "    \"task\": \"web_search\",\n",
    "    \"status\": \"completed\",\n",
    "    \"temp_data\": \"cache_123\",\n",
    "    \"result\": \"Search results found\"\n",
    "}\n",
    "\n",
    "print(\"Before removal:\", agent_state)\n",
    "\n",
    "# Remove the temporary data using del\n",
    "del agent_state[\"temp_data\"]\n",
    "\n",
    "# Alternative: use .pop() which also returns the removed value\n",
    "status = agent_state.pop(\"status\")\n",
    "\n",
    "print(\"After removal:\", agent_state)\n",
    "print(f\"Removed status was: {status}\")\n",
    "```\n",
    "\n",
    "**Why this works:**\n",
    "Two ways to remove entries: `del dict[key]` removes the entry, while `dict.pop(key)` removes it AND returns the value. Use `pop()` when you need the removed value, `del` when you don't. This is useful for cleaning up temporary data in AI agent states.\n",
    "\n",
    "</details>"
   ]
  },
  {
   "cell_type": "markdown",
   "metadata": {},
   "source": [
    "### Example 3: Updating Multiple Values with .update()\n",
    "\n",
    "**Problem**: Update multiple dictionary entries at once\n",
    "\n",
    "**Expected Output**: Dictionary updated with multiple new values"
   ]
  },
  {
   "cell_type": "code",
   "execution_count": null,
   "metadata": {},
   "outputs": [],
   "source": [
    "# Empty cell for demonstration"
   ]
  },
  {
   "cell_type": "markdown",
   "metadata": {},
   "source": [
    "<details>\n",
    "<summary>Solution</summary>\n",
    "\n",
    "```python\n",
    "# Base model configuration\n",
    "config = {\n",
    "    \"model\": \"gpt-3.5-turbo\",\n",
    "    \"temperature\": 0.5\n",
    "}\n",
    "\n",
    "print(\"Original config:\", config)\n",
    "\n",
    "# Update multiple values at once\n",
    "config.update({\n",
    "    \"temperature\": 0.7,\n",
    "    \"max_tokens\": 2000,\n",
    "    \"top_p\": 0.95\n",
    "})\n",
    "\n",
    "print(\"Updated config:\", config)\n",
    "```\n",
    "\n",
    "**Why this works:**\n",
    "The `.update()` method merges another dictionary into the current one. Existing keys get updated, new keys get added. This is efficient for batch updates common in AI model configuration management.\n",
    "\n",
    "</details>"
   ]
  },
  {
   "cell_type": "markdown",
   "metadata": {},
   "source": [
    "---\n",
    "\n",
    "## Learner Activity 3\n",
    "**Practice**: Modifying dictionaries\n",
    "\n",
    "### Exercise 1: Update Product Information\n",
    "\n",
    "**Task**: \n",
    "1. Add a \"price\" key with value 29.99\n",
    "2. Update the \"stock\" value to 150\n",
    "3. Print the modified dictionary\n",
    "\n",
    "**Given**:\n",
    "```python\n",
    "product = {\n",
    "    \"name\": \"Laptop\",\n",
    "    \"stock\": 100\n",
    "}\n",
    "```\n",
    "\n",
    "**Expected Output**: Dictionary with price added and stock updated"
   ]
  },
  {
   "cell_type": "code",
   "execution_count": null,
   "metadata": {},
   "outputs": [],
   "source": [
    "# Your code here\n",
    "product = {\n",
    "    \"name\": \"Laptop\",\n",
    "    \"stock\": 100\n",
    "}\n",
    "\n",
    "# Add price and update stock"
   ]
  },
  {
   "cell_type": "markdown",
   "metadata": {},
   "source": [
    "<details>\n",
    "<summary>Solution</summary>\n",
    "\n",
    "```python\n",
    "product = {\n",
    "    \"name\": \"Laptop\",\n",
    "    \"stock\": 100\n",
    "}\n",
    "\n",
    "# Add new key\n",
    "product[\"price\"] = 29.99\n",
    "\n",
    "# Update existing key\n",
    "product[\"stock\"] = 150\n",
    "\n",
    "print(\"Updated product:\", product)\n",
    "```\n",
    "\n",
    "**Why this works:**\n",
    "Assignment with `dict[key] = value` works for both adding new keys and updating existing ones. Python automatically determines whether to create a new entry or modify an existing one.\n",
    "\n",
    "</details>"
   ]
  },
  {
   "cell_type": "markdown",
   "metadata": {},
   "source": [
    "### Exercise 2: Clean Agent Response\n",
    "\n",
    "**Task**: Remove the \"internal_state\" and \"debug_info\" keys from an agent response dictionary\n",
    "\n",
    "**Given**:\n",
    "```python\n",
    "agent_response = {\n",
    "    \"action\": \"search\",\n",
    "    \"result\": \"Found 5 documents\",\n",
    "    \"internal_state\": \"processing_queue\",\n",
    "    \"debug_info\": \"memory_usage_high\"\n",
    "}\n",
    "```\n",
    "\n",
    "**Expected Output**: Dictionary with only \"action\" and \"result\" keys"
   ]
  },
  {
   "cell_type": "code",
   "execution_count": null,
   "metadata": {},
   "outputs": [],
   "source": [
    "# Your code here\n",
    "agent_response = {\n",
    "    \"action\": \"search\",\n",
    "    \"result\": \"Found 5 documents\",\n",
    "    \"internal_state\": \"processing_queue\",\n",
    "    \"debug_info\": \"memory_usage_high\"\n",
    "}\n",
    "\n",
    "# Remove internal_state and debug_info"
   ]
  },
  {
   "cell_type": "markdown",
   "metadata": {},
   "source": [
    "<details>\n",
    "<summary>Solution</summary>\n",
    "\n",
    "```python\n",
    "agent_response = {\n",
    "    \"action\": \"search\",\n",
    "    \"result\": \"Found 5 documents\",\n",
    "    \"internal_state\": \"processing_queue\",\n",
    "    \"debug_info\": \"memory_usage_high\"\n",
    "}\n",
    "\n",
    "# Remove unwanted keys\n",
    "del agent_response[\"internal_state\"]\n",
    "del agent_response[\"debug_info\"]\n",
    "\n",
    "print(\"Cleaned response:\", agent_response)\n",
    "```\n",
    "\n",
    "**Why this works:**\n",
    "The `del` statement removes keys from dictionaries. This is useful in agentic AI when you need to clean internal/debug information before returning results to users.\n",
    "\n",
    "</details>"
   ]
  },
  {
   "cell_type": "markdown",
   "metadata": {},
   "source": [
    "---\n",
    "\n",
    "## Instructor Activity 4\n",
    "**Concept**: Introduction to conditionals - if statements and boolean values\n",
    "\n",
    "### Example 1: Simple if Statement\n",
    "\n",
    "**Problem**: Check if a user is an adult (age >= 18)\n",
    "\n",
    "**Expected Output**: Message based on age condition"
   ]
  },
  {
   "cell_type": "code",
   "execution_count": null,
   "metadata": {},
   "outputs": [],
   "source": [
    "# Empty cell for demonstration"
   ]
  },
  {
   "cell_type": "markdown",
   "metadata": {},
   "source": [
    "<details>\n",
    "<summary>Solution</summary>\n",
    "\n",
    "```python\n",
    "# Check if user is an adult\n",
    "age = 20\n",
    "\n",
    "if age >= 18:\n",
    "    print(\"User is an adult\")\n",
    "    print(\"Access granted\")\n",
    "\n",
    "print(\"Check complete\")\n",
    "# Output: User is an adult\n",
    "#         Access granted\n",
    "#         Check complete\n",
    "```\n",
    "\n",
    "**Why this works:**\n",
    "An `if` statement checks a condition (boolean expression). If the condition is True, the indented code block executes. If False, Python skips that block. The `>=` operator compares values and returns a boolean (True/False). Code after the if block always runs.\n",
    "\n",
    "</details>"
   ]
  },
  {
   "cell_type": "markdown",
   "metadata": {},
   "source": [
    "### Example 2: Boolean Values and Comparison Operators\n",
    "\n",
    "**Problem**: Understand boolean values and comparison operators\n",
    "\n",
    "**Expected Output**: Demonstration of True/False values and comparisons"
   ]
  },
  {
   "cell_type": "code",
   "execution_count": null,
   "metadata": {},
   "outputs": [],
   "source": [
    "# Empty cell for demonstration"
   ]
  },
  {
   "cell_type": "markdown",
   "metadata": {},
   "source": [
    "<details>\n",
    "<summary>Solution</summary>\n",
    "\n",
    "```python\n",
    "# Boolean values are either True or False\n",
    "is_active = True\n",
    "is_blocked = False\n",
    "\n",
    "print(f\"is_active: {is_active}\")\n",
    "print(f\"Type: {type(is_active)}\")\n",
    "\n",
    "# Comparison operators return boolean values\n",
    "score = 0.85\n",
    "\n",
    "print(f\"\\nScore comparisons:\")\n",
    "print(f\"score > 0.7: {score > 0.7}\")    # Greater than\n",
    "print(f\"score < 0.9: {score < 0.9}\")    # Less than\n",
    "print(f\"score >= 0.85: {score >= 0.85}\")  # Greater than or equal\n",
    "print(f\"score <= 0.80: {score <= 0.80}\")  # Less than or equal\n",
    "print(f\"score == 0.85: {score == 0.85}\")  # Equal to\n",
    "print(f\"score != 0.90: {score != 0.90}\")  # Not equal to\n",
    "```\n",
    "\n",
    "**Why this works:**\n",
    "Boolean is a data type with only two values: True and False. Comparison operators (>, <, >=, <=, ==, !=) evaluate expressions and return boolean values. These are the building blocks of conditional logic in all programming.\n",
    "\n",
    "</details>"
   ]
  },
  {
   "cell_type": "markdown",
   "metadata": {},
   "source": [
    "### Example 3: Using if with RAG Relevance Scores\n",
    "\n",
    "**Problem**: Check if a retrieved document meets the relevance threshold\n",
    "\n",
    "**Expected Output**: Message indicating if document is relevant enough"
   ]
  },
  {
   "cell_type": "code",
   "execution_count": null,
   "metadata": {},
   "outputs": [],
   "source": [
    "# Empty cell for demonstration"
   ]
  },
  {
   "cell_type": "markdown",
   "metadata": {},
   "source": [
    "<details>\n",
    "<summary>Solution</summary>\n",
    "\n",
    "```python\n",
    "# RAG document with relevance score\n",
    "document = {\n",
    "    \"text\": \"Python is great for AI\",\n",
    "    \"score\": 0.92\n",
    "}\n",
    "\n",
    "# Define relevance threshold\n",
    "RELEVANCE_THRESHOLD = 0.8\n",
    "\n",
    "# Check if document meets threshold\n",
    "if document[\"score\"] >= RELEVANCE_THRESHOLD:\n",
    "    print(f\"Document is relevant (score: {document['score']})\")\n",
    "    print(f\"Content: {document['text']}\")\n",
    "```\n",
    "\n",
    "**Why this works:**\n",
    "In RAG systems, we filter documents by relevance scores. This if statement checks if the score meets our threshold before including the document. Constants like RELEVANCE_THRESHOLD make it easy to adjust filtering criteria.\n",
    "\n",
    "</details>"
   ]
  },
  {
   "cell_type": "markdown",
   "metadata": {},
   "source": [
    "---\n",
    "\n",
    "## Learner Activity 4\n",
    "**Practice**: Using if statements and boolean values\n",
    "\n",
    "### Exercise 1: Temperature Check\n",
    "\n",
    "**Task**: Write an if statement to check if temperature is above 30, and print \"It's hot!\" if true\n",
    "\n",
    "**Given**: `temperature = 35`\n",
    "\n",
    "**Expected Output**: `It's hot!`"
   ]
  },
  {
   "cell_type": "code",
   "execution_count": null,
   "metadata": {},
   "outputs": [],
   "source": [
    "# Your code here\n",
    "temperature = 35\n",
    "\n",
    "# Write an if statement to check if temperature > 30"
   ]
  },
  {
   "cell_type": "markdown",
   "metadata": {},
   "source": [
    "<details>\n",
    "<summary>Solution</summary>\n",
    "\n",
    "```python\n",
    "temperature = 35\n",
    "\n",
    "if temperature > 30:\n",
    "    print(\"It's hot!\")\n",
    "```\n",
    "\n",
    "**Why this works:**\n",
    "The condition `temperature > 30` evaluates to True (35 > 30), so the indented code block executes and prints the message. Remember to indent the code inside the if block.\n",
    "\n",
    "</details>"
   ]
  },
  {
   "cell_type": "markdown",
   "metadata": {},
   "source": [
    "### Exercise 2: AI Confidence Check\n",
    "\n",
    "**Task**: Check if an AI model's confidence score is high enough (>= 0.9) to execute an action\n",
    "\n",
    "**Given**:\n",
    "```python\n",
    "action = {\n",
    "    \"name\": \"delete_file\",\n",
    "    \"confidence\": 0.95\n",
    "}\n",
    "```\n",
    "\n",
    "**Expected Output**: Print \"High confidence - executing action\" if confidence >= 0.9"
   ]
  },
  {
   "cell_type": "code",
   "execution_count": null,
   "metadata": {},
   "outputs": [],
   "source": [
    "# Your code here\n",
    "action = {\n",
    "    \"name\": \"delete_file\",\n",
    "    \"confidence\": 0.95\n",
    "}\n",
    "\n",
    "# Check if confidence >= 0.9 and print message"
   ]
  },
  {
   "cell_type": "markdown",
   "metadata": {},
   "source": [
    "<details>\n",
    "<summary>Solution</summary>\n",
    "\n",
    "```python\n",
    "action = {\n",
    "    \"name\": \"delete_file\",\n",
    "    \"confidence\": 0.95\n",
    "}\n",
    "\n",
    "if action[\"confidence\"] >= 0.9:\n",
    "    print(\"High confidence - executing action\")\n",
    "```\n",
    "\n",
    "**Why this works:**\n",
    "We access the confidence score from the dictionary and compare it to our threshold (0.9). In agentic AI, we often require high confidence before executing potentially dangerous actions like file deletion.\n",
    "\n",
    "</details>"
   ]
  },
  {
   "cell_type": "markdown",
   "metadata": {},
   "source": [
    "---\n",
    "\n",
    "## Instructor Activity 5\n",
    "**Concept**: if-else statements for binary decisions\n",
    "\n",
    "### Example 1: Basic if-else\n",
    "\n",
    "**Problem**: Provide different messages based on whether a condition is true or false\n",
    "\n",
    "**Expected Output**: One of two possible messages"
   ]
  },
  {
   "cell_type": "code",
   "execution_count": null,
   "metadata": {},
   "outputs": [],
   "source": [
    "# Empty cell for demonstration"
   ]
  },
  {
   "cell_type": "markdown",
   "metadata": {},
   "source": [
    "<details>\n",
    "<summary>Solution</summary>\n",
    "\n",
    "```python\n",
    "# Check access based on age\n",
    "age = 16\n",
    "\n",
    "if age >= 18:\n",
    "    print(\"Access granted\")\n",
    "    print(\"Welcome to the adult section\")\n",
    "else:\n",
    "    print(\"Access denied\")\n",
    "    print(\"You must be 18 or older\")\n",
    "\n",
    "# Output: Access denied\n",
    "#         You must be 18 or older\n",
    "```\n",
    "\n",
    "**Why this works:**\n",
    "The `else` block provides an alternative action when the if condition is False. This creates binary decision-making: one path if True, another if False. Only one block executes, never both.\n",
    "\n",
    "</details>"
   ]
  },
  {
   "cell_type": "markdown",
   "metadata": {},
   "source": [
    "### Example 2: if-else with RAG Document Filtering\n",
    "\n",
    "**Problem**: Decide whether to use a retrieved document based on its relevance score\n",
    "\n",
    "**Expected Output**: Different actions based on score threshold"
   ]
  },
  {
   "cell_type": "code",
   "execution_count": null,
   "metadata": {},
   "outputs": [],
   "source": [
    "# Empty cell for demonstration"
   ]
  },
  {
   "cell_type": "markdown",
   "metadata": {},
   "source": [
    "<details>\n",
    "<summary>Solution</summary>\n",
    "\n",
    "```python\n",
    "# Retrieved document from RAG system\n",
    "document = {\n",
    "    \"text\": \"Introduction to machine learning\",\n",
    "    \"score\": 0.65\n",
    "}\n",
    "\n",
    "THRESHOLD = 0.7\n",
    "\n",
    "if document[\"score\"] >= THRESHOLD:\n",
    "    print(\"Document meets relevance threshold\")\n",
    "    print(f\"Including in context: {document['text']}\")\n",
    "else:\n",
    "    print(\"Document below relevance threshold\")\n",
    "    print(f\"Score {document['score']} < {THRESHOLD} - skipping\")\n",
    "\n",
    "# Output: Document below relevance threshold\n",
    "#         Score 0.65 < 0.7 - skipping\n",
    "```\n",
    "\n",
    "**Why this works:**\n",
    "In RAG systems, if-else controls whether documents get included in the LLM context. High-scoring docs get included (if block), low-scoring ones get filtered out (else block). This prevents irrelevant information from cluttering the context.\n",
    "\n",
    "</details>"
   ]
  },
  {
   "cell_type": "markdown",
   "metadata": {},
   "source": [
    "### Example 3: if-else with Agent Action Validation\n",
    "\n",
    "**Problem**: Validate if an agent should execute an action based on confidence\n",
    "\n",
    "**Expected Output**: Execute or abort based on confidence threshold"
   ]
  },
  {
   "cell_type": "code",
   "execution_count": null,
   "metadata": {},
   "outputs": [],
   "source": [
    "# Empty cell for demonstration"
   ]
  },
  {
   "cell_type": "markdown",
   "metadata": {},
   "source": [
    "<details>\n",
    "<summary>Solution</summary>\n",
    "\n",
    "```python\n",
    "# Agent proposed action\n",
    "action = {\n",
    "    \"type\": \"send_email\",\n",
    "    \"confidence\": 0.88,\n",
    "    \"to\": \"user@example.com\"\n",
    "}\n",
    "\n",
    "MIN_CONFIDENCE = 0.9\n",
    "\n",
    "if action[\"confidence\"] >= MIN_CONFIDENCE:\n",
    "    print(f\"Executing action: {action['type']}\")\n",
    "    print(f\"Confidence: {action['confidence']}\")\n",
    "else:\n",
    "    print(f\"Action confidence too low: {action['confidence']}\")\n",
    "    print(f\"Requires human approval (minimum: {MIN_CONFIDENCE})\")\n",
    "\n",
    "# Output: Action confidence too low: 0.88\n",
    "#         Requires human approval (minimum: 0.9)\n",
    "```\n",
    "\n",
    "**Why this works:**\n",
    "Agentic AI uses confidence thresholds to decide autonomy. High-confidence actions execute automatically (if), low-confidence actions require human review (else). This balance enables automation while maintaining safety.\n",
    "\n",
    "</details>"
   ]
  },
  {
   "cell_type": "markdown",
   "metadata": {},
   "source": [
    "---\n",
    "\n",
    "## Learner Activity 5\n",
    "**Practice**: Using if-else statements\n",
    "\n",
    "### Exercise 1: Even or Odd\n",
    "\n",
    "**Task**: Write an if-else statement to check if a number is even or odd\n",
    "\n",
    "**Given**: `number = 7`\n",
    "\n",
    "**Hint**: A number is even if `number % 2 == 0`\n",
    "\n",
    "**Expected Output**: \n",
    "```\n",
    "7 is odd\n",
    "```"
   ]
  },
  {
   "cell_type": "code",
   "execution_count": null,
   "metadata": {},
   "outputs": [],
   "source": [
    "# Your code here\n",
    "number = 7\n",
    "\n",
    "# Write if-else to check if number is even or odd"
   ]
  },
  {
   "cell_type": "markdown",
   "metadata": {},
   "source": [
    "<details>\n",
    "<summary>Solution</summary>\n",
    "\n",
    "```python\n",
    "number = 7\n",
    "\n",
    "if number % 2 == 0:\n",
    "    print(f\"{number} is even\")\n",
    "else:\n",
    "    print(f\"{number} is odd\")\n",
    "```\n",
    "\n",
    "**Why this works:**\n",
    "The modulo operator `%` returns the remainder of division. If `number % 2` equals 0, the number is even (divisible by 2). Otherwise, it's odd. The if-else ensures exactly one message prints.\n",
    "\n",
    "</details>"
   ]
  },
  {
   "cell_type": "markdown",
   "metadata": {},
   "source": [
    "### Exercise 2: Password Strength Check\n",
    "\n",
    "**Task**: Check if a password is strong (length >= 8 characters)\n",
    "\n",
    "**Given**: `password = \"abc123\"`\n",
    "\n",
    "**Expected Output**: \n",
    "```\n",
    "Weak password - must be at least 8 characters\n",
    "```"
   ]
  },
  {
   "cell_type": "code",
   "execution_count": null,
   "metadata": {},
   "outputs": [],
   "source": [
    "# Your code here\n",
    "password = \"abc123\"\n",
    "\n",
    "# Check if password length >= 8"
   ]
  },
  {
   "cell_type": "markdown",
   "metadata": {},
   "source": [
    "<details>\n",
    "<summary>Solution</summary>\n",
    "\n",
    "```python\n",
    "password = \"abc123\"\n",
    "\n",
    "if len(password) >= 8:\n",
    "    print(\"Strong password\")\n",
    "else:\n",
    "    print(\"Weak password - must be at least 8 characters\")\n",
    "```\n",
    "\n",
    "**Why this works:**\n",
    "We use `len()` to get the password length and compare it to our minimum requirement (8). The if-else provides feedback based on whether the password meets security requirements.\n",
    "\n",
    "</details>"
   ]
  },
  {
   "cell_type": "markdown",
   "metadata": {},
   "source": [
    "---\n",
    "\n",
    "## Instructor Activity 6\n",
    "**Concept**: if-elif-else for multiple conditions\n",
    "\n",
    "### Example 1: Multiple Condition Checking\n",
    "\n",
    "**Problem**: Categorize scores into letter grades\n",
    "\n",
    "**Expected Output**: Different grade based on score ranges"
   ]
  },
  {
   "cell_type": "code",
   "execution_count": null,
   "metadata": {},
   "outputs": [],
   "source": [
    "# Empty cell for demonstration"
   ]
  },
  {
   "cell_type": "markdown",
   "metadata": {},
   "source": [
    "<details>\n",
    "<summary>Solution</summary>\n",
    "\n",
    "```python\n",
    "# Grade a test score\n",
    "score = 85\n",
    "\n",
    "if score >= 90:\n",
    "    grade = \"A\"\n",
    "elif score >= 80:\n",
    "    grade = \"B\"\n",
    "elif score >= 70:\n",
    "    grade = \"C\"\n",
    "elif score >= 60:\n",
    "    grade = \"D\"\n",
    "else:\n",
    "    grade = \"F\"\n",
    "\n",
    "print(f\"Score: {score}\")\n",
    "print(f\"Grade: {grade}\")\n",
    "# Output: Score: 85\n",
    "#         Grade: B\n",
    "```\n",
    "\n",
    "**Why this works:**\n",
    "`elif` (else if) allows checking multiple conditions in sequence. Python checks each condition top-to-bottom and executes the FIRST true block, then skips the rest. The `else` catches anything that didn't match earlier conditions. This is perfect for categorization tasks.\n",
    "\n",
    "</details>"
   ]
  },
  {
   "cell_type": "markdown",
   "metadata": {},
   "source": [
    "### Example 2: RAG Document Quality Tiers\n",
    "\n",
    "**Problem**: Categorize retrieved documents into quality tiers based on relevance scores\n",
    "\n",
    "**Expected Output**: Document assigned to appropriate quality tier"
   ]
  },
  {
   "cell_type": "code",
   "execution_count": null,
   "metadata": {},
   "outputs": [],
   "source": [
    "# Empty cell for demonstration"
   ]
  },
  {
   "cell_type": "markdown",
   "metadata": {},
   "source": [
    "<details>\n",
    "<summary>Solution</summary>\n",
    "\n",
    "```python\n",
    "# Retrieved document from RAG pipeline\n",
    "document = {\n",
    "    \"text\": \"Python is a programming language\",\n",
    "    \"score\": 0.78\n",
    "}\n",
    "\n",
    "score = document[\"score\"]\n",
    "\n",
    "if score >= 0.9:\n",
    "    quality = \"Excellent\"\n",
    "    action = \"Use as primary source\"\n",
    "elif score >= 0.75:\n",
    "    quality = \"Good\"\n",
    "    action = \"Include in context\"\n",
    "elif score >= 0.6:\n",
    "    quality = \"Fair\"\n",
    "    action = \"Use as supporting info\"\n",
    "else:\n",
    "    quality = \"Poor\"\n",
    "    action = \"Discard\"\n",
    "\n",
    "print(f\"Score: {score}\")\n",
    "print(f\"Quality: {quality}\")\n",
    "print(f\"Action: {action}\")\n",
    "# Output: Score: 0.78\n",
    "#         Quality: Good\n",
    "#         Action: Include in context\n",
    "```\n",
    "\n",
    "**Why this works:**\n",
    "RAG systems often need multi-tier filtering rather than binary decisions. if-elif-else chains create these tiers, treating documents differently based on quality. High-quality docs get priority, medium-quality ones provide support, low-quality ones get discarded.\n",
    "\n",
    "</details>"
   ]
  },
  {
   "cell_type": "markdown",
   "metadata": {},
   "source": [
    "### Example 3: Agent Action Priority Routing\n",
    "\n",
    "**Problem**: Route agent actions to different execution queues based on priority\n",
    "\n",
    "**Expected Output**: Action assigned to appropriate queue"
   ]
  },
  {
   "cell_type": "code",
   "execution_count": null,
   "metadata": {},
   "outputs": [],
   "source": [
    "# Empty cell for demonstration"
   ]
  },
  {
   "cell_type": "markdown",
   "metadata": {},
   "source": [
    "<details>\n",
    "<summary>Solution</summary>\n",
    "\n",
    "```python\n",
    "# Agent action with priority score\n",
    "action = {\n",
    "    \"type\": \"process_document\",\n",
    "    \"priority\": 7,  # Scale of 1-10\n",
    "    \"data\": \"document_id_123\"\n",
    "}\n",
    "\n",
    "priority = action[\"priority\"]\n",
    "\n",
    "if priority >= 9:\n",
    "    queue = \"critical\"\n",
    "    wait_time = \"< 1 minute\"\n",
    "elif priority >= 7:\n",
    "    queue = \"high\"\n",
    "    wait_time = \"< 5 minutes\"\n",
    "elif priority >= 4:\n",
    "    queue = \"normal\"\n",
    "    wait_time = \"< 15 minutes\"\n",
    "else:\n",
    "    queue = \"low\"\n",
    "    wait_time = \"< 1 hour\"\n",
    "\n",
    "print(f\"Action: {action['type']}\")\n",
    "print(f\"Priority: {priority}/10\")\n",
    "print(f\"Queue: {queue}\")\n",
    "print(f\"Expected wait: {wait_time}\")\n",
    "```\n",
    "\n",
    "**Why this works:**\n",
    "Agentic AI systems use priority queues to manage workload. if-elif-else chains route actions to appropriate queues based on urgency. Critical actions get immediate processing, while low-priority ones can wait.\n",
    "\n",
    "</details>"
   ]
  },
  {
   "cell_type": "markdown",
   "metadata": {},
   "source": [
    "---\n",
    "\n",
    "## Learner Activity 6\n",
    "**Practice**: Using if-elif-else statements\n",
    "\n",
    "### Exercise 1: Temperature Categories\n",
    "\n",
    "**Task**: Categorize temperature into:\n",
    "- \"Freezing\" if temp < 0\n",
    "- \"Cold\" if 0 <= temp < 15\n",
    "- \"Mild\" if 15 <= temp < 25\n",
    "- \"Hot\" if temp >= 25\n",
    "\n",
    "**Given**: `temperature = 18`\n",
    "\n",
    "**Expected Output**: `The weather is Mild`"
   ]
  },
  {
   "cell_type": "code",
   "execution_count": null,
   "metadata": {},
   "outputs": [],
   "source": [
    "# Your code here\n",
    "temperature = 18\n",
    "\n",
    "# Write if-elif-else to categorize temperature"
   ]
  },
  {
   "cell_type": "markdown",
   "metadata": {},
   "source": [
    "<details>\n",
    "<summary>Solution</summary>\n",
    "\n",
    "```python\n",
    "temperature = 18\n",
    "\n",
    "if temperature < 0:\n",
    "    category = \"Freezing\"\n",
    "elif temperature < 15:\n",
    "    category = \"Cold\"\n",
    "elif temperature < 25:\n",
    "    category = \"Mild\"\n",
    "else:\n",
    "    category = \"Hot\"\n",
    "\n",
    "print(f\"The weather is {category}\")\n",
    "```\n",
    "\n",
    "**Why this works:**\n",
    "Each elif checks the next range. Since conditions are checked top-to-bottom, once we reach `elif temperature < 25`, we know temp is already >= 0 and >= 15 (because earlier conditions failed). This creates non-overlapping ranges.\n",
    "\n",
    "</details>"
   ]
  },
  {
   "cell_type": "markdown",
   "metadata": {},
   "source": [
    "### Exercise 2: Model Response Quality\n",
    "\n",
    "**Task**: Categorize AI model response quality based on a quality score (0-100):\n",
    "- \"Excellent\" if score >= 90\n",
    "- \"Good\" if score >= 75\n",
    "- \"Acceptable\" if score >= 60\n",
    "- \"Poor\" if score < 60\n",
    "\n",
    "**Given**:\n",
    "```python\n",
    "response = {\n",
    "    \"text\": \"The capital of France is Paris\",\n",
    "    \"quality_score\": 82\n",
    "}\n",
    "```\n",
    "\n",
    "**Expected Output**: \n",
    "```\n",
    "Response quality: Good\n",
    "Score: 82\n",
    "```"
   ]
  },
  {
   "cell_type": "code",
   "execution_count": null,
   "metadata": {},
   "outputs": [],
   "source": [
    "# Your code here\n",
    "response = {\n",
    "    \"text\": \"The capital of France is Paris\",\n",
    "    \"quality_score\": 82\n",
    "}\n",
    "\n",
    "# Categorize response quality using if-elif-else"
   ]
  },
  {
   "cell_type": "markdown",
   "metadata": {},
   "source": [
    "<details>\n",
    "<summary>Solution</summary>\n",
    "\n",
    "```python\n",
    "response = {\n",
    "    \"text\": \"The capital of France is Paris\",\n",
    "    \"quality_score\": 82\n",
    "}\n",
    "\n",
    "score = response[\"quality_score\"]\n",
    "\n",
    "if score >= 90:\n",
    "    quality = \"Excellent\"\n",
    "elif score >= 75:\n",
    "    quality = \"Good\"\n",
    "elif score >= 60:\n",
    "    quality = \"Acceptable\"\n",
    "else:\n",
    "    quality = \"Poor\"\n",
    "\n",
    "print(f\"Response quality: {quality}\")\n",
    "print(f\"Score: {score}\")\n",
    "```\n",
    "\n",
    "**Why this works:**\n",
    "We extract the score from the dictionary and use if-elif-else to categorize it. In AI systems, quality scores help determine whether to use, improve, or discard model outputs.\n",
    "\n",
    "</details>"
   ]
  },
  {
   "cell_type": "markdown",
   "metadata": {},
   "source": [
    "---\n",
    "\n",
    "## Instructor Activity 7\n",
    "**Concept**: Logical operators (and, or, not) for complex conditions\n",
    "\n",
    "### Example 1: Combining Conditions with 'and'\n",
    "\n",
    "**Problem**: Check if multiple conditions are ALL true\n",
    "\n",
    "**Expected Output**: Action only if ALL conditions met"
   ]
  },
  {
   "cell_type": "code",
   "execution_count": null,
   "metadata": {},
   "outputs": [],
   "source": [
    "# Empty cell for demonstration"
   ]
  },
  {
   "cell_type": "markdown",
   "metadata": {},
   "source": [
    "<details>\n",
    "<summary>Solution</summary>\n",
    "\n",
    "```python\n",
    "# Check if user can access premium features\n",
    "is_subscribed = True\n",
    "account_active = True\n",
    "payment_current = True\n",
    "\n",
    "# ALL conditions must be True\n",
    "if is_subscribed and account_active and payment_current:\n",
    "    print(\"Access granted to premium features\")\n",
    "else:\n",
    "    print(\"Access denied - check subscription status\")\n",
    "\n",
    "# Output: Access granted to premium features\n",
    "```\n",
    "\n",
    "**Why this works:**\n",
    "The `and` operator returns True only if ALL conditions are True. If any condition is False, the entire expression is False. This is perfect for checking multiple requirements that must all be satisfied.\n",
    "\n",
    "</details>"
   ]
  },
  {
   "cell_type": "markdown",
   "metadata": {},
   "source": [
    "### Example 2: Combining Conditions with 'or'\n",
    "\n",
    "**Problem**: Check if ANY of multiple conditions is true\n",
    "\n",
    "**Expected Output**: Action if ANY condition is met"
   ]
  },
  {
   "cell_type": "code",
   "execution_count": null,
   "metadata": {},
   "outputs": [],
   "source": [
    "# Empty cell for demonstration"
   ]
  },
  {
   "cell_type": "markdown",
   "metadata": {},
   "source": [
    "<details>\n",
    "<summary>Solution</summary>\n",
    "\n",
    "```python\n",
    "# RAG document should be included if it meets ANY criterion\n",
    "document = {\n",
    "    \"text\": \"Python programming guide\",\n",
    "    \"relevance_score\": 0.65,\n",
    "    \"is_recent\": True,\n",
    "    \"is_verified\": False\n",
    "}\n",
    "\n",
    "# Include if score is high OR document is recent OR it's verified\n",
    "if document[\"relevance_score\"] > 0.8 or document[\"is_recent\"] or document[\"is_verified\"]:\n",
    "    print(\"Including document in context\")\n",
    "    print(f\"Reason: Recent={document['is_recent']}, Score={document['relevance_score']}\")\n",
    "else:\n",
    "    print(\"Document does not meet any inclusion criteria\")\n",
    "\n",
    "# Output: Including document in context\n",
    "#         Reason: Recent=True, Score=0.65\n",
    "```\n",
    "\n",
    "**Why this works:**\n",
    "The `or` operator returns True if ANY condition is True. Even though the score is below 0.8, the document is recent, so it gets included. In RAG, multiple criteria can justify including a document.\n",
    "\n",
    "</details>"
   ]
  },
  {
   "cell_type": "markdown",
   "metadata": {},
   "source": [
    "### Example 3: Negating Conditions with 'not'\n",
    "\n",
    "**Problem**: Check if a condition is NOT true\n",
    "\n",
    "**Expected Output**: Action based on negated condition"
   ]
  },
  {
   "cell_type": "code",
   "execution_count": null,
   "metadata": {},
   "outputs": [],
   "source": [
    "# Empty cell for demonstration"
   ]
  },
  {
   "cell_type": "markdown",
   "metadata": {},
   "source": [
    "<details>\n",
    "<summary>Solution</summary>\n",
    "\n",
    "```python\n",
    "# Agent action validation\n",
    "action = {\n",
    "    \"type\": \"send_notification\",\n",
    "    \"requires_approval\": False,\n",
    "    \"is_dangerous\": False\n",
    "}\n",
    "\n",
    "# Execute if NOT dangerous and NOT requiring approval\n",
    "if not action[\"is_dangerous\"] and not action[\"requires_approval\"]:\n",
    "    print(f\"Auto-executing: {action['type']}\")\n",
    "    print(\"Safe action - no approval needed\")\n",
    "else:\n",
    "    print(\"Action requires review\")\n",
    "\n",
    "# Output: Auto-executing: send_notification\n",
    "#         Safe action - no approval needed\n",
    "```\n",
    "\n",
    "**Why this works:**\n",
    "The `not` operator flips boolean values: `not True` becomes False, `not False` becomes True. This is useful for checking negative conditions (\"is NOT dangerous\"). In agentic AI, we often check what's NOT true to determine safe autonomous actions.\n",
    "\n",
    "</details>"
   ]
  },
  {
   "cell_type": "markdown",
   "metadata": {},
   "source": [
    "### Example 4: Complex Condition Combining and/or/not\n",
    "\n",
    "**Problem**: Make decisions based on complex multi-part conditions\n",
    "\n",
    "**Expected Output**: Action based on sophisticated logic"
   ]
  },
  {
   "cell_type": "code",
   "execution_count": null,
   "metadata": {},
   "outputs": [],
   "source": [
    "# Empty cell for demonstration"
   ]
  },
  {
   "cell_type": "markdown",
   "metadata": {},
   "source": [
    "<details>\n",
    "<summary>Solution</summary>\n",
    "\n",
    "```python\n",
    "# RAG document filtering with complex criteria\n",
    "document = {\n",
    "    \"text\": \"Advanced Python techniques\",\n",
    "    \"score\": 0.72,\n",
    "    \"is_recent\": True,\n",
    "    \"contains_code\": True,\n",
    "    \"is_deprecated\": False\n",
    "}\n",
    "\n",
    "# Include if: (score high OR document recent) AND has code AND not deprecated\n",
    "include = (\n",
    "    (document[\"score\"] >= 0.7 or document[\"is_recent\"]) \n",
    "    and document[\"contains_code\"] \n",
    "    and not document[\"is_deprecated\"]\n",
    ")\n",
    "\n",
    "if include:\n",
    "    print(\"Document meets all criteria - including\")\n",
    "    print(f\"Score: {document['score']}, Recent: {document['is_recent']}\")\n",
    "else:\n",
    "    print(\"Document excluded\")\n",
    "\n",
    "# Output: Document meets all criteria - including\n",
    "#         Score: 0.72, Recent: True\n",
    "```\n",
    "\n",
    "**Why this works:**\n",
    "Parentheses group conditions to control evaluation order. The `or` checks first (score OR recency), then we AND that with other requirements. This creates sophisticated filtering: documents need either high score or recency, PLUS code examples, PLUS must not be deprecated. Real RAG systems use such complex logic.\n",
    "\n",
    "</details>"
   ]
  },
  {
   "cell_type": "markdown",
   "metadata": {},
   "source": [
    "---\n",
    "\n",
    "## Learner Activity 7\n",
    "**Practice**: Using logical operators (and, or, not)\n",
    "\n",
    "### Exercise 1: Login Validation\n",
    "\n",
    "**Task**: Check if a user can login (username must be provided AND password length >= 6)\n",
    "\n",
    "**Given**:\n",
    "```python\n",
    "username = \"alice\"\n",
    "password = \"pass123\"\n",
    "```\n",
    "\n",
    "**Expected Output**: `Login successful` (both conditions met)"
   ]
  },
  {
   "cell_type": "code",
   "execution_count": null,
   "metadata": {},
   "outputs": [],
   "source": [
    "# Your code here\n",
    "username = \"alice\"\n",
    "password = \"pass123\"\n",
    "\n",
    "# Check if username exists AND password is long enough"
   ]
  },
  {
   "cell_type": "markdown",
   "metadata": {},
   "source": [
    "<details>\n",
    "<summary>Solution</summary>\n",
    "\n",
    "```python\n",
    "username = \"alice\"\n",
    "password = \"pass123\"\n",
    "\n",
    "# Both conditions must be True\n",
    "if username and len(password) >= 6:\n",
    "    print(\"Login successful\")\n",
    "else:\n",
    "    print(\"Login failed - check credentials\")\n",
    "```\n",
    "\n",
    "**Why this works:**\n",
    "The `and` operator ensures both conditions are met. An empty string is \"falsy\", so `username` checks if it's not empty. Then we check password length. Both must be True for login to succeed.\n",
    "\n",
    "</details>"
   ]
  },
  {
   "cell_type": "markdown",
   "metadata": {},
   "source": [
    "### Exercise 2: RAG Document Selection\n",
    "\n",
    "**Task**: Include a document if it has high score (>= 0.8) OR is marked as essential\n",
    "\n",
    "**Given**:\n",
    "```python\n",
    "document = {\n",
    "    \"text\": \"Core concepts\",\n",
    "    \"score\": 0.65,\n",
    "    \"is_essential\": True\n",
    "}\n",
    "```\n",
    "\n",
    "**Expected Output**: `Including document` (because it's essential)"
   ]
  },
  {
   "cell_type": "code",
   "execution_count": null,
   "metadata": {},
   "outputs": [],
   "source": [
    "# Your code here\n",
    "document = {\n",
    "    \"text\": \"Core concepts\",\n",
    "    \"score\": 0.65,\n",
    "    \"is_essential\": True\n",
    "}\n",
    "\n",
    "# Include if score >= 0.8 OR is_essential is True"
   ]
  },
  {
   "cell_type": "markdown",
   "metadata": {},
   "source": [
    "<details>\n",
    "<summary>Solution</summary>\n",
    "\n",
    "```python\n",
    "document = {\n",
    "    \"text\": \"Core concepts\",\n",
    "    \"score\": 0.65,\n",
    "    \"is_essential\": True\n",
    "}\n",
    "\n",
    "# Include if either condition is True\n",
    "if document[\"score\"] >= 0.8 or document[\"is_essential\"]:\n",
    "    print(\"Including document\")\n",
    "else:\n",
    "    print(\"Skipping document\")\n",
    "```\n",
    "\n",
    "**Why this works:**\n",
    "The `or` operator means either condition can be True. Even though score is low (0.65), the document is essential, so it gets included. In RAG, some documents override normal filters due to importance.\n",
    "\n",
    "</details>"
   ]
  },
  {
   "cell_type": "markdown",
   "metadata": {},
   "source": [
    "### Exercise 3: Safe Action Execution\n",
    "\n",
    "**Task**: Execute an agent action if it's NOT flagged as risky AND confidence >= 0.85\n",
    "\n",
    "**Given**:\n",
    "```python\n",
    "action = {\n",
    "    \"name\": \"create_file\",\n",
    "    \"confidence\": 0.9,\n",
    "    \"is_risky\": False\n",
    "}\n",
    "```\n",
    "\n",
    "**Expected Output**: `Executing action: create_file`"
   ]
  },
  {
   "cell_type": "code",
   "execution_count": null,
   "metadata": {},
   "outputs": [],
   "source": [
    "# Your code here\n",
    "action = {\n",
    "    \"name\": \"create_file\",\n",
    "    \"confidence\": 0.9,\n",
    "    \"is_risky\": False\n",
    "}\n",
    "\n",
    "# Execute if NOT risky AND confidence >= 0.85"
   ]
  },
  {
   "cell_type": "markdown",
   "metadata": {},
   "source": [
    "<details>\n",
    "<summary>Solution</summary>\n",
    "\n",
    "```python\n",
    "action = {\n",
    "    \"name\": \"create_file\",\n",
    "    \"confidence\": 0.9,\n",
    "    \"is_risky\": False\n",
    "}\n",
    "\n",
    "# Both conditions must be met\n",
    "if not action[\"is_risky\"] and action[\"confidence\"] >= 0.85:\n",
    "    print(f\"Executing action: {action['name']}\")\n",
    "else:\n",
    "    print(\"Action blocked - safety check failed\")\n",
    "```\n",
    "\n",
    "**Why this works:**\n",
    "The `not` operator inverts the boolean. Since `is_risky` is False, `not False` becomes True. Combined with the confidence check using `and`, both conditions are True, so the action executes safely.\n",
    "\n",
    "</details>"
   ]
  },
  {
   "cell_type": "markdown",
   "metadata": {},
   "source": [
    "---\n",
    "\n",
    "## Optional Extra Practice\n",
    "**Challenge yourself with these integrated problems covering all concepts**\n",
    "\n",
    "### Challenge 1: User Profile Validator\n",
    "\n",
    "**Task**: Create a user profile validator that checks:\n",
    "1. Username exists and is at least 3 characters\n",
    "2. Age is between 13 and 120\n",
    "3. Email contains '@' symbol\n",
    "\n",
    "Print appropriate messages for valid/invalid profiles.\n",
    "\n",
    "**Given**:\n",
    "```python\n",
    "profile = {\n",
    "    \"username\": \"john_doe\",\n",
    "    \"age\": 25,\n",
    "    \"email\": \"john@example.com\"\n",
    "}\n",
    "```\n",
    "\n",
    "**Expected Output**: Validation result with specific feedback"
   ]
  },
  {
   "cell_type": "code",
   "execution_count": null,
   "metadata": {},
   "outputs": [],
   "source": [
    "# Your code here\n",
    "profile = {\n",
    "    \"username\": \"john_doe\",\n",
    "    \"age\": 25,\n",
    "    \"email\": \"john@example.com\"\n",
    "}"
   ]
  },
  {
   "cell_type": "markdown",
   "metadata": {},
   "source": [
    "<details>\n",
    "<summary>Solution</summary>\n",
    "\n",
    "```python\n",
    "profile = {\n",
    "    \"username\": \"john_doe\",\n",
    "    \"age\": 25,\n",
    "    \"email\": \"john@example.com\"\n",
    "}\n",
    "\n",
    "# Extract values\n",
    "username = profile.get(\"username\", \"\")\n",
    "age = profile.get(\"age\", 0)\n",
    "email = profile.get(\"email\", \"\")\n",
    "\n",
    "# Validate each field\n",
    "valid = True\n",
    "\n",
    "if not username or len(username) < 3:\n",
    "    print(\"Invalid username - must be at least 3 characters\")\n",
    "    valid = False\n",
    "\n",
    "if age < 13 or age > 120:\n",
    "    print(\"Invalid age - must be between 13 and 120\")\n",
    "    valid = False\n",
    "\n",
    "if \"@\" not in email:\n",
    "    print(\"Invalid email - must contain '@'\")\n",
    "    valid = False\n",
    "\n",
    "if valid:\n",
    "    print(\"Profile is valid!\")\n",
    "    print(f\"Welcome, {username}!\")\n",
    "```\n",
    "\n",
    "**Why this works:**\n",
    "We use `.get()` for safe dictionary access with defaults. Each validation checks a specific condition and sets a flag. Multiple independent checks can all provide feedback. The `in` operator checks if '@' exists in the email string. This pattern is common in form validation.\n",
    "\n",
    "</details>"
   ]
  },
  {
   "cell_type": "markdown",
   "metadata": {},
   "source": [
    "### Challenge 2: RAG Smart Document Ranker\n",
    "\n",
    "**Task**: Create a RAG document ranking system that:\n",
    "1. Assigns priority tiers (A, B, C, Reject) based on:\n",
    "   - Score >= 0.9 OR (score >= 0.7 AND is_recent) → Tier A\n",
    "   - Score >= 0.7 OR is_verified → Tier B\n",
    "   - Score >= 0.5 AND not_deprecated → Tier C\n",
    "   - Otherwise → Reject\n",
    "2. Print the tier and reasoning\n",
    "\n",
    "**Given**:\n",
    "```python\n",
    "documents = [\n",
    "    {\"id\": 1, \"score\": 0.95, \"is_recent\": False, \"is_verified\": True, \"is_deprecated\": False},\n",
    "    {\"id\": 2, \"score\": 0.75, \"is_recent\": True, \"is_verified\": False, \"is_deprecated\": False},\n",
    "    {\"id\": 3, \"score\": 0.55, \"is_recent\": False, \"is_verified\": False, \"is_deprecated\": False},\n",
    "    {\"id\": 4, \"score\": 0.45, \"is_recent\": False, \"is_verified\": False, \"is_deprecated\": True}\n",
    "]\n",
    "```\n",
    "\n",
    "**Expected Output**: Each document ranked with tier and explanation"
   ]
  },
  {
   "cell_type": "code",
   "execution_count": null,
   "metadata": {},
   "outputs": [],
   "source": [
    "# Your code here\n",
    "documents = [\n",
    "    {\"id\": 1, \"score\": 0.95, \"is_recent\": False, \"is_verified\": True, \"is_deprecated\": False},\n",
    "    {\"id\": 2, \"score\": 0.75, \"is_recent\": True, \"is_verified\": False, \"is_deprecated\": False},\n",
    "    {\"id\": 3, \"score\": 0.55, \"is_recent\": False, \"is_verified\": False, \"is_deprecated\": False},\n",
    "    {\"id\": 4, \"score\": 0.45, \"is_recent\": False, \"is_verified\": False, \"is_deprecated\": True}\n",
    "]"
   ]
  },
  {
   "cell_type": "markdown",
   "metadata": {},
   "source": [
    "<details>\n",
    "<summary>Solution</summary>\n",
    "\n",
    "```python\n",
    "documents = [\n",
    "    {\"id\": 1, \"score\": 0.95, \"is_recent\": False, \"is_verified\": True, \"is_deprecated\": False},\n",
    "    {\"id\": 2, \"score\": 0.75, \"is_recent\": True, \"is_verified\": False, \"is_deprecated\": False},\n",
    "    {\"id\": 3, \"score\": 0.55, \"is_recent\": False, \"is_verified\": False, \"is_deprecated\": False},\n",
    "    {\"id\": 4, \"score\": 0.45, \"is_recent\": False, \"is_verified\": False, \"is_deprecated\": True}\n",
    "]\n",
    "\n",
    "for doc in documents:\n",
    "    doc_id = doc[\"id\"]\n",
    "    score = doc[\"score\"]\n",
    "    \n",
    "    # Tier A: High score OR (good score AND recent)\n",
    "    if score >= 0.9 or (score >= 0.7 and doc[\"is_recent\"]):\n",
    "        tier = \"A\"\n",
    "        reason = \"High relevance/priority\"\n",
    "    \n",
    "    # Tier B: Good score OR verified\n",
    "    elif score >= 0.7 or doc[\"is_verified\"]:\n",
    "        tier = \"B\"\n",
    "        reason = \"Good relevance or verified source\"\n",
    "    \n",
    "    # Tier C: Acceptable score AND not deprecated\n",
    "    elif score >= 0.5 and not doc[\"is_deprecated\"]:\n",
    "        tier = \"C\"\n",
    "        reason = \"Acceptable relevance\"\n",
    "    \n",
    "    # Reject\n",
    "    else:\n",
    "        tier = \"Reject\"\n",
    "        reason = \"Below threshold or deprecated\"\n",
    "    \n",
    "    print(f\"Document {doc_id}: Tier {tier} - {reason} (score: {score})\")\n",
    "\n",
    "# Output:\n",
    "# Document 1: Tier A - High relevance/priority (score: 0.95)\n",
    "# Document 2: Tier A - High relevance/priority (score: 0.75)\n",
    "# Document 3: Tier C - Acceptable relevance (score: 0.55)\n",
    "# Document 4: Tier Reject - Below threshold or deprecated (score: 0.45)\n",
    "```\n",
    "\n",
    "**Why this works:**\n",
    "This demonstrates real RAG document ranking logic. Complex conditions with `and`/`or` create sophisticated tiers. Document 1 gets Tier A due to high score. Document 2 gets Tier A because it's recent despite medium score. Document 3 gets Tier C (acceptable). Document 4 is rejected. The if-elif chain ensures only one tier is assigned, checked top-to-bottom.\n",
    "\n",
    "</details>"
   ]
  },
  {
   "cell_type": "markdown",
   "metadata": {},
   "source": [
    "### Challenge 3: Agent Decision System\n",
    "\n",
    "**Task**: Build an agent decision system that:\n",
    "1. Evaluates if an action should be executed, queued, or rejected\n",
    "2. Execute if: confidence >= 0.9 AND not risky\n",
    "3. Queue for review if: (0.7 <= confidence < 0.9) OR (risky AND confidence >= 0.8)\n",
    "4. Reject if: confidence < 0.7 OR (risky AND confidence < 0.8)\n",
    "5. Update the action dictionary with decision and reason\n",
    "\n",
    "**Given**:\n",
    "```python\n",
    "actions = [\n",
    "    {\"name\": \"send_email\", \"confidence\": 0.92, \"is_risky\": False},\n",
    "    {\"name\": \"delete_file\", \"confidence\": 0.85, \"is_risky\": True},\n",
    "    {\"name\": \"read_data\", \"confidence\": 0.75, \"is_risky\": False},\n",
    "    {\"name\": \"system_shutdown\", \"confidence\": 0.65, \"is_risky\": True}\n",
    "]\n",
    "```\n",
    "\n",
    "**Expected Output**: Each action with decision and reasoning"
   ]
  },
  {
   "cell_type": "code",
   "execution_count": null,
   "metadata": {},
   "outputs": [],
   "source": [
    "# Your code here\n",
    "actions = [\n",
    "    {\"name\": \"send_email\", \"confidence\": 0.92, \"is_risky\": False},\n",
    "    {\"name\": \"delete_file\", \"confidence\": 0.85, \"is_risky\": True},\n",
    "    {\"name\": \"read_data\", \"confidence\": 0.75, \"is_risky\": False},\n",
    "    {\"name\": \"system_shutdown\", \"confidence\": 0.65, \"is_risky\": True}\n",
    "]"
   ]
  },
  {
   "cell_type": "markdown",
   "metadata": {},
   "source": [
    "<details>\n",
    "<summary>Solution</summary>\n",
    "\n",
    "```python\n",
    "actions = [\n",
    "    {\"name\": \"send_email\", \"confidence\": 0.92, \"is_risky\": False},\n",
    "    {\"name\": \"delete_file\", \"confidence\": 0.85, \"is_risky\": True},\n",
    "    {\"name\": \"read_data\", \"confidence\": 0.75, \"is_risky\": False},\n",
    "    {\"name\": \"system_shutdown\", \"confidence\": 0.65, \"is_risky\": True}\n",
    "]\n",
    "\n",
    "for action in actions:\n",
    "    name = action[\"name\"]\n",
    "    confidence = action[\"confidence\"]\n",
    "    is_risky = action[\"is_risky\"]\n",
    "    \n",
    "    # Execute: High confidence AND not risky\n",
    "    if confidence >= 0.9 and not is_risky:\n",
    "        decision = \"EXECUTE\"\n",
    "        reason = \"High confidence, safe action\"\n",
    "    \n",
    "    # Queue: Medium confidence OR (risky but high confidence)\n",
    "    elif (0.7 <= confidence < 0.9) or (is_risky and confidence >= 0.8):\n",
    "        decision = \"QUEUE\"\n",
    "        if is_risky:\n",
    "            reason = \"Risky action requires human review\"\n",
    "        else:\n",
    "            reason = \"Medium confidence requires review\"\n",
    "    \n",
    "    # Reject: Low confidence OR (risky AND low confidence)\n",
    "    else:\n",
    "        decision = \"REJECT\"\n",
    "        if is_risky and confidence < 0.8:\n",
    "            reason = \"Risky action with insufficient confidence\"\n",
    "        else:\n",
    "            reason = \"Confidence too low\"\n",
    "    \n",
    "    # Update action dictionary\n",
    "    action[\"decision\"] = decision\n",
    "    action[\"reason\"] = reason\n",
    "    \n",
    "    print(f\"Action: {name}\")\n",
    "    print(f\"  Confidence: {confidence}, Risky: {is_risky}\")\n",
    "    print(f\"  Decision: {decision} - {reason}\")\n",
    "    print()\n",
    "\n",
    "# Output:\n",
    "# Action: send_email\n",
    "#   Confidence: 0.92, Risky: False\n",
    "#   Decision: EXECUTE - High confidence, safe action\n",
    "#\n",
    "# Action: delete_file\n",
    "#   Confidence: 0.85, Risky: True\n",
    "#   Decision: QUEUE - Risky action requires human review\n",
    "#\n",
    "# Action: read_data\n",
    "#   Confidence: 0.75, Risky: False\n",
    "#   Decision: QUEUE - Medium confidence requires review\n",
    "#\n",
    "# Action: system_shutdown\n",
    "#   Confidence: 0.65, Risky: True\n",
    "#   Decision: REJECT - Risky action with insufficient confidence\n",
    "```\n",
    "\n",
    "**Why this works:**\n",
    "This is a realistic agentic AI decision system. Safe, high-confidence actions execute automatically. Risky or medium-confidence actions queue for human review. Low-confidence or dangerous actions get rejected. The logic uses complex conditions with `and`/`or`/`not` operators, demonstrating how real AI agents make safety decisions. We also update the dictionary with decisions, showing how agents track their reasoning.\n",
    "\n",
    "</details>"
   ]
  }
 ],
 "metadata": {
  "kernelspec": {
   "display_name": "Python 3",
   "language": "python",
   "name": "python3"
  },
  "language_info": {
   "codemirror_mode": {
    "name": "ipython",
    "version": 3
   },
   "file_extension": ".py",
   "mimetype": "text/x-python",
   "name": "python",
   "nbconvert_exporter": "python",
   "pygments_lexer": "ipython3",
   "version": "3.8.0"
  }
 },
 "nbformat": 4,
 "nbformat_minor": 4
}
