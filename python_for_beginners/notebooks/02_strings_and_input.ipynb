{
  "cells": [
    {
      "cell_type": "code",
      "source": [
        "# Quick Revision\n",
        "# 1. Create a variable called first_name and assign your name (example \"Vivek\") as value to it\n",
        "# 2. Create a variable called greeting and assign a greeting (example \"Hi\") to it\n",
        "# 3. Create a formatted string that constructs a sentence \"<greeting> from <first_name>\"\n",
        "# 4. Print the formatted string so it outputs: \"Hi from Vivek\" (example)"
      ],
      "metadata": {
        "id": "TWqMUlXBB8Zw"
      },
      "execution_count": null,
      "outputs": []
    },
    {
      "cell_type": "markdown",
      "metadata": {
        "id": "4yr_LbBXB5hK"
      },
      "source": [
        "# String Methods and User Input\n",
        "\n",
        "## Learning Objectives\n",
        "By the end of this section, you will be able to:\n",
        "- Use string methods like `join()`, `lower()`, `upper()`, and `strip()`\n",
        "- Check for substrings using the `in` operator\n",
        "- Capture user input with `input()` function\n",
        "- Create interactive programs that respond to user data\n",
        "\n",
        "## Why This Matters: Real-World AI/RAG/Agentic Applications\n",
        "**In AI Systems:**\n",
        "- String methods clean and normalize text before feeding to models\n",
        "- `lower()` ensures case-insensitive matching for user queries\n",
        "- `join()` combines token outputs from language models\n",
        "\n",
        "**In RAG Pipelines:**\n",
        "- Text preprocessing with `strip()` removes extra whitespace from documents\n",
        "- `in` operator checks if keywords exist in retrieved context\n",
        "- String manipulation prepares data for embedding generation\n",
        "\n",
        "**In Agentic AI:**\n",
        "- User input captures commands and queries for agents\n",
        "- String methods parse and validate agent instructions\n",
        "- Case normalization ensures consistent agent behavior\n",
        "\n",
        "## Prerequisites\n",
        "- Understanding of variables and strings\n",
        "- Familiarity with the `print()` function\n",
        "\n",
        "---"
      ]
    },
    {
      "cell_type": "code",
      "source": [
        "# Store shopping list (5 fruits) and print them\n",
        "\n",
        "fruit1 = \"apple\"\n",
        "fruit2 = \"banana\"\n",
        "fruit3 = \"orange\"\n",
        "fruit4 = \"mango\"\n",
        "fruit5 = \"grape\"\n",
        "\n",
        "print(fruit1)\n",
        "print(fruit2)\n",
        "print(fruit3)\n",
        "print(fruit4)\n",
        "print(fruit5)"
      ],
      "metadata": {
        "colab": {
          "base_uri": "https://localhost:8080/"
        },
        "id": "s3gOxoteE52z",
        "outputId": "0e1a1c8e-8a49-47ec-c89b-1ce02cf4627f"
      },
      "execution_count": 1,
      "outputs": [
        {
          "output_type": "stream",
          "name": "stdout",
          "text": [
            "apple\n",
            "banana\n",
            "orange\n",
            "mango\n",
            "grape\n"
          ]
        }
      ]
    },
    {
      "cell_type": "markdown",
      "source": [
        "**Variable** = one box that holds one thing\n",
        "\n",
        "**List** = a shopping bag that holds many things"
      ],
      "metadata": {
        "id": "WIJUYs0iGTfv"
      }
    },
    {
      "cell_type": "code",
      "source": [
        "# A list is like a container that holds multiple items together.\n",
        "# A list lets you store many related things under ONE name, instead of creating separate variables for each item.\n",
        "fruits = [\"apple\", \"banana\", \"orange\", \"mango\", \"grape\"]\n",
        "\n",
        "print(fruits)"
      ],
      "metadata": {
        "colab": {
          "base_uri": "https://localhost:8080/"
        },
        "id": "dfeSndJAF3Bq",
        "outputId": "67c91f09-dc87-4d43-d890-d3d449272b9d"
      },
      "execution_count": 4,
      "outputs": [
        {
          "output_type": "stream",
          "name": "stdout",
          "text": [
            "['apple', 'banana', 'orange', 'mango', 'grape']\n"
          ]
        },
        {
          "output_type": "execute_result",
          "data": {
            "text/plain": [
              "list"
            ]
          },
          "metadata": {},
          "execution_count": 4
        }
      ]
    },
    {
      "cell_type": "markdown",
      "source": [
        "## Learner Activity"
      ],
      "metadata": {
        "id": "kdkWJEiDHr6f"
      }
    },
    {
      "cell_type": "code",
      "source": [
        "# store first_name of 3 of your friends in a variable called friends\n",
        "# print them"
      ],
      "metadata": {
        "id": "gpEBLyw5Hrdr"
      },
      "execution_count": 3,
      "outputs": []
    },
    {
      "cell_type": "markdown",
      "metadata": {
        "id": "syHi7IZnB5hL"
      },
      "source": [
        "## Instructor Activity 1\n",
        "**Concept**: Using `join()` to combine list items into strings\n",
        "\n",
        "### Example 1: Basic Join\n",
        "\n",
        "**Problem**: Combine words from a list into a sentence\n",
        "\n",
        "**Expected Output**: `Python is awesome`"
      ]
    },
    {
      "cell_type": "code",
      "execution_count": null,
      "metadata": {
        "id": "kNsCqMZzB5hL"
      },
      "outputs": [],
      "source": [
        "# Empty cell for demonstration"
      ]
    },
    {
      "cell_type": "markdown",
      "metadata": {
        "id": "T0BpFl-JB5hM"
      },
      "source": [
        "<details>\n",
        "<summary>Solution</summary>\n",
        "\n",
        "```python\n",
        "# List of words\n",
        "words = [\"Python\", \"is\", \"awesome\"]\n",
        "\n",
        "# Join with spaces\n",
        "sentence = \" \".join(words)\n",
        "print(sentence)\n",
        "```\n",
        "\n",
        "**Why this works:**\n",
        "The `join()` method combines list items into a string. The string before `.join()` (in this case `\" \"`) is the separator placed between items.\n",
        "\n",
        "</details>"
      ]
    },
    {
      "cell_type": "markdown",
      "metadata": {
        "id": "sqqN8nO9B5hM"
      },
      "source": [
        "### Example 2: Join with Different Separators\n",
        "\n",
        "**Problem**: Join words with different separators\n",
        "\n",
        "**Expected Output**:\n",
        "```\n",
        "Python-is-awesome\n",
        "Python, is, awesome\n",
        "```"
      ]
    },
    {
      "cell_type": "code",
      "execution_count": null,
      "metadata": {
        "id": "oRYQa5TXB5hM"
      },
      "outputs": [],
      "source": [
        "# Empty cell for demonstration"
      ]
    },
    {
      "cell_type": "markdown",
      "metadata": {
        "id": "FCkqwBDeB5hM"
      },
      "source": [
        "<details>\n",
        "<summary>Solution</summary>\n",
        "\n",
        "```python\n",
        "words = [\"Python\", \"is\", \"awesome\"]\n",
        "\n",
        "# Join with dash\n",
        "print(\"-\".join(words))  # Python-is-awesome\n",
        "\n",
        "# Join with comma and space\n",
        "print(\", \".join(words))  # Python, is, awesome\n",
        "```\n",
        "\n",
        "**Why this works:**\n",
        "You can use any string as a separator. This is useful for formatting data - for example, joining file paths or creating CSV rows.\n",
        "\n",
        "</details>"
      ]
    },
    {
      "cell_type": "markdown",
      "metadata": {
        "id": "yTuAXZ7bB5hM"
      },
      "source": [
        "---\n",
        "\n",
        "## Learner Activity 1\n",
        "**Practice**: Using `join()` method\n",
        "\n",
        "### Exercise 1: Create a Sentence\n",
        "\n",
        "**Task**: Create a list of 4-5 words and use `join()` to make a sentence with spaces"
      ]
    },
    {
      "cell_type": "code",
      "execution_count": null,
      "metadata": {
        "id": "lnrBMt1OB5hM"
      },
      "outputs": [],
      "source": [
        "# Your code here"
      ]
    },
    {
      "cell_type": "markdown",
      "metadata": {
        "id": "-lNeUB4fB5hM"
      },
      "source": [
        "<details>\n",
        "<summary>Solution</summary>\n",
        "\n",
        "```python\n",
        "# Your word list\n",
        "words = [\"I\", \"love\", \"learning\", \"Python\"]\n",
        "\n",
        "# Join into sentence\n",
        "sentence = \" \".join(words)\n",
        "print(sentence)  # I love learning Python\n",
        "```\n",
        "\n",
        "**Why this works:**\n",
        "This is useful in AI applications when you need to combine tokens or phrases generated by a model into coherent text.\n",
        "\n",
        "</details>"
      ]
    },
    {
      "cell_type": "markdown",
      "metadata": {
        "id": "fe_D5hRiB5hM"
      },
      "source": [
        "---\n",
        "\n",
        "## Instructor Activity 2\n",
        "**Concept**: Case transformation with `lower()` and `upper()`\n",
        "\n",
        "### Example 1: Converting to Lowercase\n",
        "\n",
        "**Problem**: Normalize text to lowercase for comparison\n",
        "\n",
        "**Expected Output**: `hello world`"
      ]
    },
    {
      "cell_type": "code",
      "execution_count": null,
      "metadata": {
        "id": "hp9vL4waB5hM"
      },
      "outputs": [],
      "source": [
        "# Empty cell for demonstration"
      ]
    },
    {
      "cell_type": "markdown",
      "metadata": {
        "id": "eOIsNT25B5hN"
      },
      "source": [
        "<details>\n",
        "<summary>Solution</summary>\n",
        "\n",
        "```python\n",
        "# Original text with mixed case\n",
        "message = \"HELLO World\"\n",
        "\n",
        "# Convert to lowercase\n",
        "lowercase_message = message.lower()\n",
        "print(lowercase_message)  # hello world\n",
        "```\n",
        "\n",
        "**Why this works:**\n",
        "The `.lower()` method returns a new string with all characters in lowercase. The original string remains unchanged. This is essential for case-insensitive comparisons in search and matching.\n",
        "\n",
        "</details>"
      ]
    },
    {
      "cell_type": "markdown",
      "metadata": {
        "id": "pTYBrmx_B5hN"
      },
      "source": [
        "---\n",
        "\n",
        "## Learner Activity 2\n",
        "**Practice**: Case transformation\n",
        "\n",
        "### Exercise 1: Case Converter\n",
        "\n",
        "**Task**: Create a mixed-case string, convert to lowercase, then convert to uppercase"
      ]
    },
    {
      "cell_type": "code",
      "execution_count": null,
      "metadata": {
        "id": "yo1xn4QuB5hN"
      },
      "outputs": [],
      "source": [
        "# Your code here"
      ]
    },
    {
      "cell_type": "markdown",
      "metadata": {
        "id": "owIndxS2B5hN"
      },
      "source": [
        "<details>\n",
        "<summary>Solution</summary>\n",
        "\n",
        "```python\n",
        "# Mixed case text\n",
        "text = \"PyThOn Is FuN\"\n",
        "\n",
        "# Convert to lowercase\n",
        "print(text.lower())  # python is fun\n",
        "\n",
        "# Convert to uppercase\n",
        "print(text.upper())  # PYTHON IS FUN\n",
        "```\n",
        "\n",
        "**Why this works:**\n",
        "Case normalization is crucial in NLP and search applications. User queries \"Python\", \"python\", and \"PYTHON\" should all match the same results.\n",
        "\n",
        "</details>"
      ]
    },
    {
      "cell_type": "markdown",
      "metadata": {
        "id": "ghR-SzNPB5hN"
      },
      "source": [
        "---\n",
        "\n",
        "## Instructor Activity 3\n",
        "**Concept**: Checking substring membership with `in`\n",
        "\n",
        "### Example 1: Substring Search\n",
        "\n",
        "**Problem**: Check if a word exists in a sentence\n",
        "\n",
        "**Expected Output**:\n",
        "```\n",
        "True\n",
        "False\n",
        "```"
      ]
    },
    {
      "cell_type": "code",
      "execution_count": null,
      "metadata": {
        "id": "WzoxPXC1B5hN"
      },
      "outputs": [],
      "source": [
        "# Empty cell for demonstration"
      ]
    },
    {
      "cell_type": "markdown",
      "metadata": {
        "id": "83YABIuCB5hN"
      },
      "source": [
        "<details>\n",
        "<summary>Solution</summary>\n",
        "\n",
        "```python\n",
        "text = \"Python is a great programming language\"\n",
        "\n",
        "# Check if \"Python\" is in the text\n",
        "print(\"Python\" in text)  # True\n",
        "\n",
        "# Check if \"Java\" is in the text\n",
        "print(\"Java\" in text)    # False\n",
        "```\n",
        "\n",
        "**Why this works:**\n",
        "The `in` operator checks if one string exists within another, returning `True` or `False`. It's case-sensitive: \"python\" ≠ \"Python\".\n",
        "\n",
        "</details>"
      ]
    },
    {
      "cell_type": "markdown",
      "metadata": {
        "id": "7w9Yjp0MB5hN"
      },
      "source": [
        "---\n",
        "\n",
        "## Learner Activity 3\n",
        "**Practice**: Substring checking\n",
        "\n",
        "### Exercise 1: Search Your String\n",
        "\n",
        "**Task**: Create a sentence and test if various words are in it using case-insensitive search (hint: use `.lower()` on both)"
      ]
    },
    {
      "cell_type": "code",
      "execution_count": null,
      "metadata": {
        "id": "AaUbPmxZB5hN"
      },
      "outputs": [],
      "source": [
        "# Your code here"
      ]
    },
    {
      "cell_type": "markdown",
      "metadata": {
        "id": "agtKR1zrB5hN"
      },
      "source": [
        "<details>\n",
        "<summary>Solution</summary>\n",
        "\n",
        "```python\n",
        "sentence = \"I Love Learning Python Programming\"\n",
        "search_word = \"python\"\n",
        "\n",
        "# Case-insensitive search\n",
        "result = search_word.lower() in sentence.lower()\n",
        "print(result)  # True\n",
        "```\n",
        "\n",
        "**Why this works:**\n",
        "By converting both strings to lowercase before comparison, we make the search case-insensitive. This is a common pattern in search functionality.\n",
        "\n",
        "</details>"
      ]
    },
    {
      "cell_type": "markdown",
      "metadata": {
        "id": "h5V1IJMPB5hN"
      },
      "source": [
        "---\n",
        "\n",
        "## Instructor Activity 4\n",
        "**Concept**: Getting user input with `input()`\n",
        "\n",
        "### Example 1: Basic Input\n",
        "\n",
        "**Problem**: Ask user for their name and greet them\n",
        "\n",
        "**Expected Output**: `Hello, Alice!` (with user's name)"
      ]
    },
    {
      "cell_type": "code",
      "execution_count": null,
      "metadata": {
        "id": "hmMpzsq0B5hN"
      },
      "outputs": [],
      "source": [
        "# Empty cell for demonstration"
      ]
    },
    {
      "cell_type": "markdown",
      "metadata": {
        "id": "E1rSpkUzB5hN"
      },
      "source": [
        "<details>\n",
        "<summary>Solution</summary>\n",
        "\n",
        "```python\n",
        "# Ask for user's name\n",
        "name = input(\"What is your name? \")\n",
        "\n",
        "# Greet the user\n",
        "print(f\"Hello, {name}!\")\n",
        "```\n",
        "\n",
        "**Why this works:**\n",
        "The `input()` function displays a prompt, waits for user input, and returns what they type as a string. The program pauses at `input()` until the user presses Enter.\n",
        "\n",
        "</details>"
      ]
    },
    {
      "cell_type": "markdown",
      "metadata": {
        "id": "SgzFgxtjB5hN"
      },
      "source": [
        "### Example 2: Input is Always a String\n",
        "\n",
        "**Problem**: Demonstrate that `input()` always returns a string\n",
        "\n",
        "**Expected Output**: `<class 'str'>` (even if user enters a number)"
      ]
    },
    {
      "cell_type": "code",
      "execution_count": null,
      "metadata": {
        "id": "w5WTVRlAB5hN"
      },
      "outputs": [],
      "source": [
        "# Empty cell for demonstration"
      ]
    },
    {
      "cell_type": "markdown",
      "metadata": {
        "id": "K3LL-h3KB5hN"
      },
      "source": [
        "<details>\n",
        "<summary>Solution</summary>\n",
        "\n",
        "```python\n",
        "# Ask for age\n",
        "age = input(\"What is your age? \")\n",
        "\n",
        "# Check the type\n",
        "print(type(age))  # <class 'str'> even if you entered \"25\"\n",
        "```\n",
        "\n",
        "**Why this works:**\n",
        "`input()` always returns a string, regardless of what the user types. To use it as a number, you'd need to convert it with `int()` or `float()`.\n",
        "\n",
        "</details>"
      ]
    },
    {
      "cell_type": "markdown",
      "metadata": {
        "id": "eX0aUU3uB5hN"
      },
      "source": [
        "---\n",
        "\n",
        "## Learner Activity 4\n",
        "**Practice**: Working with user input\n",
        "\n",
        "### Exercise 1: Interactive Program\n",
        "\n",
        "**Task**: Ask for user's favorite color and display a personalized message using it"
      ]
    },
    {
      "cell_type": "code",
      "execution_count": null,
      "metadata": {
        "id": "XxpRmUHHB5hN"
      },
      "outputs": [],
      "source": [
        "# Your code here"
      ]
    },
    {
      "cell_type": "markdown",
      "metadata": {
        "id": "v9B0V8B-B5hN"
      },
      "source": [
        "<details>\n",
        "<summary>Solution</summary>\n",
        "\n",
        "```python\n",
        "# Get favorite color\n",
        "color = input(\"What is your favorite color? \")\n",
        "\n",
        "# Display personalized message\n",
        "print(f\"{color} is a beautiful color!\")\n",
        "```\n",
        "\n",
        "**Why this works:**\n",
        "Combining `input()` with f-strings creates interactive, personalized programs. This is the foundation of chatbots and conversational AI.\n",
        "\n",
        "</details>"
      ]
    },
    {
      "cell_type": "markdown",
      "metadata": {
        "id": "0jCoJ7ssB5hN"
      },
      "source": [
        "### Exercise 2: Multiple Inputs\n",
        "\n",
        "**Task**: Create a program that asks 3 questions (name, age, city) and displays all answers in a formatted way"
      ]
    },
    {
      "cell_type": "code",
      "execution_count": null,
      "metadata": {
        "id": "06wQZdpXB5hN"
      },
      "outputs": [],
      "source": [
        "# Your code here"
      ]
    },
    {
      "cell_type": "markdown",
      "metadata": {
        "id": "KSmx1mHtB5hN"
      },
      "source": [
        "<details>\n",
        "<summary>Solution</summary>\n",
        "\n",
        "```python\n",
        "# Collect user information\n",
        "name = input(\"What is your name? \")\n",
        "age = input(\"What is your age? \")\n",
        "city = input(\"What city do you live in? \")\n",
        "\n",
        "# Display formatted profile\n",
        "print(f\"\\nUser Profile:\")\n",
        "print(f\"Name: {name}\")\n",
        "print(f\"Age: {age}\")\n",
        "print(f\"City: {city}\")\n",
        "```\n",
        "\n",
        "**Why this works:**\n",
        "Multiple `input()` calls collect various pieces of information. The `\\n` in the print creates a blank line for better formatting.\n",
        "\n",
        "</details>"
      ]
    },
    {
      "cell_type": "markdown",
      "metadata": {
        "id": "oejbv4ygB5hN"
      },
      "source": [
        "---\n",
        "\n",
        "## Optional Extra Practice\n",
        "**Challenge yourself with these problems that integrate all the concepts**\n",
        "\n",
        "### Challenge 1: Smart Search\n",
        "\n",
        "**Task**: Create a program that:\n",
        "1. Has a predefined document (long string)\n",
        "2. Asks user for a search term\n",
        "3. Performs case-insensitive search\n",
        "4. Reports if term was found"
      ]
    },
    {
      "cell_type": "code",
      "execution_count": null,
      "metadata": {
        "id": "BOWkxgKdB5hN"
      },
      "outputs": [],
      "source": [
        "# Your code here"
      ]
    },
    {
      "cell_type": "markdown",
      "metadata": {
        "id": "xbFgQAIlB5hO"
      },
      "source": [
        "<details>\n",
        "<summary>Solution</summary>\n",
        "\n",
        "```python\n",
        "# Simulated document\n",
        "document = \"\"\"Python is a high-level programming language.\n",
        "It is widely used in AI and machine learning applications.\n",
        "Python has a simple and readable syntax.\"\"\"\n",
        "\n",
        "# Get search term from user\n",
        "search_term = input(\"Enter a word to search for: \")\n",
        "\n",
        "# Case-insensitive search\n",
        "if search_term.lower() in document.lower():\n",
        "    print(f\"✓ Found '{search_term}' in the document!\")\n",
        "else:\n",
        "    print(f\"✗ '{search_term}' not found in the document.\")\n",
        "```\n",
        "\n",
        "**Why this works:**\n",
        "This simulates a basic search feature in a RAG system:\n",
        "- Store document (retrieved context)\n",
        "- Get user query\n",
        "- Normalize both for comparison (`.lower()`)\n",
        "- Check if query term exists in context\n",
        "\n",
        "Real RAG systems use embeddings for semantic search, but the principle of matching queries to context is the same.\n",
        "\n",
        "</details>"
      ]
    },
    {
      "cell_type": "markdown",
      "metadata": {
        "id": "8LXshhCnB5hO"
      },
      "source": [
        "### Challenge 2: Mad Libs Generator\n",
        "\n",
        "**Task**: Create a Mad Libs game that:\n",
        "1. Asks for a noun, verb, and adjective\n",
        "2. Creates a funny sentence using those words\n",
        "3. Uses string methods to format the output"
      ]
    },
    {
      "cell_type": "code",
      "execution_count": null,
      "metadata": {
        "id": "BUsveAOuB5hO"
      },
      "outputs": [],
      "source": [
        "# Your code here"
      ]
    },
    {
      "cell_type": "markdown",
      "metadata": {
        "id": "IwvgHM3HB5hQ"
      },
      "source": [
        "<details>\n",
        "<summary>Solution</summary>\n",
        "\n",
        "```python\n",
        "# Collect words from user\n",
        "noun = input(\"Enter a noun: \")\n",
        "verb = input(\"Enter a verb: \")\n",
        "adjective = input(\"Enter an adjective: \")\n",
        "\n",
        "# Create Mad Lib story\n",
        "story = f\"\"\"Once upon a time, there was a {adjective} {noun}.\n",
        "Every day, it would {verb} in the park.\n",
        "Everyone thought it was the most {adjective} thing ever!\"\"\"\n",
        "\n",
        "# Display the story\n",
        "print(\"\\n\" + \"=\"*50)\n",
        "print(\"YOUR MAD LIB STORY:\")\n",
        "print(\"=\"*50)\n",
        "print(story.upper())  # Make it exciting!\n",
        "print(\"=\"*50)\n",
        "```\n",
        "\n",
        "**Why this works:**\n",
        "This demonstrates dynamic text generation:\n",
        "- Template with placeholders (f-string)\n",
        "- User input fills the blanks\n",
        "- String methods enhance formatting\n",
        "\n",
        "This is similar to how LLMs work with prompts - templates filled with dynamic content!\n",
        "\n",
        "</details>"
      ]
    }
  ],
  "metadata": {
    "kernelspec": {
      "display_name": "Python 3",
      "language": "python",
      "name": "python3"
    },
    "language_info": {
      "codemirror_mode": {
        "name": "ipython",
        "version": 3
      },
      "file_extension": ".py",
      "mimetype": "text/x-python",
      "name": "python",
      "nbconvert_exporter": "python",
      "pygments_lexer": "ipython3",
      "version": "3.8.0"
    },
    "colab": {
      "provenance": []
    }
  },
  "nbformat": 4,
  "nbformat_minor": 0
}