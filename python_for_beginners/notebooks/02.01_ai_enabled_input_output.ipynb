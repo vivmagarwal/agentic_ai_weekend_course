{
  "cells": [
    {
      "cell_type": "markdown",
      "metadata": {
        "id": "nzy4OSwFax3e"
      },
      "source": [
        "# AI-Enabled Input/Output: Your First LLM Application\n",
        "\n",
        "## Learning Objectives\n",
        "By the end of this section, you will be able to:\n",
        "- Understand the difference between User Interfaces (UI) and Application Programming Interfaces (API)\n",
        "- Install and import external Python packages using pip\n",
        "- Set up and authenticate with an AI API using API keys\n",
        "- Make your first API call to a Large Language Model (LLM)\n",
        "- Create an interactive AI-powered question-answering program\n",
        "\n",
        "## Why This Matters: Real-World AI/RAG/Agentic Applications\n",
        "**In AI Systems:**\n",
        "- APIs are the foundation of all AI integrations - they let your code talk to powerful AI models\n",
        "- API keys provide secure, authenticated access to AI services\n",
        "- External packages (like google-generativeai) provide ready-made tools to interact with complex systems\n",
        "\n",
        "**In RAG Pipelines:**\n",
        "- RAG systems use APIs to send retrieved context + user query to LLMs\n",
        "- Your program retrieves relevant documents, then uses an LLM API to generate answers\n",
        "- This lesson teaches you the \"generation\" part of Retrieval-Augmented Generation\n",
        "\n",
        "**In Agentic AI:**\n",
        "- Agents use LLM APIs as their \"brain\" to make decisions and generate responses\n",
        "- Every agent action involves an API call to process information and choose next steps\n",
        "- Learning API basics today prepares you to build autonomous AI agents tomorrow\n",
        "\n",
        "## Prerequisites\n",
        "- Understanding of variables, strings, and f-strings (Lesson 01)\n",
        "- Ability to use `input()` function and type conversion (Lesson 02)\n",
        "- A Google account (to get a free Gemini API key)\n",
        "\n",
        "---"
      ]
    },
    {
      "cell_type": "markdown",
      "metadata": {
        "id": "Jfrk7FeAax3g"
      },
      "source": [
        "## Learner Activity 1: Quick Recap - Calculator with Formatted Output\n",
        "**Practice**: Review what you learned in previous lessons\n",
        "\n",
        "### Exercise: Simple Calculator\n",
        "\n",
        "**Task**: Create a program that:\n",
        "1. Asks the user for two numbers (use `input()`)\n",
        "2. Converts them to integers (use `int()`)\n",
        "3. Calculates their sum\n",
        "4. Prints a formatted string like: `\"5 + 3 = 8\"` (use f-string)\n",
        "\n",
        "**Expected Output**:\n",
        "```\n",
        "Enter first number: 5\n",
        "Enter second number: 3\n",
        "5 + 3 = 8\n",
        "```"
      ]
    },
    {
      "cell_type": "code",
      "execution_count": null,
      "metadata": {
        "id": "WGpppBdfax3h"
      },
      "outputs": [],
      "source": [
        "# Your code here"
      ]
    },
    {
      "cell_type": "markdown",
      "metadata": {
        "id": "DDSim_4nax3h"
      },
      "source": [
        "<details>\n",
        "<summary>Solution</summary>\n",
        "\n",
        "```python\n",
        "# Get two numbers from user\n",
        "num1_str = input(\"Enter first number: \")\n",
        "num1 = int(num1_str)\n",
        "\n",
        "num2_str = input(\"Enter second number: \")\n",
        "num2 = int(num2_str)\n",
        "\n",
        "# Calculate sum\n",
        "total = num1 + num2\n",
        "\n",
        "# Print formatted output\n",
        "print(f\"{num1} + {num2} = {total}\")\n",
        "```\n",
        "\n",
        "**Why this works:**\n",
        "This combines everything from previous lessons:\n",
        "- `input()` captures user data as strings\n",
        "- `int()` converts strings to integers for math operations\n",
        "- F-strings (`f\"...\"`) create formatted output by embedding variables with `{}`\n",
        "- This pattern of input → process → formatted output is fundamental to all interactive programs\n",
        "\n",
        "</details>"
      ]
    },
    {
      "cell_type": "markdown",
      "metadata": {
        "id": "AjGsCYrwax3i"
      },
      "source": [
        "---\n",
        "\n",
        "## Instructor Activity 1: Understanding APIs\n",
        "**Concept**: The difference between User Interfaces (UI) and Programming Interfaces (API)\n",
        "\n",
        "### UI vs API: What's the Difference?\n",
        "\n",
        "**User Interface (UI)** - For humans:\n",
        "- Gmail UI: Click buttons, read emails, type messages\n",
        "- ChatGPT UI: Type in chat box, see responses\n",
        "- Google Docs UI: See formatted text, use menus\n",
        "\n",
        "**Application Programming Interface (API)** - For code:\n",
        "- Gmail API: Your code reads/sends emails automatically\n",
        "- OpenAI API: Your code sends questions → receives AI responses\n",
        "- Gemini API: Your code talks to Google's AI programmatically\n",
        "\n",
        "**Key Difference:**\n",
        "- **UI**: Humans interact manually (one at a time)\n",
        "- **API**: Code automates tasks (thousands at a time)\n",
        "\n",
        "---\n",
        "\n",
        "### Example: Email Automation\n",
        "\n",
        "**Manual (UI):**\n",
        "1. Open Gmail\n",
        "2. Read each email\n",
        "3. Manually reply\n",
        "\n",
        "**Automated (API):**\n",
        "```python\n",
        "emails = gmail_api.get_unread_emails()\n",
        "for email in emails:\n",
        "    if \"urgent\" in email.subject:\n",
        "        gmail_api.send_reply(email, \"I'll respond shortly!\")\n",
        "```\n",
        "\n",
        "**The API lets you automate what you'd do manually!**\n",
        "\n",
        "---\n",
        "\n",
        "### Why API Keys?\n",
        "\n",
        "**UI Access:** Username + Password  \n",
        "**API Access:** API Key (like a password for programs)\n",
        "\n",
        "**API keys:**\n",
        "- Prove you're authorized\n",
        "- Track your usage (free tiers have limits)\n",
        "- Keep your account secure\n",
        "\n",
        "**Example:**\n",
        "- ChatGPT website → Login with email/password\n",
        "- OpenAI API in code → Use API key\n",
        "\n",
        "---\n",
        "\n",
        "### Today's Goal\n",
        "\n",
        "Use the **Gemini API** to:\n",
        "1. Get a free API key\n",
        "2. Install the Python package\n",
        "3. Send questions to AI\n",
        "4. Build an interactive Q&A program\n",
        "\n",
        "**This is the foundation of ALL AI applications!**"
      ]
    },
    {
      "cell_type": "markdown",
      "metadata": {
        "id": "0x86mZMfax3i"
      },
      "source": [
        "---\n",
        "\n",
        "## Instructor Activity 2: Installing Packages and Setting Up API Access\n",
        "**Concept**: Using external packages and authenticating with API keys\n",
        "\n",
        "### 🧰 The Toolbox Analogy\n",
        "\n",
        "Think of Python packages like toolboxes:\n",
        "- **Installing** = Order a toolbox, get it delivered to your garage (do ONCE per session)\n",
        "- **Importing** = Open the toolbox, take out the tool you need (do in EVERY program)\n",
        "\n",
        "### Step 1: Install the Package\n",
        "\n",
        "```python\n",
        "!pip install google-generativeai\n",
        "```\n",
        "\n",
        "**Word-by-word:**\n",
        "- `!` = Run a terminal command (Colab/Jupyter feature)\n",
        "- `pip` = Python's package installer (like an app store)\n",
        "- `install` = Download and set up\n",
        "- `google-generativeai` = The package name (toolbox we want)\n",
        "\n",
        "**What happens:** Downloads AI tools from Python's package warehouse (PyPI) and installs them in your environment.\n",
        "\n",
        "---\n",
        "\n",
        "### Step 2: Import the Package\n",
        "\n",
        "```python\n",
        "import google.generativeai as genai\n",
        "```\n",
        "\n",
        "**Word-by-word:**\n",
        "- `import` = Load this package into my program\n",
        "- `google.generativeai` = Full package name (the toolbox)\n",
        "- `as genai` = Create a short nickname \"genai\"\n",
        "\n",
        "**What happens:** Opens the toolbox and makes the AI tools available as `genai`.\n",
        "\n",
        "---\n",
        "\n",
        "### 🔑 Install vs Import - The Key Difference\n",
        "\n",
        "```python\n",
        "# INSTALL once per Colab session:\n",
        "!pip install google-generativeai  # \"Deliver toolbox to garage\"\n",
        "\n",
        "# IMPORT in every program:\n",
        "import google.generativeai as genai  # \"Open toolbox, grab tool\"\n",
        "```\n",
        "\n",
        "**Quick Comparison:**\n",
        "- **Install**: Like buying a hammer → Do ONCE when you need it\n",
        "- **Import**: Like taking hammer from toolbox → Do EVERY time you build something\n",
        "\n",
        "---\n",
        "\n",
        "### Step 3: Get Your API Key\n",
        "\n",
        "1. Go to: https://aistudio.google.com/app/apikey\n",
        "2. Sign in with Google account\n",
        "3. Click \"Create API Key\"\n",
        "4. Copy the key (looks like: `AIzaSyB...`)\n",
        "\n",
        "⚠️ **Keep your API key secret!**\n",
        "\n",
        "---\n",
        "\n",
        "### Step 4: Configure the API\n",
        "\n",
        "```python\n",
        "genai.configure(api_key=\"YOUR_API_KEY_HERE\")\n",
        "```\n",
        "\n",
        "**What this does:** Authenticates you with Google's servers so you can use the AI.\n",
        "\n",
        "---\n",
        "\n",
        "### Let's Do It!"
      ]
    },
    {
      "cell_type": "markdown",
      "source": [
        "## **Storing secrets securely in Google Colab.**\n",
        "\n",
        "Google Colab's Secrets feature provides a secure way to store and manage sensitive information, such as API keys, passwords, and other credentials, within your Colab environment. This feature helps prevent the exposure of these details when sharing notebooks."
      ],
      "metadata": {
        "id": "PIYAsfbpvuAS"
      }
    },
    {
      "cell_type": "code",
      "source": [
        "## Instructor demonstrates storing key-value secrets in the Google Collab secrets feature and then retrieving it using it in the code, maybe with simple examples."
      ],
      "metadata": {
        "id": "8iKl46mxvNYh"
      },
      "execution_count": null,
      "outputs": []
    },
    {
      "cell_type": "code",
      "source": [
        "## Learners practice storing and retrieving key-value secrets here."
      ],
      "metadata": {
        "id": "esZa7vAjvNIw"
      },
      "execution_count": null,
      "outputs": []
    },
    {
      "cell_type": "code",
      "execution_count": null,
      "metadata": {
        "id": "8WYGzVzFax3i"
      },
      "outputs": [],
      "source": [
        "# Step 1: Install the package (run once per session)\n",
        "!pip install -q google-generativeai"
      ]
    },
    {
      "cell_type": "code",
      "execution_count": null,
      "metadata": {
        "id": "7E9c3W7Lax3i"
      },
      "outputs": [],
      "source": [
        "# Step 2: Import the package with a shorter nickname\n",
        "import google.generativeai as genai\n",
        "\n",
        "# Step 3: Configure with your API key\n",
        "# Replace 'YOUR_API_KEY_HERE' with your actual key from https://aistudio.google.com/app/apikey\n",
        "genai.configure(api_key=\"YOUR_API_KEY_HERE\")\n",
        "\n",
        "print(\"✅ Setup complete! Ready to use Gemini AI.\")"
      ]
    },
    {
      "cell_type": "markdown",
      "metadata": {
        "id": "D9z56p7Kax3j"
      },
      "source": [
        "**Why this works:**\n",
        "- `!pip install -q google-generativeai` → Downloads AI tools from the internet (`-q` = quiet mode, less output)\n",
        "- `import google.generativeai as genai` → Loads the tools into your program with nickname \"genai\"\n",
        "- `genai.configure(api_key=\"...\")` → Authenticates you with Google's AI servers\n",
        "\n",
        "Now we're ready to talk to the AI! 🤖"
      ]
    },
    {
      "cell_type": "markdown",
      "metadata": {
        "id": "yMTJuntVax3j"
      },
      "source": [
        "---\n",
        "\n",
        "## Instructor Activity 3: Making Your First LLM API Call\n",
        "**Concept**: Sending a question to an AI model and receiving a response\n",
        "\n",
        "### How LLM APIs Work\n",
        "\n",
        "1. **Your code** → Sends text prompt to AI\n",
        "2. **AI Server** → Processes with language model\n",
        "3. **Response** → Sends back generated text\n",
        "4. **Your code** → Receives and displays response\n",
        "\n",
        "### Example 1: Ask the AI About Python"
      ]
    },
    {
      "cell_type": "markdown",
      "source": [
        "# **Getting Started with Gemini API**\n",
        "\n",
        "Here's how to use Google's Gemini API in Python:\n",
        "\n",
        "## Setup Steps\n",
        "\n",
        "**1. Install the toolbox**\n",
        "```python\n",
        "!pip install -q google-generativeai\n",
        "```\n",
        "\n",
        "**2. Import the tool**\n",
        "```python\n",
        "import google.generativeai as genai\n",
        "```\n",
        "\n",
        "**3. Configure with your API key**\n",
        "```python\n",
        "genai.configure(api_key=google_api_key)\n",
        "```\n",
        "\n",
        "**4. Create a model instance**\n",
        "```python\n",
        "model = genai.GenerativeModel('gemini-2.5-flash')\n",
        "```\n",
        "\n",
        "**5. Generate content**\n",
        "```python\n",
        "response = model.generate_content(question)\n",
        "```\n",
        "\n",
        "**6. Print the response**\n",
        "```python\n",
        "print(response.text)\n",
        "```\n",
        "\n",
        "## Quick Visual\n",
        "\n",
        "```markdown\n",
        "┌─────────────────────────────────────────┐\n",
        "│  Install google-generativeai package   │\n",
        "└───────────────┬─────────────────────────┘\n",
        "                │\n",
        "                ▼\n",
        "┌─────────────────────────────────────────┐\n",
        "│  Import genai library                   │\n",
        "└───────────────┬─────────────────────────┘\n",
        "                │\n",
        "                ▼\n",
        "┌─────────────────────────────────────────┐\n",
        "│  Configure API key                      │\n",
        "└───────────────┬─────────────────────────┘\n",
        "                │\n",
        "                ▼\n",
        "┌─────────────────────────────────────────┐\n",
        "│  Create GenerativeModel instance        │\n",
        "└───────────────┬─────────────────────────┘\n",
        "                │\n",
        "                ▼\n",
        "┌─────────────────────────────────────────┐\n",
        "│  Call generate_content()                │\n",
        "└───────────────┬─────────────────────────┘\n",
        "                │\n",
        "                ▼\n",
        "┌─────────────────────────────────────────┐\n",
        "│  Get your AI response!                  │\n",
        "└─────────────────────────────────────────┘\n",
        "```"
      ],
      "metadata": {
        "id": "S1aogPg31wjr"
      }
    },
    {
      "cell_type": "code",
      "execution_count": null,
      "metadata": {
        "id": "-xeHQrnKax3j"
      },
      "outputs": [],
      "source": [
        "# Create a model instance\n",
        "# 'gemini-2.5-flash' is a fast, efficient model from Google\n",
        "model = genai.GenerativeModel('gemini-2.5-flash')\n",
        "\n",
        "# Send a prompt to the AI\n",
        "question = \"What is Python programming language in one sentence?\"\n",
        "response = model.generate_content(question)\n",
        "\n",
        "# Print the AI's response\n",
        "print(response.text)"
      ]
    },
    {
      "cell_type": "markdown",
      "metadata": {
        "id": "kJOnDINlax3j"
      },
      "source": [
        "**Why this works:**\n",
        "- `genai.GenerativeModel('gemini-2.5-flash')` → Creates connection to Google's AI model\n",
        "- `model.generate_content(question)` → Sends question, waits for response\n",
        "- `response.text` → Extracts text from response object\n",
        "\n",
        "**This is the same tech powering ChatGPT, Claude, and all AI chatbots!**\n",
        "\n",
        "### Example 2: Try Another Question"
      ]
    },
    {
      "cell_type": "markdown",
      "source": [
        "## **Better way to print markdown**\n",
        "\n",
        "```\n",
        "from IPython.display import display, Markdown\n",
        "\n",
        "# Instead of print(response.text)\n",
        "display(Markdown(response.text))\n",
        "```\n"
      ],
      "metadata": {
        "id": "rZbmrQAcUPzw"
      }
    },
    {
      "cell_type": "code",
      "execution_count": null,
      "metadata": {
        "id": "ucHaBJHAax3j"
      },
      "outputs": [],
      "source": [
        "# Ask a different question\n",
        "question = \"Explain what an API is to a 10-year-old.\"\n",
        "response = model.generate_content(question)\n",
        "\n",
        "# Print response\n",
        "display(Markdown(response.text))"
      ]
    },
    {
      "cell_type": "markdown",
      "metadata": {
        "id": "-v3S784Fax3j"
      },
      "source": [
        "**What just happened?**\n",
        "1. You wrote a question in code\n",
        "2. It traveled to Google's AI servers over the internet\n",
        "3. Gemini processed it and generated a response\n",
        "4. The response came back to your code\n",
        "5. You printed it\n",
        "\n",
        "**This is the foundation of EVERY AI-powered application!**"
      ]
    },
    {
      "cell_type": "markdown",
      "source": [
        "## **Learner Activity 3:4**\n",
        "\n",
        "Ensure that all the learners are successfully able to generate_content and print them"
      ],
      "metadata": {
        "id": "ifUSP8Pl2vnt"
      }
    },
    {
      "cell_type": "code",
      "source": [
        "# Step 1: Install google-generativeai package\n",
        "\n",
        "\n",
        "# Step 2: Import genai library\n",
        "\n",
        "\n",
        "# Step 3: Configure genai with API key\n",
        "\n",
        "\n",
        "# Step 4: Create GenerativeModel instance\n",
        "\n",
        "\n",
        "# Step 5: Generate content with a question\n",
        "\n",
        "\n",
        "# Step 6: Print the response\n"
      ],
      "metadata": {
        "id": "aeVNOFwK3QaG"
      },
      "execution_count": null,
      "outputs": []
    },
    {
      "cell_type": "markdown",
      "metadata": {
        "id": "OFkE5mL8ax3k"
      },
      "source": [
        "---\n",
        "\n",
        "## Instructor Activity 3.5: Securing Your API Key\n",
        "**Concept**: Why hardcoding API keys is dangerous and how to fix it\n",
        "\n",
        "### 🚨 The Problem\n",
        "\n",
        "When you write your API key directly in code:\n",
        "\n",
        "```python\n",
        "genai.configure(api_key=\"AIzaSyB1234567890\")  # ⚠️ DANGER!\n",
        "```\n",
        "\n",
        "**What can go wrong:**\n",
        "- Share screenshot → API key visible\n",
        "- Save to GitHub → Key is public\n",
        "- Someone sees your screen → Key stolen\n",
        "- Share notebook with friend → Key included\n",
        "\n",
        "**Result:** Someone steals your key and uses YOUR free quota!\n",
        "\n",
        "---\n",
        "\n",
        "### ✅ The Solution: getpass\n",
        "\n",
        "**getpass** = \"Get password\" securely (hides what you type)\n",
        "\n",
        "Think of it like typing your password on a website - you see dots (•••) instead of actual characters.\n",
        "\n",
        "**How it works:**\n",
        "\n",
        "```python\n",
        "from getpass import getpass\n",
        "\n",
        "# Ask for API key (typing is hidden)\n",
        "api_key = getpass(\"Enter your Gemini API key: \")\n",
        "\n",
        "# Now use it\n",
        "genai.configure(api_key=api_key)\n",
        "```\n",
        "\n",
        "**Benefits:**\n",
        "- ✅ Input is hidden (shows nothing or dots)\n",
        "- ✅ Not stored in notebook\n",
        "- ✅ Safe to share screenshots\n",
        "- ✅ Safe to share notebooks\n",
        "\n",
        "---\n",
        "\n",
        "### Let's Try It!\n",
        "\n",
        "**Example: Secure API Setup**"
      ]
    },
    {
      "cell_type": "code",
      "execution_count": null,
      "metadata": {
        "id": "ERb9Vpoxax3k"
      },
      "outputs": [],
      "source": [
        "# Import getpass\n",
        "from getpass import getpass\n",
        "import google.generativeai as genai\n",
        "\n",
        "# Get API key securely (typing will be hidden)\n",
        "api_key = getpass(\"Enter your Gemini API key: \")\n",
        "\n",
        "# Configure with the hidden key\n",
        "genai.configure(api_key=api_key)\n",
        "\n",
        "# Test it works\n",
        "model = genai.GenerativeModel('gemini-2.5-flash')\n",
        "response = model.generate_content(\"Say hello!\")\n",
        "\n",
        "# print(response.text)\n",
        "display(Markdown(response.text))\n",
        "\n",
        "print(\"\\n✅ API key secured and working!\")"
      ]
    },
    {
      "cell_type": "markdown",
      "metadata": {
        "id": "yfCo9bt-ax3k"
      },
      "source": [
        "**Why this works:**\n",
        "- `from getpass import getpass` → Imports the secure input function\n",
        "- `getpass(\"Enter...\")` → Asks for input but hides what you type (like password fields)\n",
        "- `genai.configure(api_key=api_key)` → Uses the hidden key (same as before, but secure)\n",
        "- Key is stored in variable `api_key`, not visible in code\n",
        "\n",
        "**When typing your key:**\n",
        "- You won't see anything (or just dots)\n",
        "- That's normal! It's working correctly\n",
        "- Press Enter when done typing\n",
        "\n",
        "**Now notebooks are safe to share!** 🎉\n",
        "\n",
        "---\n",
        "\n",
        "### 🔒 Security Best Practices\n",
        "\n",
        "**For learning (right now):**\n",
        "- ✅ Use `getpass` in notebooks\n",
        "- ✅ Never hardcode keys in code\n",
        "- ✅ Safe to share screenshots and notebooks\n",
        "\n",
        "**For production apps (Lesson 9):**\n",
        "- We'll learn about environment variables\n",
        "- Even more secure for deployed applications\n",
        "- For now, `getpass` is perfect!\n",
        "\n",
        "**Important:** If you accidentally expose your key:\n",
        "1. Go to https://aistudio.google.com/app/apikey\n",
        "2. Delete the old key\n",
        "3. Create a new one\n",
        "4. Update your code"
      ]
    },
    {
      "cell_type": "markdown",
      "metadata": {
        "id": "KHz4MrlDax3k"
      },
      "source": [
        "---\n",
        "\n",
        "## Learner Activity 2: Build Your Interactive AI Q&A Program\n",
        "**Practice**: Convert the hard-coded example into an interactive program\n",
        "\n",
        "### Exercise: AI-Powered Question Answering\n",
        "\n",
        "**Task**: Create a program that:\n",
        "1. Asks the user to enter a question (use `input()`)\n",
        "2. Sends that question to the Gemini AI\n",
        "3. Prints the AI's response\n",
        "4. Prints a formatted output like:\n",
        "   ```\n",
        "   Question: [user's question]\n",
        "   Answer: [AI's response]\n",
        "   ```\n",
        "\n",
        "**Expected Flow**:\n",
        "```\n",
        "Ask me anything: What is machine learning?\n",
        "\n",
        "Question: What is machine learning?\n",
        "Answer: Machine learning is a type of artificial intelligence...\n",
        "```\n",
        "\n",
        "**Hint**: Combine `input()`, the API call pattern from above, and f-strings for formatting!"
      ]
    },
    {
      "cell_type": "code",
      "execution_count": null,
      "metadata": {
        "id": "golAywXuax3k"
      },
      "outputs": [],
      "source": [
        "# Your code here"
      ]
    },
    {
      "cell_type": "markdown",
      "metadata": {
        "id": "TsDV6vaGax3k"
      },
      "source": [
        "<details>\n",
        "<summary>Solution</summary>\n",
        "\n",
        "```python\n",
        "# Get API key securely (if you haven't already)\n",
        "from getpass import getpass\n",
        "import google.generativeai as genai\n",
        "\n",
        "api_key = getpass(\"Enter your Gemini API key: \")\n",
        "genai.configure(api_key=api_key)\n",
        "\n",
        "# Get question from user\n",
        "user_question = input(\"Ask me anything: \")\n",
        "\n",
        "# Create model and send question\n",
        "model = genai.GenerativeModel('gemini-2.5-flash')\n",
        "response = model.generate_content(user_question)\n",
        "\n",
        "# Print formatted output\n",
        "print(f\"\\nQuestion: {user_question}\")\n",
        "print(f\"Answer: \")\n",
        "display(Markdown(response.text))\n",
        "```\n",
        "\n",
        "**Why this works:**\n",
        "This combines everything you've learned:\n",
        "- `getpass()` securely captures your API key (typing is hidden)\n",
        "- `input()` captures user's question dynamically\n",
        "- `genai.GenerativeModel()` creates connection to AI\n",
        "- `generate_content()` sends the question and receives response\n",
        "- `response.text` extracts the answer\n",
        "- F-strings format the output professionally\n",
        "- `\\n` creates a blank line for better readability\n",
        "\n",
        "**Congratulations!** You just built a secure AI-powered application! This is the exact same pattern used in:\n",
        "- ChatGPT-style chatbots\n",
        "- AI writing assistants\n",
        "- Customer service bots\n",
        "- RAG systems (which add document retrieval before this step)\n",
        "\n",
        "**Security Note:** Using `getpass` means you can safely share your notebook without exposing your API key! 🔒\n",
        "\n",
        "</details>"
      ]
    },
    {
      "cell_type": "markdown",
      "metadata": {
        "id": "FfH7iJHMax3k"
      },
      "source": [
        "---\n",
        "\n",
        "## Optional Extra Practice\n",
        "**Challenge yourself with these AI-powered applications**\n",
        "\n",
        "Remember: You've only learned variables, strings, input, type conversion, and basic API calls. Keep solutions simple!\n",
        "\n",
        "**💡 Security Tip:** Use `getpass` to enter your API key securely in all challenges:\n",
        "```python\n",
        "from getpass import getpass\n",
        "api_key = getpass(\"Enter your Gemini API key: \")\n",
        "genai.configure(api_key=api_key)\n",
        "```\n",
        "\n",
        "---\n",
        "\n",
        "### Challenge 1: AI Teacher\n",
        "\n",
        "**Task**: Create a program that:\n",
        "1. Asks user for a topic they want to learn\n",
        "2. Creates a prompt: \"Explain [topic] in simple terms for a beginner\"\n",
        "3. Sends to AI and prints response\n",
        "\n",
        "**Expected Output**:\n",
        "```\n",
        "What do you want to learn about? photosynthesis\n",
        "\n",
        "Learning about: photosynthesis\n",
        "[AI explanation]\n",
        "```"
      ]
    },
    {
      "cell_type": "code",
      "execution_count": null,
      "metadata": {
        "id": "2PSLTBuyax3k"
      },
      "outputs": [],
      "source": [
        "# Your code here"
      ]
    },
    {
      "cell_type": "markdown",
      "metadata": {
        "id": "CRMmDveSax3k"
      },
      "source": [
        "<details>\n",
        "<summary>Solution</summary>\n",
        "\n",
        "```python\n",
        "# Get topic from user\n",
        "topic = input(\"What do you want to learn about? \")\n",
        "\n",
        "# Create educational prompt\n",
        "prompt = f\"Explain {topic} in simple terms for a beginner\"\n",
        "\n",
        "# Send to AI\n",
        "model = genai.GenerativeModel('gemini-2.5-flash')\n",
        "response = model.generate_content(prompt)\n",
        "\n",
        "# Display\n",
        "print(f\"\\nLearning about: {topic}\")\n",
        "#print(response.text)\n",
        "display(Markdown(response.text))\n",
        "```\n",
        "\n",
        "**Why this works:**\n",
        "F-strings let you construct prompts dynamically. By adding \"in simple terms for a beginner\" to the prompt, you're guiding the AI to give age-appropriate explanations. This is called **prompt engineering**!\n",
        "\n",
        "</details>"
      ]
    },
    {
      "cell_type": "markdown",
      "metadata": {
        "id": "-ELi-g3jax3k"
      },
      "source": [
        "### Challenge 2: AI Writing Assistant\n",
        "\n",
        "**Task**: Create a program that:\n",
        "1. Asks user for a sentence they want to improve\n",
        "2. Sends prompt: \"Improve this sentence: [user's sentence]\"\n",
        "3. Prints both original and improved versions\n",
        "\n",
        "**Expected Output**:\n",
        "```\n",
        "Enter a sentence to improve: I goed to the store yesterday\n",
        "\n",
        "Original: I goed to the store yesterday\n",
        "Improved: [AI's corrected version]\n",
        "```"
      ]
    },
    {
      "cell_type": "code",
      "execution_count": null,
      "metadata": {
        "id": "spTG63s-ax3k"
      },
      "outputs": [],
      "source": [
        "# Your code here"
      ]
    },
    {
      "cell_type": "markdown",
      "metadata": {
        "id": "4KCERveqax3k"
      },
      "source": [
        "<details>\n",
        "<summary>Solution</summary>\n",
        "\n",
        "```python\n",
        "# Get sentence from user\n",
        "sentence = input(\"Enter a sentence to improve: \")\n",
        "\n",
        "# Create improvement prompt\n",
        "prompt = f\"Improve this sentence: {sentence}\"\n",
        "\n",
        "# Send to AI\n",
        "model = genai.GenerativeModel('gemini-2.5-flash')\n",
        "response = model.generate_content(prompt)\n",
        "\n",
        "# Display both versions\n",
        "print(f\"\\nOriginal: {sentence}\")\n",
        "print(f\"Improved: {response.text}\")\n",
        "```\n",
        "\n",
        "**Why this works:**\n",
        "This is a real writing assistant! Tools like Grammarly use similar patterns:\n",
        "1. Capture user's text\n",
        "2. Send to AI with improvement instructions\n",
        "3. Show original vs. improved\n",
        "\n",
        "You just built a mini Grammarly! 🎉\n",
        "\n",
        "</details>"
      ]
    },
    {
      "cell_type": "markdown",
      "metadata": {
        "id": "41554UjKax3k"
      },
      "source": [
        "### Challenge 3: AI Translator\n",
        "\n",
        "**Task**: Create a program that:\n",
        "1. Asks user for a word or phrase\n",
        "2. Asks what language to translate to\n",
        "3. Sends prompt: \"Translate '[phrase]' to [language]\"\n",
        "4. Prints the translation\n",
        "\n",
        "**Expected Output**:\n",
        "```\n",
        "Enter text to translate: Hello, how are you?\n",
        "Translate to which language? Spanish\n",
        "\n",
        "English: Hello, how are you?\n",
        "Spanish: [AI translation]\n",
        "```"
      ]
    },
    {
      "cell_type": "code",
      "execution_count": null,
      "metadata": {
        "id": "1rsE2gZJax3l"
      },
      "outputs": [],
      "source": [
        "# Your code here"
      ]
    },
    {
      "cell_type": "markdown",
      "metadata": {
        "id": "llHriWfoax3l"
      },
      "source": [
        "<details>\n",
        "<summary>Solution</summary>\n",
        "\n",
        "```python\n",
        "# Get text and target language\n",
        "text = input(\"Enter text to translate: \")\n",
        "language = input(\"Translate to which language? \")\n",
        "\n",
        "# Create translation prompt\n",
        "prompt = f\"\"\"\n",
        "\n",
        "Translate '{text}' to {language}\n",
        "\n",
        "---\n",
        "\n",
        "No meta information needed. Just give me back the translated text.\n",
        "\n",
        "\"\"\"\n",
        "\n",
        "# Send to AI\n",
        "model = genai.GenerativeModel('gemini-2.5-flash')\n",
        "response = model.generate_content(prompt)\n",
        "\n",
        "# Display translation\n",
        "print(f\"\\nEnglish: {text}\")\n",
        "print(f\"{language}: \")\n",
        "display(Markdown(response.text))\n",
        "```\n",
        "\n",
        "**Why this works:**\n",
        "You're using **two inputs** to create a dynamic prompt. This is more advanced than single-input programs! LLMs like Gemini are multilingual, so they can translate between hundreds of languages.\n",
        "\n",
        "</details>"
      ]
    },
    {
      "cell_type": "markdown",
      "metadata": {
        "id": "pzsxo240ax3l"
      },
      "source": [
        "### Challenge 4: AI Code Explainer\n",
        "\n",
        "**Task**: Create a program that:\n",
        "1. Asks user to paste a line of Python code\n",
        "2. Sends prompt: \"Explain this Python code in simple terms: [code]\"\n",
        "3. Prints the explanation\n",
        "\n",
        "**Expected Output**:\n",
        "```\n",
        "Enter Python code to explain: print(f\"Hello, {name}\")\n",
        "\n",
        "Code: print(f\"Hello, {name}\")\n",
        "Explanation: [AI's explanation]\n",
        "```"
      ]
    },
    {
      "cell_type": "code",
      "execution_count": null,
      "metadata": {
        "id": "mkr05UZpax3l"
      },
      "outputs": [],
      "source": [
        "# Your code here"
      ]
    },
    {
      "cell_type": "markdown",
      "metadata": {
        "id": "tCmBZKvUax3l"
      },
      "source": [
        "<details>\n",
        "<summary>Solution</summary>\n",
        "\n",
        "```python\n",
        "# Get code from user\n",
        "code = input(\"Enter Python code to explain: \")\n",
        "\n",
        "# Create explanation prompt\n",
        "prompt = f\"Explain this Python code in simple terms: {code}\"\n",
        "\n",
        "# Send to AI\n",
        "model = genai.GenerativeModel('gemini-2.5-flash')\n",
        "response = model.generate_content(prompt)\n",
        "\n",
        "# Display explanation\n",
        "print(f\"\\nCode: {code}\")\n",
        "print(f\"Explanation: {response.text}\")\n",
        "```\n",
        "\n",
        "**Why this works:**\n",
        "This is a code learning assistant! When you don't understand a line of code, AI can explain it. This is how tools like GitHub Copilot and cursor work - they help you understand and write code.\n",
        "\n",
        "</details>"
      ]
    },
    {
      "cell_type": "markdown",
      "metadata": {
        "id": "4O_BWxa2ax3l"
      },
      "source": [
        "### Challenge 5: AI Story Starter\n",
        "\n",
        "**Task**: Create a program that:\n",
        "1. Asks user for a character name\n",
        "2. Asks for a setting (place)\n",
        "3. Sends prompt: \"Write the first paragraph of a story about [character] in [setting]\"\n",
        "4. Prints the story beginning\n",
        "\n",
        "**Expected Output**:\n",
        "```\n",
        "Character name: Luna\n",
        "Setting: a futuristic city on Mars\n",
        "\n",
        "Your story begins:\n",
        "[AI-generated story opening]\n",
        "```"
      ]
    },
    {
      "cell_type": "code",
      "execution_count": null,
      "metadata": {
        "id": "7LlyjZqXax3l"
      },
      "outputs": [],
      "source": [
        "# Your code here"
      ]
    },
    {
      "cell_type": "markdown",
      "metadata": {
        "id": "sHLuUzAWax3l"
      },
      "source": [
        "<details>\n",
        "<summary>Solution</summary>\n",
        "\n",
        "```python\n",
        "# Get story elements from user\n",
        "character = input(\"Character name: \")\n",
        "setting = input(\"Setting: \")\n",
        "\n",
        "# Create story prompt\n",
        "prompt = f\"Write the first paragraph of a story about {character} in {setting}\"\n",
        "\n",
        "# Send to AI\n",
        "model = genai.GenerativeModel('gemini-2.5-flash')\n",
        "response = model.generate_content(prompt)\n",
        "\n",
        "# Display story\n",
        "print(f\"\\nYour story begins:\")\n",
        "# print(response.text)\n",
        "display(Markdown(response.text))\n",
        "```\n",
        "\n",
        "**Why this works:**\n",
        "This is creative AI in action! You're combining multiple user inputs into a single prompt. This pattern is used in AI writing tools, game narrative generators, and creative assistants. The better your prompt, the better the AI's output!\n",
        "\n",
        "</details>"
      ]
    },
    {
      "cell_type": "markdown",
      "metadata": {
        "id": "yG03anbvax3l"
      },
      "source": [
        "### Challenge 6: AI Text Humanizer\n",
        "\n",
        "**Task**: Create a program that:\n",
        "1. Asks user for AI-generated or robotic-sounding text\n",
        "2. Sends it to the AI with a humanizer prompt\n",
        "3. Prints both original and humanized versions\n",
        "\n",
        "**Expected Output**:\n",
        "```\n",
        "Enter text to humanize: It is important to note that leveraging AI can facilitate better outcomes.\n",
        "\n",
        "Original: It is important to note that leveraging AI can facilitate better outcomes.\n",
        "Humanized: [More natural, conversational version]\n",
        "```\n",
        "\n",
        "**Hint**: Use a long, detailed prompt that tells the AI exactly how to write like a human!"
      ]
    },
    {
      "cell_type": "code",
      "execution_count": null,
      "metadata": {
        "id": "rgrGof7Fax3l"
      },
      "outputs": [],
      "source": [
        "# Your code here"
      ]
    },
    {
      "cell_type": "markdown",
      "metadata": {
        "id": "O_2GCfjjax3l"
      },
      "source": [
        "<details>\n",
        "<summary>Solution</summary>\n",
        "\n",
        "```python\n",
        "# Get text from user\n",
        "text = input(\"Enter text to humanize: \")\n",
        "\n",
        "# Create humanizer prompt\n",
        "humanizer_prompt = f'''\n",
        "\n",
        "Rewrite this text to sound more natural and human:\n",
        "\n",
        "\"{text}\"\n",
        "\n",
        "# writing style guide: Write naturally and directly\n",
        "\n",
        "Keep it simple:\n",
        "- One-sentence paragraphs for punch\n",
        "- Short paragraphs, short words, fewer words\n",
        "- Contractions and parenthetical asides are fine\n",
        "- Cut hedging and setup phrases\n",
        "- Go direct (skip transitions when possible)\n",
        "\n",
        "Skip corporate speak:\n",
        "Don't use delve, leverage, utilize, facilitate, underscore, showcase, navigate (as metaphor), realm, tapestry, foster, endeavor, embark, unleash.\n",
        "\n",
        "Skip formal transitions:\n",
        "Don't start paragraphs with Furthermore, Moreover, In addition, In conclusion.\n",
        "\n",
        "Write like you're explaining something to a friend.\n",
        "\n",
        "---\n",
        "give me back just the humanized text, no meta information, just the humanized text.\n",
        "\n",
        "'''\n",
        "\n",
        "# Send to AI\n",
        "model = genai.GenerativeModel('gemini-2.5-flash')\n",
        "response = model.generate_content(humanizer_prompt)\n",
        "\n",
        "# Display both versions\n",
        "print(f\"\\nOriginal: {text}\")\n",
        "print(f\"\\nHumanized:\\n\")\n",
        "display(Markdown(response.text))\n",
        "```\n",
        "\n",
        "**Why this works:**\n",
        "This is a real AI-powered writing tool! By providing detailed instructions in the prompt, you're teaching the AI to:\n",
        "- Remove robotic corporate language (\"leverage,\" \"facilitate\")\n",
        "- Write conversationally with contractions\n",
        "- Cut filler and get to the point\n",
        "- Sound natural and human\n",
        "\n",
        "**The key:** A detailed, specific prompt produces better AI output. This is **prompt engineering** in action!\n",
        "\n",
        "**Real-world use:** Tools like Hemingway Editor and Grammarly use similar patterns to improve writing clarity and naturalness.\n",
        "\n",
        "</details>"
      ]
    },
    {
      "cell_type": "markdown",
      "metadata": {
        "id": "AbR48ALeax3l"
      },
      "source": [
        "---\n",
        "\n",
        "## Looking Ahead: What's Next?\n",
        "\n",
        "### 🎉 What You've Accomplished\n",
        "\n",
        "You just built AI-powered applications that **solve ONE problem well**!\n",
        "\n",
        "**Your mini-apps:**\n",
        "1. **Take simple human input** (a question, topic, sentence, etc.)\n",
        "2. **Add specific prompts** to make them special (e.g., \"in simple terms for a beginner\")\n",
        "3. **Use f-strings** to combine input + prompt dynamically\n",
        "4. **Get AI-powered output** that solves a real problem\n",
        "\n",
        "**You created programs using only:**\n",
        "- Variables, strings, and f-strings\n",
        "- User input and type conversion\n",
        "- API calls to an LLM\n",
        "\n",
        "**Your programs can:** Answer questions, teach topics, improve writing, translate languages, explain code, and generate stories!\n",
        "\n",
        "---\n",
        "\n",
        "### Current Limitations\n",
        "\n",
        "**Right now you can:**\n",
        "- Ask ONE question → Get ONE answer\n",
        "- Work with simple text input/output\n",
        "\n",
        "**You CANNOT yet:**\n",
        "- Have multi-turn conversations (chat memory)\n",
        "- Process multiple documents\n",
        "- Make decisions (if/else)\n",
        "- Repeat tasks automatically (loops)\n",
        "- Handle errors gracefully\n",
        "- Keep API keys secure\n",
        "\n",
        "---\n",
        "\n",
        "### 📚 What You Need Next\n",
        "\n",
        "To build **production-quality AI applications**, master these essentials:\n",
        "\n",
        "1. **Lists & Loops** → Store chat history, process multiple items\n",
        "2. **Dictionaries** → Handle API responses (JSON), structured data\n",
        "3. **Functions** → Reuse code, build modular pipelines\n",
        "4. **Conditionals** → Make decisions, handle different scenarios\n",
        "5. **Error Handling** → Build robust applications\n",
        "6. **Environment Variables** → Secure API keys\n",
        "7. **Advanced API Usage** → Parse responses, handle rate limits\n",
        "\n",
        "---\n",
        "\n",
        "### 🎯 Course Roadmap\n",
        "\n",
        "```\n",
        "✅ 01: Python Basics\n",
        "✅ 02: Strings and Input\n",
        "✅ 02.01: AI-Enabled Input/Output ← You are here\n",
        "\n",
        "📍 Next:\n",
        "→ 03: Lists and Loops (chat history, batch processing)\n",
        "→ 04: Dictionaries and JSON (API responses)\n",
        "→ 05: Functions (modular code)\n",
        "→ 06: Conditionals and Error Handling\n",
        "→ 07: Building a Chatbot (multi-turn conversations)\n",
        "→ 08: Introduction to RAG\n",
        "→ 09: Environment Variables and Security\n",
        "→ 10: Final Project (your own AI agent)\n",
        "→ Most Important: Prompt Engineering\n",
        "```\n",
        "\n",
        "---\n",
        "\n",
        "### 💡 Key Takeaway\n",
        "\n",
        "You've done something amazing! But to go from **\"cool demo\"** to **\"useful application\"**, you need these foundational skills.\n",
        "\n",
        "**The good news:** You're learning in exactly the right order. Each lesson unlocks new capabilities.\n",
        "\n",
        "**Keep going!** Every lesson brings you closer to building real AI systems. 🌟\n",
        "\n",
        "---\n",
        "\n",
        "**Next lesson:** Lists and Loops → Store conversations, process multiple documents, create chat loops!\n",
        "\n",
        "See you there! 🚀"
      ]
    }
  ],
  "metadata": {
    "kernelspec": {
      "display_name": "Python 3",
      "language": "python",
      "name": "python3"
    },
    "language_info": {
      "name": "python",
      "version": "3.8.0"
    },
    "colab": {
      "provenance": []
    }
  },
  "nbformat": 4,
  "nbformat_minor": 0
}