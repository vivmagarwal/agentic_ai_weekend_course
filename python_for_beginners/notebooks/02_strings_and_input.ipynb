{
  "cells": [
    {
      "cell_type": "markdown",
      "metadata": {
        "id": "TWqMUlXBB8Zw"
      },
      "source": [
        "# Quick Revision from Previous Lesson\n",
        "\n",
        "Before we begin today's lesson on strings and user input, let's quickly review what we learned about variables and f-strings.\n",
        "\n",
        "**Complete these tasks:**\n",
        "1. Create a variable called `first_name` and assign your name to it (example: \"Vivek\")\n",
        "2. Create a variable called `greeting` and assign a greeting to it (example: \"Hi\")\n",
        "3. Create a formatted string that constructs a sentence: `\"<greeting> from <first_name>\"`\n",
        "4. Print the formatted string so it outputs something like: \"Hi from Vivek\"\n",
        "\n",
        "**Try it yourself in the cell below:**"
      ]
    },
    {
      "cell_type": "code",
      "execution_count": null,
      "metadata": {
        "id": "NNYGYtuNU5YG"
      },
      "outputs": [],
      "source": [
        "# Your code here"
      ]
    },
    {
      "cell_type": "markdown",
      "metadata": {
        "id": "7359TduHU5YG"
      },
      "source": [
        "<details>\n",
        "<summary>Solution</summary>\n",
        "\n",
        "```python\n",
        "# 1. Create a variable called first_name and assign your name\n",
        "first_name = \"Vivek\"\n",
        "\n",
        "# 2. Create a variable called greeting and assign a greeting\n",
        "greeting = \"Hi\"\n",
        "\n",
        "# 3. Create a formatted string that constructs the sentence\n",
        "message = f\"{greeting} from {first_name}\"\n",
        "\n",
        "# 4. Print the formatted string\n",
        "print(message)  # Output: Hi from Vivek\n",
        "```\n",
        "\n",
        "**Why this works:**\n",
        "- Variables store values we can reuse\n",
        "- f-strings (formatted strings) let us insert variables into text using `{}`\n",
        "- This creates dynamic, personalized messages\n",
        "\n",
        "</details>"
      ]
    },
    {
      "cell_type": "markdown",
      "metadata": {
        "id": "4yr_LbBXB5hK"
      },
      "source": [
        "# String Methods and User Input\n",
        "\n",
        "## Learning Objectives\n",
        "By the end of this section, you will be able to:\n",
        "- Understand Lists (Arrays) in Python - a gentle introduction to storing multiple items\n",
        "- Use string methods like `join()`, `lower()`, `upper()`, and `strip()`\n",
        "- Check for substrings using the `in` operator\n",
        "- Convert between data types using `int()`, `float()`, and `str()`\n",
        "- Capture user input with `input()` function\n",
        "- Create interactive programs that respond to user data\n",
        "\n",
        "## Why This Matters: Real-World AI/RAG/Agentic Applications\n",
        "**In AI Systems:**\n",
        "- String methods clean and normalize text before feeding to models\n",
        "- `lower()` ensures case-insensitive matching for user queries\n",
        "- `join()` combines token outputs from language models\n",
        "\n",
        "**In RAG Pipelines:**\n",
        "- Text preprocessing with `strip()` removes extra whitespace from documents\n",
        "- `in` operator checks if keywords exist in retrieved context\n",
        "- String manipulation prepares data for embedding generation\n",
        "\n",
        "**In Agentic AI:**\n",
        "- User input captures commands and queries for agents\n",
        "- String methods parse and validate agent instructions\n",
        "- Case normalization ensures consistent agent behavior\n",
        "\n",
        "## Prerequisites\n",
        "- Understanding of variables and strings\n",
        "- Familiarity with the `print()` function\n",
        "\n",
        "---"
      ]
    },
    {
      "cell_type": "code",
      "execution_count": null,
      "metadata": {
        "colab": {
          "base_uri": "https://localhost:8080/"
        },
        "id": "s3gOxoteE52z",
        "outputId": "0e1a1c8e-8a49-47ec-c89b-1ce02cf4627f"
      },
      "outputs": [
        {
          "name": "stdout",
          "output_type": "stream",
          "text": [
            "apple\n",
            "banana\n",
            "orange\n",
            "mango\n",
            "grape\n"
          ]
        }
      ],
      "source": [
        "# Store shopping list (5 fruits) and print them\n",
        "\n",
        "fruit1 = \"apple\"\n",
        "fruit2 = \"banana\"\n",
        "fruit3 = \"orange\"\n",
        "fruit4 = \"mango\"\n",
        "fruit5 = \"grape\"\n",
        "\n",
        "print(fruit1)\n",
        "print(fruit2)\n",
        "print(fruit3)\n",
        "print(fruit4)\n",
        "print(fruit5)"
      ]
    },
    {
      "cell_type": "markdown",
      "metadata": {
        "id": "WIJUYs0iGTfv"
      },
      "source": [
        "## Lists - Storing Multiple Items Together\n",
        "\n",
        "### The Problem: Too Many Variables!\n",
        "\n",
        "Imagine you need to store 10 items, or 100 items, or even 1000 items. Creating separate variables for each would be impractical and hard to manage!\n",
        "\n",
        "**Variable** = one box that holds one thing  \n",
        "**List** = a shopping bag that holds many things\n",
        "\n",
        "A list is like a container that holds multiple items together. It lets you store many related things under ONE name, instead of creating separate variables for each item."
      ]
    },
    {
      "cell_type": "markdown",
      "metadata": {
        "id": "1fOJFFRkU5YH"
      },
      "source": [
        "---\n",
        "\n",
        "## Instructor Demonstration: Creating and Using Lists\n",
        "\n",
        "### Example 1: Creating Your First List\n",
        "\n",
        "**Problem**: Store 5 fruits in a list and print the list\n",
        "\n",
        "**Expected Output**: `['apple', 'banana', 'orange', 'mango', 'grape']`"
      ]
    },
    {
      "cell_type": "code",
      "execution_count": null,
      "metadata": {
        "id": "M_xD1F1hU5YH"
      },
      "outputs": [],
      "source": [
        "# Empty cell for demonstration"
      ]
    },
    {
      "cell_type": "markdown",
      "metadata": {
        "id": "QzfgAa6bU5YH"
      },
      "source": [
        "<details>\n",
        "<summary>Solution</summary>\n",
        "\n",
        "```python\n",
        "# Creating a list with square brackets\n",
        "fruits = [\"apple\", \"banana\", \"orange\", \"mango\", \"grape\"]\n",
        "\n",
        "# Print the entire list\n",
        "print(fruits)  # ['apple', 'banana', 'orange', 'mango', 'grape']\n",
        "```\n",
        "\n",
        "**Why this works:**\n",
        "- Square brackets `[]` create a list\n",
        "- Items are separated by commas\n",
        "- Items can be any type (strings, numbers, etc.)\n",
        "- One variable name (`fruits`) stores all items\n",
        "\n",
        "</details>"
      ]
    },
    {
      "cell_type": "markdown",
      "metadata": {
        "id": "71fkzY9tU5YH"
      },
      "source": [
        "### Example 2: Lists Can Hold Different Types\n",
        "\n",
        "**Problem**: Create a list with different types of items (strings and numbers)\n",
        "\n",
        "**Expected Output**:\n",
        "```\n",
        "['Python', 2024, 'Programming', 3.14, True]\n",
        "Mixed list type: <class 'list'>\n",
        "```"
      ]
    },
    {
      "cell_type": "code",
      "execution_count": null,
      "metadata": {
        "id": "yOJlkhjmU5YH"
      },
      "outputs": [],
      "source": [
        "# Empty cell for demonstration"
      ]
    },
    {
      "cell_type": "markdown",
      "metadata": {
        "id": "Zai6hRgMU5YH"
      },
      "source": [
        "<details>\n",
        "<summary>Solution</summary>\n",
        "\n",
        "```python\n",
        "# Lists can hold different types of data\n",
        "mixed_list = [\"Python\", 2024, \"Programming\", 3.14, True]\n",
        "\n",
        "# Print the mixed list\n",
        "print(mixed_list)\n",
        "\n",
        "# Check that it's still a list\n",
        "print(f\"Mixed list type: {type(mixed_list)}\")\n",
        "```\n",
        "\n",
        "**Why this works:**\n",
        "Lists in Python are versatile - they can store any type of data (strings, integers, floats, booleans) all in the same list. This flexibility makes lists very powerful for organizing diverse data.\n",
        "\n",
        "</details>"
      ]
    },
    {
      "cell_type": "markdown",
      "metadata": {
        "id": "U9I2O252U5YH"
      },
      "source": [
        "---\n",
        "\n",
        "## Learner Activity: Practice Creating Lists\n",
        "\n",
        "### Exercise 1: Create Your Friends List\n",
        "\n",
        "**Task**: Store the first names of 3 of your friends in a list called `friends` and print it\n",
        "\n",
        "**Expected Output**: `['Alice', 'Bob', 'Charlie']` (with your friends' names)"
      ]
    },
    {
      "cell_type": "code",
      "execution_count": null,
      "metadata": {
        "id": "uaT0hxeLU5YH"
      },
      "outputs": [],
      "source": [
        "# Your code here"
      ]
    },
    {
      "cell_type": "markdown",
      "metadata": {
        "id": "K8K7uRXKU5YI"
      },
      "source": [
        "<details>\n",
        "<summary>Solution</summary>\n",
        "\n",
        "```python\n",
        "# Store friends' names in a list\n",
        "friends = [\"Alice\", \"Bob\", \"Charlie\"]  # Replace with your friends' names\n",
        "\n",
        "# Print the list\n",
        "print(friends)  # ['Alice', 'Bob', 'Charlie']\n",
        "```\n",
        "\n",
        "**Why this works:**\n",
        "Just like storing fruits, we can store any collection of related items in a list. This is much more efficient than creating separate variables like `friend1`, `friend2`, `friend3`.\n",
        "\n",
        "</details>"
      ]
    },
    {
      "cell_type": "markdown",
      "metadata": {
        "id": "uGLsj8gKU5YI"
      },
      "source": [
        "### Exercise 2: Create a Shopping List\n",
        "\n",
        "**Task**: Create a list called `shopping_list` with at least 5 items you need to buy from the store\n",
        "\n",
        "**Expected Output**: `['milk', 'bread', 'eggs', 'butter', 'cheese']` (with your items)"
      ]
    },
    {
      "cell_type": "code",
      "execution_count": null,
      "metadata": {
        "id": "JIBluTuuU5YI"
      },
      "outputs": [],
      "source": [
        "# Your code here"
      ]
    },
    {
      "cell_type": "markdown",
      "metadata": {
        "id": "kojReHikU5YI"
      },
      "source": [
        "<details>\n",
        "<summary>Solution</summary>\n",
        "\n",
        "```python\n",
        "# Create a shopping list with 5 items\n",
        "shopping_list = [\"milk\", \"bread\", \"eggs\", \"butter\", \"cheese\"]\n",
        "\n",
        "# Print the shopping list\n",
        "print(shopping_list)  # ['milk', 'bread', 'eggs', 'butter', 'cheese']\n",
        "```\n",
        "\n",
        "**Why this works:**\n",
        "Lists are perfect for storing collections of similar things. Whether it's shopping items, names, tasks, or data - lists keep everything organized in one place.\n",
        "\n",
        "</details>"
      ]
    },
    {
      "cell_type": "markdown",
      "metadata": {
        "id": "syHi7IZnB5hL"
      },
      "source": [
        "## Instructor Activity 1\n",
        "**Concept**: Using `join()` to combine list items into strings\n",
        "\n",
        "### Example 1: Basic Join\n",
        "\n",
        "**Problem**: Combine words from a list into a sentence\n",
        "\n",
        "**Expected Output**: `Python is awesome`"
      ]
    },
    {
      "cell_type": "markdown",
      "metadata": {
        "id": "UfuOW3BlU5YI"
      },
      "source": [
        "---\n",
        "\n",
        "# String Methods in Python\n",
        "\n",
        "## What are String Methods?\n",
        "\n",
        "String methods are special functions that **belong to strings**. They let you do things TO a string or WITH a string.\n",
        "\n",
        "## The Dot Syntax\n",
        "\n",
        "```python\n",
        "\"your string\".method_name()\n",
        "     ↑          ↑\n",
        "   string      dot + method\n",
        "```\n",
        "\n",
        "You write:\n",
        "1. The **string** (in quotes)\n",
        "2. A **dot** `.`\n",
        "3. The **method name** with parentheses `()`\n",
        "\n",
        "## Quick Examples\n",
        "\n",
        "```python\n",
        "# Make uppercase\n",
        "\"hello\".upper()  # HELLO\n",
        "\n",
        "# Make lowercase\n",
        "\"HELLO\".lower()  # hello\n",
        "\n",
        "# Count letters\n",
        "\"banana\".count(\"a\")  # 3\n",
        "\n",
        "# Join a list into a string\n",
        "\" \".join([\"Hello\", \"World\"])  # Hello World\n",
        "```\n",
        "\n",
        "## It Works on Variables Too!\n",
        "\n",
        "```python\n",
        "name = \"vivek\"\n",
        "name.upper()  # VIVEK\n",
        "name.capitalize()  # Vivek\n",
        "```\n",
        "\n",
        "## Why the Dot?\n",
        "\n",
        "The dot means: **\"Hey string, do THIS to yourself!\"**\n",
        "\n",
        "```python\n",
        "\"hello\".upper()\n",
        "   ↑       ↑\n",
        " string   \"method!\"\n",
        "```\n",
        "\n",
        "**Key Point:** Strings have built-in superpowers! The dot (`.`) is how you access them.\n",
        "\n",
        "```python\n",
        "string.method()  # This is the pattern!\n",
        "```"
      ]
    },
    {
      "cell_type": "markdown",
      "metadata": {
        "id": "kNsCqMZzB5hL"
      },
      "source": [
        "---\n",
        "\n",
        "## Instructor Activity 1: String Methods in Action\n",
        "**Concept**: Using `join()` to combine list items into strings\n",
        "\n",
        "### Example 1: Basic Join\n",
        "\n",
        "**Problem**: Combine words from a list into a sentence\n",
        "\n",
        "**Expected Output**: `Python is awesome`"
      ]
    },
    {
      "cell_type": "markdown",
      "metadata": {
        "id": "T0BpFl-JB5hM"
      },
      "source": [
        "<details>\n",
        "<summary>Solution</summary>\n",
        "\n",
        "```python\n",
        "# List of words\n",
        "words = [\"Python\", \"is\", \"awesome\"]\n",
        "\n",
        "# Join with spaces\n",
        "sentence = \" \".join(words)\n",
        "print(sentence)\n",
        "```\n",
        "\n",
        "**Why this works:**\n",
        "The `join()` method combines list items into a string. The string before `.join()` (in this case `\" \"`) is the separator placed between items.\n",
        "\n",
        "</details>"
      ]
    },
    {
      "cell_type": "markdown",
      "metadata": {
        "id": "sqqN8nO9B5hM"
      },
      "source": [
        "### Example 2: Join with Different Separators\n",
        "\n",
        "**Problem**: Join words with different separators\n",
        "\n",
        "**Expected Output**:\n",
        "```\n",
        "Python-is-awesome\n",
        "Python, is, awesome\n",
        "```"
      ]
    },
    {
      "cell_type": "code",
      "execution_count": null,
      "metadata": {
        "id": "oRYQa5TXB5hM"
      },
      "outputs": [],
      "source": [
        "# Empty cell for demonstration"
      ]
    },
    {
      "cell_type": "markdown",
      "metadata": {
        "id": "FCkqwBDeB5hM"
      },
      "source": [
        "<details>\n",
        "<summary>Solution</summary>\n",
        "\n",
        "```python\n",
        "words = [\"Python\", \"is\", \"awesome\"]\n",
        "\n",
        "# Join with dash\n",
        "print(\"-\".join(words))  # Python-is-awesome\n",
        "\n",
        "# Join with comma and space\n",
        "print(\", \".join(words))  # Python, is, awesome\n",
        "```\n",
        "\n",
        "**Why this works:**\n",
        "You can use any string as a separator. This is useful for formatting data - for example, joining file paths or creating CSV rows.\n",
        "\n",
        "</details>"
      ]
    },
    {
      "cell_type": "markdown",
      "metadata": {
        "id": "yTuAXZ7bB5hM"
      },
      "source": [
        "---\n",
        "\n",
        "## Learner Activity 1\n",
        "**Practice**: Using `join()` method\n",
        "\n",
        "### Exercise 1: Create a Sentence\n",
        "\n",
        "**Task**: Create a list of 4-5 words and use `join()` to make a sentence with spaces"
      ]
    },
    {
      "cell_type": "code",
      "execution_count": null,
      "metadata": {
        "id": "lnrBMt1OB5hM"
      },
      "outputs": [],
      "source": [
        "# Your code here"
      ]
    },
    {
      "cell_type": "markdown",
      "metadata": {
        "id": "-lNeUB4fB5hM"
      },
      "source": [
        "<details>\n",
        "<summary>Solution</summary>\n",
        "\n",
        "```python\n",
        "# Your word list\n",
        "words = [\"I\", \"love\", \"learning\", \"Python\"]\n",
        "\n",
        "# Join into sentence\n",
        "sentence = \" \".join(words)\n",
        "print(sentence)  # I love learning Python\n",
        "```\n",
        "\n",
        "**Why this works:**\n",
        "This is useful in AI applications when you need to combine tokens or phrases generated by a model into coherent text.\n",
        "\n",
        "</details>"
      ]
    },
    {
      "cell_type": "markdown",
      "metadata": {
        "id": "fe_D5hRiB5hM"
      },
      "source": [
        "---\n",
        "\n",
        "## Instructor Activity 2\n",
        "**Concept**: Case transformation with `lower()` and `upper()`\n",
        "\n",
        "### Example 1: Converting to Lowercase\n",
        "\n",
        "**Problem**: Normalize text to lowercase for comparison\n",
        "\n",
        "**Expected Output**: `hello world`"
      ]
    },
    {
      "cell_type": "markdown",
      "metadata": {
        "id": "hp9vL4waB5hM"
      },
      "source": [
        "---\n",
        "\n",
        "## Instructor Activity 2: Case Transformation Methods\n",
        "**Concept**: Using `lower()` and `upper()` for text normalization\n",
        "\n",
        "### Example 1: Converting to Lowercase\n",
        "\n",
        "**Problem**: Normalize text to lowercase for comparison\n",
        "\n",
        "**Expected Output**: `hello world`"
      ]
    },
    {
      "cell_type": "markdown",
      "metadata": {
        "id": "eOIsNT25B5hN"
      },
      "source": [
        "<details>\n",
        "<summary>Solution</summary>\n",
        "\n",
        "```python\n",
        "# Original text with mixed case\n",
        "message = \"HELLO World\"\n",
        "\n",
        "# Convert to lowercase\n",
        "lowercase_message = message.lower()\n",
        "print(lowercase_message)  # hello world\n",
        "```\n",
        "\n",
        "**Why this works:**\n",
        "The `.lower()` method returns a new string with all characters in lowercase. The original string remains unchanged. This is essential for case-insensitive comparisons in search and matching.\n",
        "\n",
        "</details>"
      ]
    },
    {
      "cell_type": "markdown",
      "metadata": {
        "id": "pTYBrmx_B5hN"
      },
      "source": [
        "---\n",
        "\n",
        "## Learner Activity 2\n",
        "**Practice**: Case transformation\n",
        "\n",
        "### Exercise 1: Case Converter\n",
        "\n",
        "**Task**: Create a mixed-case string, convert to lowercase, then convert to uppercase"
      ]
    },
    {
      "cell_type": "code",
      "execution_count": null,
      "metadata": {
        "id": "yo1xn4QuB5hN"
      },
      "outputs": [],
      "source": [
        "# Your code here"
      ]
    },
    {
      "cell_type": "markdown",
      "metadata": {
        "id": "owIndxS2B5hN"
      },
      "source": [
        "<details>\n",
        "<summary>Solution</summary>\n",
        "\n",
        "```python\n",
        "# Mixed case text\n",
        "text = \"PyThOn Is FuN\"\n",
        "\n",
        "# Convert to lowercase\n",
        "print(text.lower())  # python is fun\n",
        "\n",
        "# Convert to uppercase\n",
        "print(text.upper())  # PYTHON IS FUN\n",
        "```\n",
        "\n",
        "**Why this works:**\n",
        "Case normalization is crucial in NLP and search applications. User queries \"Python\", \"python\", and \"PYTHON\" should all match the same results.\n",
        "\n",
        "</details>"
      ]
    },
    {
      "cell_type": "markdown",
      "metadata": {
        "id": "ghR-SzNPB5hN"
      },
      "source": [
        "---\n",
        "\n",
        "## Instructor Activity 3\n",
        "**Concept**: Checking substring membership with `in`\n",
        "\n",
        "### Example 1: Substring Search\n",
        "\n",
        "**Problem**: Check if a word exists in a sentence\n",
        "\n",
        "**Expected Output**:\n",
        "```\n",
        "True\n",
        "False\n",
        "```"
      ]
    },
    {
      "cell_type": "code",
      "execution_count": null,
      "metadata": {
        "id": "WzoxPXC1B5hN"
      },
      "outputs": [],
      "source": [
        "# Empty cell for demonstration"
      ]
    },
    {
      "cell_type": "markdown",
      "metadata": {
        "id": "83YABIuCB5hN"
      },
      "source": [
        "<details>\n",
        "<summary>Solution</summary>\n",
        "\n",
        "```python\n",
        "text = \"Python is a great programming language\"\n",
        "\n",
        "# Check if \"Python\" is in the text\n",
        "print(\"Python\" in text)  # True\n",
        "\n",
        "# Check if \"Java\" is in the text\n",
        "print(\"Java\" in text)    # False\n",
        "```\n",
        "\n",
        "**Why this works:**\n",
        "The `in` operator checks if one string exists within another, returning `True` or `False`. It's case-sensitive: \"python\" ≠ \"Python\".\n",
        "\n",
        "</details>"
      ]
    },
    {
      "cell_type": "markdown",
      "metadata": {
        "id": "7w9Yjp0MB5hN"
      },
      "source": [
        "---\n",
        "\n",
        "## Learner Activity 3\n",
        "**Practice**: Substring checking\n",
        "\n",
        "### Exercise 1: Search Your String\n",
        "\n",
        "**Task**: Create a sentence and test if various words are in it using case-insensitive search (hint: use `.lower()` on both)"
      ]
    },
    {
      "cell_type": "code",
      "execution_count": null,
      "metadata": {
        "id": "AaUbPmxZB5hN"
      },
      "outputs": [],
      "source": [
        "# Your code here"
      ]
    },
    {
      "cell_type": "markdown",
      "metadata": {
        "id": "agtKR1zrB5hN"
      },
      "source": [
        "<details>\n",
        "<summary>Solution</summary>\n",
        "\n",
        "```python\n",
        "sentence = \"I Love Learning Python Programming\"\n",
        "search_word = \"python\"\n",
        "\n",
        "# Case-insensitive search\n",
        "result = search_word.lower() in sentence.lower()\n",
        "print(result)  # True\n",
        "```\n",
        "\n",
        "**Why this works:**\n",
        "By converting both strings to lowercase before comparison, we make the search case-insensitive. This is a common pattern in search functionality.\n",
        "\n",
        "</details>"
      ]
    },
    {
      "cell_type": "markdown",
      "metadata": {
        "id": "h5V1IJMPB5hN"
      },
      "source": [
        "---\n",
        "\n",
        "## Instructor Activity 4\n",
        "**Concept**: Getting user input with `input()`\n",
        "\n",
        "### Example 1: Basic Input\n",
        "\n",
        "**Problem**: Ask user for their name and greet them\n",
        "\n",
        "**Expected Output**: `Hello, Alice!` (with user's name)"
      ]
    },
    {
      "cell_type": "code",
      "execution_count": null,
      "metadata": {
        "id": "hmMpzsq0B5hN"
      },
      "outputs": [],
      "source": [
        "# Empty cell for demonstration"
      ]
    },
    {
      "cell_type": "markdown",
      "metadata": {
        "id": "E1rSpkUzB5hN"
      },
      "source": [
        "<details>\n",
        "<summary>Solution</summary>\n",
        "\n",
        "```python\n",
        "# Ask for user's name\n",
        "name = input(\"What is your name? \")\n",
        "\n",
        "# Greet the user\n",
        "print(f\"Hello, {name}!\")\n",
        "```\n",
        "\n",
        "**Why this works:**\n",
        "The `input()` function displays a prompt, waits for user input, and returns what they type as a string. The program pauses at `input()` until the user presses Enter.\n",
        "\n",
        "</details>"
      ]
    },
    {
      "cell_type": "markdown",
      "metadata": {
        "id": "-BOcMW0KU5YM"
      },
      "source": [
        "---\n",
        "\n",
        "## Type Conversion - Converting Between Data Types\n",
        "\n",
        "### Why Type Conversion Matters\n",
        "When we get input from users, it's **always a string**. If we want to do math operations, we need to convert strings to numbers. Similarly, sometimes we need to convert numbers back to strings for formatting.\n",
        "\n",
        "**Common Type Conversions:**\n",
        "- `int()` - Converts to integer (whole number)\n",
        "- `float()` - Converts to decimal number\n",
        "- `str()` - Converts to string (text)"
      ]
    },
    {
      "cell_type": "markdown",
      "metadata": {
        "id": "1eTApOvbU5YM"
      },
      "source": [
        "## Instructor Demonstration: Type Conversion\n",
        "\n",
        "### Example 1: Converting String to Integer\n",
        "\n",
        "**Problem**: Convert the string \"42\" to an integer and perform math operations\n",
        "\n",
        "**Expected Output**:\n",
        "```\n",
        "Original: 42 (type: <class 'str'>)\n",
        "Converted: 42 (type: <class 'int'>)\n",
        "Math result: 52\n",
        "```"
      ]
    },
    {
      "cell_type": "code",
      "execution_count": null,
      "metadata": {
        "id": "AxlCyleFU5YM"
      },
      "outputs": [],
      "source": [
        "# Empty cell for demonstration"
      ]
    },
    {
      "cell_type": "markdown",
      "metadata": {
        "id": "MRBton0rU5YM"
      },
      "source": [
        "<details>\n",
        "<summary>Solution</summary>\n",
        "\n",
        "```python\n",
        "# Start with a string\n",
        "number_string = \"42\"\n",
        "print(f\"Original: {number_string} (type: {type(number_string)})\")\n",
        "\n",
        "# Convert string to integer\n",
        "number_int = int(number_string)\n",
        "print(f\"Converted: {number_int} (type: {type(number_int)})\")\n",
        "\n",
        "# Now we can do math!\n",
        "result = number_int + 10\n",
        "print(f\"Math result: {result}\")\n",
        "```\n",
        "\n",
        "**Why this works:**\n",
        "The `int()` function converts a string that contains digits into an integer. Once converted, you can perform mathematical operations that wouldn't work with strings.\n",
        "\n",
        "</details>"
      ]
    },
    {
      "cell_type": "markdown",
      "metadata": {
        "id": "LfnhEJIHU5YN"
      },
      "source": [
        "### Example 2: Converting to Float and Back to String\n",
        "\n",
        "**Problem**: Convert \"3.14\" to a float, multiply by 2, then convert back to string for display\n",
        "\n",
        "**Expected Output**:\n",
        "```\n",
        "String: 3.14\n",
        "Float: 3.14 (can do math)\n",
        "Doubled: 6.28\n",
        "Back to string: The result is 6.28\n",
        "```"
      ]
    },
    {
      "cell_type": "code",
      "execution_count": null,
      "metadata": {
        "id": "HS2ms0w3U5YN"
      },
      "outputs": [],
      "source": [
        "# Empty cell for demonstration"
      ]
    },
    {
      "cell_type": "markdown",
      "metadata": {
        "id": "Vg5ZS8TPU5YN"
      },
      "source": [
        "<details>\n",
        "<summary>Solution</summary>\n",
        "\n",
        "```python\n",
        "# Start with a string\n",
        "pi_string = \"3.14\"\n",
        "print(f\"String: {pi_string}\")\n",
        "\n",
        "# Convert to float for math operations\n",
        "pi_float = float(pi_string)\n",
        "print(f\"Float: {pi_float} (can do math)\")\n",
        "\n",
        "# Do math with the float\n",
        "doubled = pi_float * 2\n",
        "print(f\"Doubled: {doubled}\")\n",
        "\n",
        "# Convert back to string for display\n",
        "result_string = str(doubled)\n",
        "print(f\"Back to string: The result is {result_string}\")\n",
        "```\n",
        "\n",
        "**Why this works:**\n",
        "- `float()` converts strings with decimal points to floating-point numbers\n",
        "- Mathematical operations work on float values\n",
        "- `str()` converts numbers back to strings for display or concatenation\n",
        "\n",
        "</details>"
      ]
    },
    {
      "cell_type": "markdown",
      "metadata": {
        "id": "yKGpHeQjU5YN"
      },
      "source": [
        "---\n",
        "\n",
        "## Learner Activity: Practice Type Conversion\n",
        "\n",
        "### Exercise 1: Convert and Calculate\n",
        "\n",
        "**Task**: Convert the string \"25\" to an integer, then multiply it by 4\n",
        "\n",
        "**Expected Output**:\n",
        "```\n",
        "Original string: 25\n",
        "After conversion: 100\n",
        "```"
      ]
    },
    {
      "cell_type": "code",
      "execution_count": null,
      "metadata": {
        "id": "CqEbRbaSU5YN"
      },
      "outputs": [],
      "source": [
        "# Your code here"
      ]
    },
    {
      "cell_type": "markdown",
      "metadata": {
        "id": "4oeHnKdHU5YN"
      },
      "source": [
        "<details>\n",
        "<summary>Solution</summary>\n",
        "\n",
        "```python\n",
        "# String containing a number\n",
        "num_string = \"25\"\n",
        "print(f\"Original string: {num_string}\")\n",
        "\n",
        "# Convert to integer and multiply\n",
        "num_int = int(num_string)\n",
        "result = num_int * 4\n",
        "print(f\"After conversion: {result}\")\n",
        "```\n",
        "\n",
        "**Why this works:**\n",
        "Converting the string \"25\" to integer 25 allows us to perform mathematical operations. Without conversion, multiplying \"25\" * 4 would just repeat the string four times!\n",
        "\n",
        "</details>"
      ]
    },
    {
      "cell_type": "markdown",
      "metadata": {
        "id": "bVs7FE5IU5YN"
      },
      "source": [
        "### Exercise 2: Working with Decimals\n",
        "\n",
        "**Task**: Convert \"7.5\" to a float, add 2.5 to it, then convert the result to a string with a message\n",
        "\n",
        "**Expected Output**:\n",
        "```\n",
        "Starting value: 7.5\n",
        "After adding 2.5: 10.0\n",
        "Message: The total is 10.0\n",
        "```"
      ]
    },
    {
      "cell_type": "code",
      "execution_count": null,
      "metadata": {
        "id": "MdB1MaPGU5YN"
      },
      "outputs": [],
      "source": [
        "# Your code here"
      ]
    },
    {
      "cell_type": "markdown",
      "metadata": {
        "id": "HHeWY7JlU5YN"
      },
      "source": [
        "### Example 2: Input is Always a String\n",
        "\n",
        "**Problem**: Demonstrate that `input()` always returns a string, even when user enters numbers\n",
        "\n",
        "**Expected Output**: `<class 'str'>` (even if user enters 25)"
      ]
    },
    {
      "cell_type": "markdown",
      "metadata": {
        "id": "SgzFgxtjB5hN"
      },
      "source": [
        "### Example 2: Input is Always a String\n",
        "\n",
        "**Problem**: Demonstrate that `input()` always returns a string\n",
        "\n",
        "**Expected Output**: `<class 'str'>` (even if user enters a number)"
      ]
    },
    {
      "cell_type": "code",
      "execution_count": null,
      "metadata": {
        "id": "w5WTVRlAB5hN"
      },
      "outputs": [],
      "source": [
        "# Empty cell for demonstration"
      ]
    },
    {
      "cell_type": "markdown",
      "metadata": {
        "id": "K3LL-h3KB5hN"
      },
      "source": [
        "<details>\n",
        "<summary>Solution</summary>\n",
        "\n",
        "```python\n",
        "# Ask for age\n",
        "age = input(\"What is your age? \")\n",
        "\n",
        "# Check the type\n",
        "print(type(age))  # <class 'str'> even if you entered \"25\"\n",
        "```\n",
        "\n",
        "**Why this works:**\n",
        "`input()` always returns a string, regardless of what the user types. To use it as a number, you'd need to convert it with `int()` or `float()`.\n",
        "\n",
        "</details>"
      ]
    },
    {
      "cell_type": "markdown",
      "metadata": {
        "id": "eX0aUU3uB5hN"
      },
      "source": [
        "---\n",
        "\n",
        "## Learner Activity 4\n",
        "**Practice**: Working with user input\n",
        "\n",
        "### Exercise 1: Interactive Program\n",
        "\n",
        "**Task**: Ask for user's favorite color and display a personalized message using it"
      ]
    },
    {
      "cell_type": "code",
      "execution_count": null,
      "metadata": {
        "id": "XxpRmUHHB5hN"
      },
      "outputs": [],
      "source": [
        "# Your code here"
      ]
    },
    {
      "cell_type": "markdown",
      "metadata": {
        "id": "v9B0V8B-B5hN"
      },
      "source": [
        "<details>\n",
        "<summary>Solution</summary>\n",
        "\n",
        "```python\n",
        "# Get favorite color\n",
        "color = input(\"What is your favorite color? \")\n",
        "\n",
        "# Display personalized message\n",
        "print(f\"{color} is a beautiful color!\")\n",
        "```\n",
        "\n",
        "**Why this works:**\n",
        "Combining `input()` with f-strings creates interactive, personalized programs. This is the foundation of chatbots and conversational AI.\n",
        "\n",
        "</details>"
      ]
    },
    {
      "cell_type": "markdown",
      "metadata": {
        "id": "0jCoJ7ssB5hN"
      },
      "source": [
        "### Exercise 2: Multiple Inputs\n",
        "\n",
        "**Task**: Create a program that asks 3 questions (name, age, city) and displays all answers in a formatted way"
      ]
    },
    {
      "cell_type": "code",
      "execution_count": null,
      "metadata": {
        "id": "06wQZdpXB5hN"
      },
      "outputs": [],
      "source": [
        "# Your code here"
      ]
    },
    {
      "cell_type": "markdown",
      "metadata": {
        "id": "KSmx1mHtB5hN"
      },
      "source": [
        "<details>\n",
        "<summary>Solution</summary>\n",
        "\n",
        "```python\n",
        "# Collect user information\n",
        "name = input(\"What is your name? \")\n",
        "age = input(\"What is your age? \")\n",
        "city = input(\"What city do you live in? \")\n",
        "\n",
        "# Display formatted profile\n",
        "print(f\"\\nUser Profile:\")\n",
        "print(f\"Name: {name}\")\n",
        "print(f\"Age: {age}\")\n",
        "print(f\"City: {city}\")\n",
        "```\n",
        "\n",
        "**Why this works:**\n",
        "Multiple `input()` calls collect various pieces of information. The `\\n` in the print creates a blank line for better formatting.\n",
        "\n",
        "</details>"
      ]
    },
    {
      "cell_type": "markdown",
      "metadata": {
        "id": "oejbv4ygB5hN"
      },
      "source": [
        "---\n",
        "\n",
        "## Optional Extra Practice\n",
        "**Challenge yourself with these problems that integrate all the concepts**\n",
        "\n",
        "### Challenge 1: Smart Search\n",
        "\n",
        "**Task**: Create a program that:\n",
        "1. Has a predefined document (long string)\n",
        "2. Asks user for a search term\n",
        "3. Performs case-insensitive search\n",
        "4. Reports if term was found"
      ]
    },
    {
      "cell_type": "code",
      "execution_count": null,
      "metadata": {
        "id": "BOWkxgKdB5hN"
      },
      "outputs": [],
      "source": [
        "# Your code here"
      ]
    },
    {
      "cell_type": "markdown",
      "source": [
        "<details>\n",
        "<summary>Solution</summary>\n",
        "\n",
        "```python\n",
        "# Simulated document\n",
        "document = \"\"\"Python is a high-level programming language.\n",
        "It is widely used in AI and machine learning applications.\n",
        "Python has a simple and readable syntax.\"\"\"\n",
        "\n",
        "# Get search term from user\n",
        "search_term = input(\"Enter a word to search for: \")\n",
        "\n",
        "# Case-insensitive search\n",
        "if search_term.lower() in document.lower():\n",
        "    print(f\"✓ Found '{search_term}' in the document!\")\n",
        "else:\n",
        "    print(f\"✗ '{search_term}' not found in the document.\")\n",
        "```\n",
        "\n",
        "**Why this works:**\n",
        "This simulates a basic search feature in a RAG system:\n",
        "- Store document (retrieved context)\n",
        "- Get user query\n",
        "- Normalize both for comparison (`.lower()`)\n",
        "- Check if query term exists in context\n",
        "\n",
        "Real RAG systems use embeddings for semantic search, but the principle of matching queries to context is the same.\n",
        "\n",
        "</details>"
      ],
      "metadata": {
        "id": "mXC0_xQwVVoI"
      }
    },
    {
      "cell_type": "code",
      "source": [],
      "metadata": {
        "id": "MUlUXBNDVWip"
      },
      "execution_count": null,
      "outputs": []
    },
    {
      "cell_type": "markdown",
      "metadata": {
        "id": "xbFgQAIlB5hO"
      },
      "source": [
        "---\n",
        "\n",
        "## Instructor Activity 5\n",
        "**Concept**: Input with Type Conversion - Adding Numbers\n",
        "\n",
        "### Example: Calculator Input\n",
        "\n",
        "**Problem**: Get two numbers from the user and display their sum in the format \"1 + 3 = 4\"\n",
        "\n",
        "**Expected Output**:\n",
        "```\n",
        "Enter first number: 1\n",
        "Enter second number: 3\n",
        "1 + 3 = 4\n",
        "```"
      ]
    },
    {
      "cell_type": "markdown",
      "metadata": {
        "id": "eyFcbBemU5YN"
      },
      "source": [
        "### Example 3: Input with Type Conversion - Adding Numbers\n",
        "\n",
        "**Problem**: Get two numbers from the user and display their sum in the format \"1 + 3 = 4\"\n",
        "\n",
        "**Expected Output**:\n",
        "```\n",
        "Enter first number: 1\n",
        "Enter second number: 3\n",
        "1 + 3 = 4\n",
        "```"
      ]
    },
    {
      "cell_type": "code",
      "execution_count": null,
      "metadata": {
        "id": "F7hjqcrDU5YN"
      },
      "outputs": [],
      "source": [
        "# Empty cell for demonstration"
      ]
    },
    {
      "cell_type": "markdown",
      "metadata": {
        "id": "-R4rMTDdU5YO"
      },
      "source": [
        "<details>\n",
        "<summary>Solution</summary>\n",
        "\n",
        "```python\n",
        "# Get first number from user\n",
        "first_num_str = input(\"Enter first number: \")\n",
        "# Convert to integer\n",
        "first_num = int(first_num_str)\n",
        "\n",
        "# Get second number from user\n",
        "second_num_str = input(\"Enter second number: \")\n",
        "# Convert to integer\n",
        "second_num = int(second_num_str)\n",
        "\n",
        "# Calculate sum\n",
        "total = first_num + second_num\n",
        "\n",
        "# Display in the requested format\n",
        "print(f\"{first_num} + {second_num} = {total}\")\n",
        "```\n",
        "\n",
        "**Why this works:**\n",
        "- `input()` returns strings, even when user types numbers\n",
        "- We must convert strings to integers with `int()` to do math\n",
        "- f-strings let us format the output exactly as requested\n",
        "- This pattern is essential for any calculator-type program\n",
        "\n",
        "</details>"
      ]
    },
    {
      "cell_type": "markdown",
      "metadata": {
        "id": "8LXshhCnB5hO"
      },
      "source": [
        "### Challenge 2: Mad Libs Generator\n",
        "\n",
        "**Task**: Create a Mad Libs game that:\n",
        "1. Asks for a noun, verb, and adjective\n",
        "2. Creates a funny sentence using those words\n",
        "3. Uses string methods to format the output"
      ]
    },
    {
      "cell_type": "code",
      "execution_count": null,
      "metadata": {
        "id": "BUsveAOuB5hO"
      },
      "outputs": [],
      "source": [
        "# Your code here"
      ]
    },
    {
      "cell_type": "markdown",
      "source": [
        "<details>\n",
        "<summary>Solution</summary>\n",
        "\n",
        "```python\n",
        "# Collect words from user\n",
        "noun = input(\"Enter a noun: \")\n",
        "verb = input(\"Enter a verb: \")\n",
        "adjective = input(\"Enter an adjective: \")\n",
        "\n",
        "# Create Mad Lib story\n",
        "story = f\"\"\"Once upon a time, there was a {adjective} {noun}.\n",
        "Every day, it would {verb} in the park.\n",
        "Everyone thought it was the most {adjective} thing ever!\"\"\"\n",
        "\n",
        "# Display the story\n",
        "print(\"\\n\" + \"=\"*50)\n",
        "print(\"YOUR MAD LIB STORY:\")\n",
        "print(\"=\"*50)\n",
        "print(story.upper())  # Make it exciting!\n",
        "print(\"=\"*50)\n",
        "```\n",
        "\n",
        "**Why this works:**\n",
        "This demonstrates dynamic text generation:\n",
        "- Template with placeholders (f-string)\n",
        "- User input fills the blanks\n",
        "- String methods enhance formatting\n",
        "\n",
        "This is similar to how LLMs work with prompts - templates filled with dynamic content!\n",
        "\n",
        "</details>"
      ],
      "metadata": {
        "id": "Xxzjk4dSU9Sf"
      }
    },
    {
      "cell_type": "markdown",
      "metadata": {
        "id": "IwvgHM3HB5hQ"
      },
      "source": [
        "---\n",
        "\n",
        "## Learner Activity 5\n",
        "**Practice**: Complete Calculator Program\n",
        "\n",
        "### Exercise: Multi-Operation Calculator\n",
        "\n",
        "**Task**: Create a simple calculator that:\n",
        "1. Asks for two numbers from the user\n",
        "2. Calculates and displays their sum, difference, and product\n",
        "3. Format each result as: \"5 + 3 = 8\" (for each operation)\n",
        "\n",
        "**Expected Output**:\n",
        "```\n",
        "Enter first number: 5\n",
        "Enter second number: 3\n",
        "5 + 3 = 8\n",
        "5 - 3 = 2\n",
        "5 * 3 = 15\n",
        "```"
      ]
    },
    {
      "cell_type": "markdown",
      "metadata": {
        "id": "SSpPiEk1U5YO"
      },
      "source": [
        "### Exercise 3: Calculator Program\n",
        "\n",
        "**Task**: Create a simple calculator that:\n",
        "1. Asks for two numbers\n",
        "2. Calculates and displays their sum, difference, and product\n",
        "3. Format: \"5 + 3 = 8\" (for each operation)\n",
        "\n",
        "**Expected Output**:\n",
        "```\n",
        "Enter first number: 5\n",
        "Enter second number: 3\n",
        "5 + 3 = 8\n",
        "5 - 3 = 2\n",
        "5 * 3 = 15\n",
        "```"
      ]
    },
    {
      "cell_type": "code",
      "execution_count": null,
      "metadata": {
        "id": "tG80P_y0U5YO"
      },
      "outputs": [],
      "source": [
        "# Your code here"
      ]
    },
    {
      "cell_type": "markdown",
      "metadata": {
        "id": "c0I1aeUsU5YO"
      },
      "source": [
        "---\n",
        "\n",
        "## Summary\n",
        "\n",
        "Congratulations! You've learned essential Python skills today:\n",
        "\n",
        "### ✅ What You Achieved:\n",
        "1. **Lists** - Store multiple items in one container\n",
        "2. **String Methods** - Transform and manipulate text:\n",
        "   - `join()` to combine list items\n",
        "   - `lower()` and `upper()` for case conversion\n",
        "   - `in` operator for substring searching\n",
        "3. **Type Conversion** - Convert between strings, integers, and floats\n",
        "4. **User Input** - Create interactive programs with `input()`\n",
        "5. **Combined Skills** - Built a calculator combining input and type conversion\n",
        "\n",
        "### 🚀 Next Steps:\n",
        "These skills form the foundation for:\n",
        "- Data processing and manipulation\n",
        "- Building interactive applications\n",
        "- Text analysis for AI/NLP tasks\n",
        "- Creating user interfaces and chatbots\n",
        "\n",
        "### 💡 Remember:\n",
        "- Lists solve the \"too many variables\" problem\n",
        "- Always convert input strings to numbers for math operations\n",
        "- Case-insensitive search makes programs more user-friendly\n",
        "- Type conversion is the bridge between user input and computation\n",
        "\n",
        "Great job completing this lesson! Practice these concepts to build your confidence."
      ]
    },
    {
      "cell_type": "markdown",
      "metadata": {
        "id": "LaLl-YWDU5YO"
      },
      "source": [
        "<details>\n",
        "<summary>Solution</summary>\n",
        "\n",
        "```python\n",
        "# Get two numbers from the user\n",
        "num1_str = input(\"Enter first number: \")\n",
        "num1 = int(num1_str)\n",
        "\n",
        "num2_str = input(\"Enter second number: \")\n",
        "num2 = int(num2_str)\n",
        "\n",
        "# Calculate and display results\n",
        "print(f\"{num1} + {num2} = {num1 + num2}\")\n",
        "print(f\"{num1} - {num2} = {num1 - num2}\")\n",
        "print(f\"{num1} * {num2} = {num1 * num2}\")\n",
        "```\n",
        "\n",
        "**Why this works:**\n",
        "This combines everything: input, type conversion, calculations, and formatted output. This is the foundation for building interactive programs that process numerical data from users.\n",
        "\n",
        "</details>"
      ]
    }
  ],
  "metadata": {
    "colab": {
      "provenance": []
    },
    "kernelspec": {
      "display_name": "Python 3",
      "language": "python",
      "name": "python3"
    },
    "language_info": {
      "codemirror_mode": {
        "name": "ipython",
        "version": 3
      },
      "file_extension": ".py",
      "mimetype": "text/x-python",
      "name": "python",
      "nbconvert_exporter": "python",
      "pygments_lexer": "ipython3",
      "version": "3.8.0"
    }
  },
  "nbformat": 4,
  "nbformat_minor": 0
}