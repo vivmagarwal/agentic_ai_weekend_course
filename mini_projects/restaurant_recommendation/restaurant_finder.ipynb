{
 "cells": [
  {
   "cell_type": "markdown",
   "id": "intro",
   "metadata": {},
   "source": "# Restaurant Finder - Interactive Chat (Free Tier APIs)\n\nThis notebook demonstrates the restaurant recommendation backend with a simple chat interface using **FREE TIER APIs only**.\n\nFeatures:\n- Search restaurants using Tavily (free tier) and Google Gemini (free tier) APIs\n- Natural language queries (e.g., 'italian veg food in bangalore')\n- Interactive chat loop\n- Merged results from multiple sources\n\n**Cost**: $0 - All APIs have generous free tiers perfect for students!"
  },
  {
   "cell_type": "markdown",
   "id": "setup-header",
   "metadata": {},
   "source": [
    "## Setup: Install Dependencies"
   ]
  },
  {
   "cell_type": "code",
   "execution_count": null,
   "id": "install-deps",
   "metadata": {},
   "outputs": [],
   "source": "!uv pip install tavily-python google-generativeai python-dotenv -q"
  },
  {
   "cell_type": "markdown",
   "id": "imports-header",
   "metadata": {},
   "source": [
    "## Import Required Libraries"
   ]
  },
  {
   "cell_type": "code",
   "execution_count": null,
   "id": "imports",
   "metadata": {},
   "outputs": [],
   "source": "import os\nimport json\nimport asyncio\nfrom typing import Optional, List\nfrom dotenv import load_dotenv\nfrom tavily import AsyncTavilyClient\nimport google.generativeai as genai\n\n# Load environment variables from root .env\nload_dotenv('../../.env')\n\nprint(\"✅ Libraries imported successfully\")"
  },
  {
   "cell_type": "markdown",
   "id": "config-header",
   "metadata": {},
   "source": [
    "## Configure API Clients"
   ]
  },
  {
   "cell_type": "code",
   "execution_count": null,
   "id": "config",
   "metadata": {},
   "outputs": [],
   "source": "# Get API keys - all free tier!\nTAVILY_API_KEY = os.getenv(\"TAVILY_API_KEY\")\nGOOGLE_API_KEY = os.getenv(\"GOOGLE_API_KEY\")\n\nif not TAVILY_API_KEY:\n    raise ValueError(\"❌ TAVILY_API_KEY not found in environment\")\nif not GOOGLE_API_KEY:\n    raise ValueError(\"❌ GOOGLE_API_KEY not found in environment\")\n\n# Initialize API clients\ntavily_client = AsyncTavilyClient(api_key=TAVILY_API_KEY)\n\n# Initialize Gemini (free tier: 15 RPM, 1M TPM, 1500 RPD)\ngenai.configure(api_key=GOOGLE_API_KEY)\ngemini_model = genai.GenerativeModel('gemini-2.5-flash-exp')\n\nprint(\"✅ API clients configured successfully\")\nprint(\"📊 Free tier limits:\")\nprint(\"   - Tavily: 1000 searches/month\")\nprint(\"   - Gemini Flash: 15 RPM, 1M TPM, 1500 RPD\")"
  },
  {
   "cell_type": "markdown",
   "id": "search-functions-header",
   "metadata": {},
   "source": [
    "## Define Search Functions"
   ]
  },
  {
   "cell_type": "code",
   "execution_count": null,
   "id": "search-tavily",
   "metadata": {},
   "outputs": [],
   "source": [
    "async def search_tavily(query: str, location: Optional[str] = None) -> List[dict]:\n",
    "    \"\"\"Search restaurants using Tavily API\"\"\"\n",
    "    try:\n",
    "        search_query = f\"{query} restaurants in {location}\" if location else f\"{query} restaurants\"\n",
    "        response = await tavily_client.search(\n",
    "            query=search_query,\n",
    "            search_depth=\"advanced\",\n",
    "            max_results=10\n",
    "        )\n",
    "\n",
    "        restaurants = []\n",
    "        for result in response.get(\"results\", []):\n",
    "            restaurant = {\n",
    "                \"name\": result.get(\"title\", \"Unknown Restaurant\"),\n",
    "                \"address\": result.get(\"url\", \"Address not available\"),\n",
    "                \"cuisine\": query,\n",
    "                \"rating\": None,\n",
    "                \"description\": result.get(\"content\", \"No description available\")[:200],\n",
    "                \"source\": \"tavily\"\n",
    "            }\n",
    "            restaurants.append(restaurant)\n",
    "\n",
    "        return restaurants\n",
    "    except Exception as e:\n",
    "        print(f\"❌ Tavily API Error: {str(e)}\")\n",
    "        return []\n",
    "\n",
    "print(\"✅ Tavily search function defined\")"
   ]
  },
  {
   "cell_type": "code",
   "execution_count": null,
   "id": "search-perplexity",
   "metadata": {},
   "outputs": [],
   "source": "async def search_gemini(query: str, location: Optional[str] = None) -> List[dict]:\n    \"\"\"Search restaurants using Google Gemini API (free tier)\"\"\"\n    try:\n        search_query = f\"{query} restaurants in {location}\" if location else f\"{query} restaurants\"\n\n        prompt = f\"\"\"You are a restaurant recommendation expert. Find restaurants for: {search_query}\n\nReturn restaurant data in JSON format with an array of restaurants, each having these fields:\n- name (string)\n- address (string)\n- cuisine (string)\n- rating (string or null)\n- description (string)\n- hours (string or null)\n- price (string or null)\n- phone (string or null)\n- website (string or null)\n\nReturn at least 3-5 restaurants if available. Return ONLY the JSON array, no other text.\"\"\"\n\n        # Call Gemini API (synchronous, wrap in async)\n        response = await asyncio.to_thread(\n            gemini_model.generate_content,\n            prompt\n        )\n\n        content = response.text\n\n        # Try to extract JSON from response\n        try:\n            start = content.find('[')\n            end = content.rfind(']') + 1\n            if start != -1 and end > start:\n                json_str = content[start:end]\n                data = json.loads(json_str)\n                \n                restaurants = []\n                for item in data:\n                    restaurant = {\n                        \"name\": item.get(\"name\", \"Unknown Restaurant\"),\n                        \"address\": item.get(\"address\", \"Address not available\"),\n                        \"cuisine\": item.get(\"cuisine\", query),\n                        \"rating\": item.get(\"rating\"),\n                        \"description\": item.get(\"description\", \"No description available\"),\n                        \"hours\": item.get(\"hours\"),\n                        \"price\": item.get(\"price\"),\n                        \"phone\": item.get(\"phone\"),\n                        \"website\": item.get(\"website\"),\n                        \"source\": \"gemini\"\n                    }\n                    restaurants.append(restaurant)\n                \n                return restaurants\n        except json.JSONDecodeError:\n            pass\n\n        # Fallback\n        return [{\n            \"name\": \"Restaurant suggestions\",\n            \"address\": \"See description\",\n            \"cuisine\": query,\n            \"description\": content[:500],\n            \"source\": \"gemini\"\n        }]\n\n    except Exception as e:\n        print(f\"❌ Gemini API Error: {str(e)}\")\n        return []\n\nprint(\"✅ Gemini search function defined\")"
  },
  {
   "cell_type": "markdown",
   "id": "merge-header",
   "metadata": {},
   "source": [
    "## Define Result Merging Function"
   ]
  },
  {
   "cell_type": "code",
   "execution_count": null,
   "id": "merge-function",
   "metadata": {},
   "outputs": [],
   "source": "def merge_results(tavily_results: List[dict], gemini_results: List[dict]) -> List[dict]:\n    \"\"\"Merge and deduplicate results from both sources\"\"\"\n    merged = []\n    seen_names = set()\n\n    # Prefer Gemini results first (more structured)\n    for restaurant in gemini_results:\n        name_lower = restaurant[\"name\"].lower()\n        if name_lower not in seen_names:\n            seen_names.add(name_lower)\n            merged.append(restaurant)\n\n    # Add Tavily results if not duplicates\n    for restaurant in tavily_results:\n        name_lower = restaurant[\"name\"].lower()\n        if name_lower not in seen_names:\n            seen_names.add(name_lower)\n            merged.append(restaurant)\n\n    return merged\n\nprint(\"✅ Merge function defined\")"
  },
  {
   "cell_type": "markdown",
   "id": "main-search-header",
   "metadata": {},
   "source": [
    "## Main Search Function"
   ]
  },
  {
   "cell_type": "code",
   "execution_count": null,
   "id": "main-search",
   "metadata": {},
   "outputs": [],
   "source": "async def search_restaurants(query: str, location: Optional[str] = None) -> List[dict]:\n    \"\"\"Search restaurants using both APIs and merge results\"\"\"\n    print(f\"\\n🔍 Searching for: {query}\" + (f\" in {location}\" if location else \"\"))\n    \n    # Search both APIs in parallel\n    tavily_task = search_tavily(query, location)\n    gemini_task = search_gemini(query, location)\n    \n    tavily_results, gemini_results = await asyncio.gather(\n        tavily_task, gemini_task,\n        return_exceptions=True\n    )\n    \n    # Handle errors\n    if isinstance(tavily_results, Exception):\n        tavily_results = []\n    if isinstance(gemini_results, Exception):\n        gemini_results = []\n    \n    # Merge results\n    merged = merge_results(\n        tavily_results if isinstance(tavily_results, list) else [],\n        gemini_results if isinstance(gemini_results, list) else []\n    )\n    \n    return merged\n\nprint(\"✅ Main search function defined\")"
  },
  {
   "cell_type": "markdown",
   "id": "display-header",
   "metadata": {},
   "source": [
    "## Display Function"
   ]
  },
  {
   "cell_type": "code",
   "execution_count": null,
   "id": "display-function",
   "metadata": {},
   "outputs": [],
   "source": [
    "def display_restaurant(restaurant: dict, index: int):\n",
    "    \"\"\"Display a single restaurant in a formatted way\"\"\"\n",
    "    print(f\"\\n{'='*80}\")\n",
    "    print(f\"🍽️  Restaurant #{index + 1}: {restaurant['name']}\")\n",
    "    print(f\"{'='*80}\")\n",
    "    print(f\"📍 Address: {restaurant['address']}\")\n",
    "    print(f\"🍴 Cuisine: {restaurant['cuisine']}\")\n",
    "    \n",
    "    if restaurant.get('rating'):\n",
    "        print(f\"⭐ Rating: {restaurant['rating']}\")\n",
    "    if restaurant.get('price'):\n",
    "        print(f\"💰 Price: {restaurant['price']}\")\n",
    "    if restaurant.get('hours'):\n",
    "        print(f\"🕒 Hours: {restaurant['hours']}\")\n",
    "    if restaurant.get('phone'):\n",
    "        print(f\"📞 Phone: {restaurant['phone']}\")\n",
    "    if restaurant.get('website'):\n",
    "        print(f\"🌐 Website: {restaurant['website']}\")\n",
    "    \n",
    "    print(f\"\\n📝 Description: {restaurant['description']}\")\n",
    "    print(f\"\\n🔖 Source: {restaurant.get('source', 'unknown')}\")\n",
    "\n",
    "print(\"✅ Display function defined\")"
   ]
  },
  {
   "cell_type": "markdown",
   "id": "test-header",
   "metadata": {},
   "source": [
    "## Test Search (Single Query)"
   ]
  },
  {
   "cell_type": "code",
   "execution_count": null,
   "id": "test-search",
   "metadata": {},
   "outputs": [],
   "source": [
    "# Test with a sample query\n",
    "test_query = \"italian veg food\"\n",
    "test_location = \"bangalore\"\n",
    "\n",
    "results = await search_restaurants(test_query, test_location)\n",
    "\n",
    "print(f\"\\n✅ Found {len(results)} restaurants!\\n\")\n",
    "\n",
    "# Display first 3 results\n",
    "for i, restaurant in enumerate(results[:3]):\n",
    "    display_restaurant(restaurant, i)"
   ]
  },
  {
   "cell_type": "markdown",
   "id": "chat-header",
   "metadata": {},
   "source": [
    "## Interactive Chat Loop\n",
    "\n",
    "Run this cell to start an interactive chat session. Type your restaurant queries and get recommendations!\n",
    "\n",
    "**Example queries:**\n",
    "- \"chinese food in san francisco\"\n",
    "- \"veg italian restaurants in mumbai\"\n",
    "- \"best sushi places in tokyo\"\n",
    "\n",
    "Type `exit` or `quit` to stop."
   ]
  },
  {
   "cell_type": "code",
   "execution_count": null,
   "id": "chat-loop",
   "metadata": {},
   "outputs": [],
   "source": [
    "print(\"\\n\" + \"=\"*80)\n",
    "print(\"🍽️  RESTAURANT FINDER - Interactive Chat\")\n",
    "print(\"=\"*80)\n",
    "print(\"\\nAsk me to find restaurants! Examples:\")\n",
    "print(\"  - 'italian veg food in bangalore'\")\n",
    "print(\"  - 'chinese restaurants in san francisco'\")\n",
    "print(\"  - 'best sushi in tokyo'\")\n",
    "print(\"\\nType 'exit' or 'quit' to stop.\\n\")\n",
    "\n",
    "while True:\n",
    "    query = input(\"\\n🔍 Your query: \").strip()\n",
    "    \n",
    "    if query.lower() in ['exit', 'quit', 'q']:\n",
    "        print(\"\\n👋 Thanks for using Restaurant Finder! Goodbye!\")\n",
    "        break\n",
    "    \n",
    "    if not query:\n",
    "        print(\"⚠️  Please enter a valid query.\")\n",
    "        continue\n",
    "    \n",
    "    # Parse query (simple approach - assume last word might be location)\n",
    "    words = query.split()\n",
    "    if len(words) >= 3 and words[-2].lower() == 'in':\n",
    "        location = words[-1]\n",
    "        cuisine = ' '.join(words[:-2])\n",
    "    else:\n",
    "        location = None\n",
    "        cuisine = query\n",
    "    \n",
    "    # Search\n",
    "    results = await search_restaurants(cuisine, location)\n",
    "    \n",
    "    if not results:\n",
    "        print(\"\\n❌ No restaurants found. Try a different query!\")\n",
    "        continue\n",
    "    \n",
    "    print(f\"\\n✨ Found {len(results)} restaurants!\")\n",
    "    \n",
    "    # Ask how many to display\n",
    "    try:\n",
    "        num_display = int(input(f\"\\nHow many results to display? (1-{len(results)}, press Enter for 5): \") or \"5\")\n",
    "        num_display = min(max(1, num_display), len(results))\n",
    "    except ValueError:\n",
    "        num_display = min(5, len(results))\n",
    "    \n",
    "    # Display results\n",
    "    for i, restaurant in enumerate(results[:num_display]):\n",
    "        display_restaurant(restaurant, i)"
   ]
  },
  {
   "cell_type": "markdown",
   "id": "summary",
   "metadata": {},
   "source": "## Summary\n\nThis notebook demonstrates:\n1. ✅ Integration with **Tavily (free tier)** and **Google Gemini (free tier)** APIs\n2. ✅ Async parallel search for better performance\n3. ✅ Result merging and deduplication\n4. ✅ Interactive chat loop for continuous queries\n5. ✅ Formatted restaurant display with all available information\n\n**💰 Cost**: $0 - Perfect for students!\n- Tavily: 1000 searches/month free\n- Google Gemini Flash: 15 RPM, 1M TPM, 1500 RPD free\n\nThe backend logic matches the FastAPI implementation in `backend/app.py`."
  }
 ],
 "metadata": {
  "kernelspec": {
   "display_name": "Python 3",
   "language": "python",
   "name": "python3"
  },
  "language_info": {
   "codemirror_mode": {
    "name": "ipython",
    "version": 3
   },
   "file_extension": ".py",
   "mimetype": "text/x-python",
   "name": "python",
   "nbconvert_exporter": "python",
   "pygments_lexer": "ipython3",
   "version": "3.11.0"
  }
 },
 "nbformat": 4,
 "nbformat_minor": 5
}