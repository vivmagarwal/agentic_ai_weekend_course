{
 "cells": [
  {
   "cell_type": "markdown",
   "metadata": {},
   "source": [
    "# Third-Party Packages, APIs, and Security\n",
    "\n",
    "## Learning Objectives\n",
    "By the end of this section, you will be able to:\n",
    "- Install and import third-party Python packages using pip\n",
    "- Use different import styles to organize code effectively\n",
    "- Make HTTP API calls to retrieve data from external services\n",
    "- Parse JSON responses and extract useful information\n",
    "- Handle sensitive information securely using environment variables and getpass\n",
    "- Build programs that interact with real-world APIs safely\n",
    "\n",
    "## Why This Matters: Real-World AI/RAG/Agentic Applications\n",
    "\n",
    "**In Software Engineering:**\n",
    "- Code reuse: Leverage thousands of community-built packages instead of writing everything from scratch\n",
    "- API integration: Connect your applications to external services (payment processors, databases, cloud services)\n",
    "- Security: Protect sensitive credentials, API keys, and user data from exposure\n",
    "\n",
    "**In AI Systems:**\n",
    "- Install specialized libraries: transformers, langchain, openai, anthropic, etc.\n",
    "- Call AI model APIs: OpenAI GPT, Google Gemini, Anthropic Claude\n",
    "- Secure API keys: Protect expensive AI API credentials from unauthorized use\n",
    "\n",
    "**In RAG Pipelines:**\n",
    "- Vector database APIs: Query Pinecone, Weaviate, ChromaDB for document retrieval\n",
    "- Embedding APIs: Call OpenAI or Cohere to generate text embeddings\n",
    "- Document APIs: Fetch documents from cloud storage or content management systems\n",
    "\n",
    "**In Agentic AI:**\n",
    "- Tool integration: Agents call external APIs (weather, calendar, email, databases)\n",
    "- Multi-service orchestration: Coordinate between different API services\n",
    "- Secure credentials: Manage API keys for multiple services the agent uses\n",
    "\n",
    "## Prerequisites\n",
    "- Understanding of functions and return values\n",
    "- Familiarity with dictionaries (API responses use dictionary format)\n",
    "- Knowledge of strings and string formatting\n",
    "- Basic understanding of variables\n",
    "\n",
    "---"
   ]
  },
  {
   "cell_type": "code",
   "execution_count": null,
   "metadata": {},
   "outputs": [],
   "source": [
    "# Install required packages for this notebook\n",
    "# In Google Colab, you need to run this every time you start a new session\n",
    "!pip install requests python-dotenv"
   ]
  },
  {
   "cell_type": "markdown",
   "metadata": {},
   "source": [
    "## Instructor Activity 1\n",
    "**Concept**: Installing third-party packages using pip\n",
    "\n",
    "Python's package ecosystem contains over 500,000 packages on PyPI (Python Package Index). These packages provide specialized functionality so you don't have to write everything from scratch.\n",
    "\n",
    "**Key Points**:\n",
    "- `pip` is Python's package installer (comes with Python)\n",
    "- In Jupyter/Colab, use `!pip install package_name` (exclamation mark runs shell commands)\n",
    "- In terminal/command line, use `pip install package_name` (no exclamation mark)\n",
    "- Install packages before importing them in your code\n",
    "- In Colab, installations last only for the current session"
   ]
  },
  {
   "cell_type": "markdown",
   "metadata": {},
   "source": [
    "### Example 1: Installing a Single Package\n",
    "\n",
    "**Task**: Install the `requests` package, which makes HTTP requests easy\n",
    "\n",
    "**Expected Output**: Installation success message showing package version"
   ]
  },
  {
   "cell_type": "code",
   "execution_count": null,
   "metadata": {},
   "outputs": [],
   "source": [
    "# Empty cell for live demonstration"
   ]
  },
  {
   "cell_type": "markdown",
   "metadata": {},
   "source": [
    "<details>\n",
    "<summary>Solution</summary>\n",
    "\n",
    "```python\n",
    "# Install the requests package\n",
    "# The ! tells Jupyter to run this as a shell command, not Python code\n",
    "!pip install requests\n",
    "\n",
    "# You'll see output showing:\n",
    "# - Package being downloaded\n",
    "# - Dependencies being installed\n",
    "# - \"Successfully installed requests-X.X.X\" message\n",
    "```\n",
    "\n",
    "**Why this works:**\n",
    "The `!` prefix executes shell commands from within Jupyter notebooks. `pip install` downloads the package from PyPI and installs it in your Python environment. The `requests` library is one of the most popular Python packages for making HTTP requests.\n",
    "\n",
    "</details>"
   ]
  },
  {
   "cell_type": "markdown",
   "metadata": {},
   "source": [
    "### Example 2: Installing Multiple Packages at Once\n",
    "\n",
    "**Task**: Install both `requests` and `python-dotenv` in a single command\n",
    "\n",
    "**Expected Output**: Both packages installed successfully"
   ]
  },
  {
   "cell_type": "code",
   "execution_count": null,
   "metadata": {},
   "outputs": [],
   "source": [
    "# Empty cell for demonstration"
   ]
  },
  {
   "cell_type": "markdown",
   "metadata": {},
   "source": [
    "<details>\n",
    "<summary>Solution</summary>\n",
    "\n",
    "```python\n",
    "# Install multiple packages by separating names with spaces\n",
    "!pip install requests python-dotenv\n",
    "\n",
    "# python-dotenv helps load environment variables from .env files\n",
    "# Both packages and their dependencies will be installed\n",
    "```\n",
    "\n",
    "**Why this works:**\n",
    "You can install multiple packages in one command by listing them separated by spaces. This is more efficient than running separate install commands. `python-dotenv` is commonly used to manage environment variables for configuration and secrets.\n",
    "\n",
    "</details>"
   ]
  },
  {
   "cell_type": "markdown",
   "metadata": {},
   "source": [
    "### Example 3: Understanding Package Versions and Dependencies\n",
    "\n",
    "**Task**: Install a specific version of a package\n",
    "\n",
    "**Expected Output**: The exact version specified gets installed"
   ]
  },
  {
   "cell_type": "code",
   "execution_count": null,
   "metadata": {},
   "outputs": [],
   "source": [
    "# Empty cell for demonstration"
   ]
  },
  {
   "cell_type": "markdown",
   "metadata": {},
   "source": [
    "<details>\n",
    "<summary>Solution</summary>\n",
    "\n",
    "```python\n",
    "# Install a specific version using ==\n",
    "!pip install requests==2.31.0\n",
    "\n",
    "# You can also use:\n",
    "# >= for \"at least this version\"\n",
    "# <= for \"at most this version\"\n",
    "# ~= for \"compatible release\" (e.g., ~=2.31 allows 2.31.x but not 2.32)\n",
    "\n",
    "# Example with version range:\n",
    "# !pip install \"requests>=2.28,<3.0\"\n",
    "```\n",
    "\n",
    "**Why this works:**\n",
    "Version specifiers ensure your code uses compatible package versions. In production environments, pinning exact versions (using `==`) prevents unexpected breaking changes. Dependencies are automatically installed - if `requests` needs `urllib3`, pip installs it automatically.\n",
    "\n",
    "</details>"
   ]
  },
  {
   "cell_type": "markdown",
   "metadata": {},
   "source": [
    "### Example 4: Checking Installed Packages\n",
    "\n",
    "**Task**: View information about installed packages\n",
    "\n",
    "**Expected Output**: List of packages or detailed information about a specific package"
   ]
  },
  {
   "cell_type": "code",
   "execution_count": null,
   "metadata": {},
   "outputs": [],
   "source": [
    "# Empty cell for demonstration"
   ]
  },
  {
   "cell_type": "markdown",
   "metadata": {},
   "source": [
    "<details>\n",
    "<summary>Solution</summary>\n",
    "\n",
    "```python\n",
    "# List all installed packages\n",
    "!pip list\n",
    "\n",
    "# Show detailed information about a specific package\n",
    "!pip show requests\n",
    "\n",
    "# Output includes:\n",
    "# - Name and version\n",
    "# - Summary/description\n",
    "# - Homepage and author\n",
    "# - Location where installed\n",
    "# - Dependencies (Requires)\n",
    "# - What depends on it (Required-by)\n",
    "```\n",
    "\n",
    "**Why this works:**\n",
    "`pip list` shows all packages in your environment - useful for debugging and documenting your setup. `pip show` provides detailed metadata about a specific package, including its dependencies and install location. This helps you verify correct installation and understand package relationships.\n",
    "\n",
    "</details>"
   ]
  },
  {
   "cell_type": "markdown",
   "metadata": {},
   "source": [
    "---\n",
    "\n",
    "## Learner Activity 1\n",
    "**Practice**: Installing packages using pip\n",
    "\n",
    "Now it's your turn to practice installing packages!"
   ]
  },
  {
   "cell_type": "markdown",
   "metadata": {},
   "source": [
    "### Exercise 1: Install the requests Package\n",
    "\n",
    "**Task**: Install the `requests` package using pip\n",
    "\n",
    "**Expected Output**: Success message indicating requests was installed"
   ]
  },
  {
   "cell_type": "code",
   "execution_count": null,
   "metadata": {},
   "outputs": [],
   "source": [
    "# Your code here"
   ]
  },
  {
   "cell_type": "markdown",
   "metadata": {},
   "source": [
    "<details>\n",
    "<summary>Solution</summary>\n",
    "\n",
    "```python\n",
    "# Install requests package\n",
    "!pip install requests\n",
    "```\n",
    "\n",
    "**Why this works:**\n",
    "The `!` runs the shell command, and `pip install requests` downloads and installs the requests package from PyPI.\n",
    "\n",
    "</details>"
   ]
  },
  {
   "cell_type": "markdown",
   "metadata": {},
   "source": [
    "### Exercise 2: Install python-dotenv\n",
    "\n",
    "**Task**: Install the `python-dotenv` package\n",
    "\n",
    "**Expected Output**: Success message for python-dotenv installation"
   ]
  },
  {
   "cell_type": "code",
   "execution_count": null,
   "metadata": {},
   "outputs": [],
   "source": [
    "# Your code here"
   ]
  },
  {
   "cell_type": "markdown",
   "metadata": {},
   "source": [
    "<details>\n",
    "<summary>Solution</summary>\n",
    "\n",
    "```python\n",
    "# Install python-dotenv package\n",
    "!pip install python-dotenv\n",
    "```\n",
    "\n",
    "**Why this works:**\n",
    "Same pattern as before - pip downloads and installs the package. The `python-dotenv` package helps manage environment variables from .env files.\n",
    "\n",
    "</details>"
   ]
  },
  {
   "cell_type": "markdown",
   "metadata": {},
   "source": [
    "### Exercise 3: View Package Information\n",
    "\n",
    "**Task**: Use `!pip show requests` to view detailed information about the requests package\n",
    "\n",
    "**Expected Output**: Detailed metadata including version, author, location, and dependencies"
   ]
  },
  {
   "cell_type": "code",
   "execution_count": null,
   "metadata": {},
   "outputs": [],
   "source": [
    "# Your code here"
   ]
  },
  {
   "cell_type": "markdown",
   "metadata": {},
   "source": [
    "<details>\n",
    "<summary>Solution</summary>\n",
    "\n",
    "```python\n",
    "# Show detailed information about requests package\n",
    "!pip show requests\n",
    "```\n",
    "\n",
    "**Why this works:**\n",
    "`pip show` displays package metadata from pip's records. This includes version, description, dependencies, and installation location - useful for debugging and verification.\n",
    "\n",
    "</details>"
   ]
  },
  {
   "cell_type": "markdown",
   "metadata": {},
   "source": [
    "---\n",
    "\n",
    "## Instructor Activity 2\n",
    "**Concept**: Different ways to import and use packages\n",
    "\n",
    "After installing a package, you need to import it to use its functionality. Python offers several import styles to suit different needs.\n",
    "\n",
    "**Key Points**:\n",
    "- `import package` imports the entire package (use `package.function()`)\n",
    "- `import package as alias` creates a shorter name for convenience\n",
    "- `from package import item` imports specific functions/classes (use `item()` directly)\n",
    "- Built-in packages (os, json, sys) don't need installation\n",
    "- Third-party packages must be installed with pip first\n",
    "- Choose import style based on readability and how often you'll use the package"
   ]
  },
  {
   "cell_type": "markdown",
   "metadata": {},
   "source": [
    "### Example 1: Simple Import with Full Package Name\n",
    "\n",
    "**Task**: Import requests and use it with full package name\n",
    "\n",
    "**Expected Output**: Successfully make an HTTP request using `requests.get()`"
   ]
  },
  {
   "cell_type": "code",
   "execution_count": null,
   "metadata": {},
   "outputs": [],
   "source": [
    "# Empty cell for demonstration"
   ]
  },
  {
   "cell_type": "markdown",
   "metadata": {},
   "source": [
    "<details>\n",
    "<summary>Solution</summary>\n",
    "\n",
    "```python\n",
    "# Import the entire requests package\n",
    "import requests\n",
    "\n",
    "# Use the package with its full name\n",
    "response = requests.get(\"https://api.github.com\")\n",
    "print(f\"Status Code: {response.status_code}\")\n",
    "print(f\"Response Type: {type(response)}\")\n",
    "\n",
    "# Output:\n",
    "# Status Code: 200\n",
    "# Response Type: <class 'requests.models.Response'>\n",
    "```\n",
    "\n",
    "**Why this works:**\n",
    "`import requests` loads the entire requests package into memory. You access its functions using dot notation: `requests.get()`, `requests.post()`, etc. This is the most explicit style and makes it clear where each function comes from.\n",
    "\n",
    "</details>"
   ]
  },
  {
   "cell_type": "markdown",
   "metadata": {},
   "source": [
    "### Example 2: Import with Alias\n",
    "\n",
    "**Task**: Import requests with a shorter alias name\n",
    "\n",
    "**Expected Output**: Same functionality but using shorter name"
   ]
  },
  {
   "cell_type": "code",
   "execution_count": null,
   "metadata": {},
   "outputs": [],
   "source": [
    "# Empty cell for demonstration"
   ]
  },
  {
   "cell_type": "markdown",
   "metadata": {},
   "source": [
    "<details>\n",
    "<summary>Solution</summary>\n",
    "\n",
    "```python\n",
    "# Import with an alias (shorter name)\n",
    "import requests as req\n",
    "\n",
    "# Now use 'req' instead of 'requests'\n",
    "response = req.get(\"https://api.github.com\")\n",
    "print(f\"Status Code: {response.status_code}\")\n",
    "\n",
    "# Common aliases in the Python community:\n",
    "# import numpy as np\n",
    "# import pandas as pd\n",
    "# import matplotlib.pyplot as plt\n",
    "\n",
    "# Output:\n",
    "# Status Code: 200\n",
    "```\n",
    "\n",
    "**Why this works:**\n",
    "`import package as alias` creates a shorter reference name. This reduces typing and improves readability, especially for packages with long names. Follow community conventions for common aliases (np for numpy, pd for pandas).\n",
    "\n",
    "</details>"
   ]
  },
  {
   "cell_type": "markdown",
   "metadata": {},
   "source": [
    "### Example 3: Import Specific Functions\n",
    "\n",
    "**Task**: Import only the `get` function from requests\n",
    "\n",
    "**Expected Output**: Use `get()` directly without package prefix"
   ]
  },
  {
   "cell_type": "code",
   "execution_count": null,
   "metadata": {},
   "outputs": [],
   "source": [
    "# Empty cell for demonstration"
   ]
  },
  {
   "cell_type": "markdown",
   "metadata": {},
   "source": [
    "<details>\n",
    "<summary>Solution</summary>\n",
    "\n",
    "```python\n",
    "# Import only the get function\n",
    "from requests import get\n",
    "\n",
    "# Use get() directly without 'requests.' prefix\n",
    "response = get(\"https://api.github.com\")\n",
    "print(f\"Status Code: {response.status_code}\")\n",
    "\n",
    "# This is cleaner when you only need one or two functions\n",
    "# But be careful of name conflicts with existing functions\n",
    "\n",
    "# Output:\n",
    "# Status Code: 200\n",
    "```\n",
    "\n",
    "**Why this works:**\n",
    "`from package import item` brings specific items directly into your namespace. You can use them without the package prefix. This is cleaner when you only need a few functions, but be cautious of naming conflicts (e.g., if you have your own `get` function).\n",
    "\n",
    "</details>"
   ]
  },
  {
   "cell_type": "markdown",
   "metadata": {},
   "source": [
    "### Example 4: Import Multiple Items\n",
    "\n",
    "**Task**: Import multiple items from a package in one line\n",
    "\n",
    "**Expected Output**: Use multiple imported items directly"
   ]
  },
  {
   "cell_type": "code",
   "execution_count": null,
   "metadata": {},
   "outputs": [],
   "source": [
    "# Empty cell for demonstration"
   ]
  },
  {
   "cell_type": "markdown",
   "metadata": {},
   "source": [
    "<details>\n",
    "<summary>Solution</summary>\n",
    "\n",
    "```python\n",
    "# Import multiple items from os (built-in package, no install needed)\n",
    "from os import environ, path, getcwd\n",
    "\n",
    "# Use each function directly\n",
    "print(f\"Current directory: {getcwd()}\")\n",
    "print(f\"Path separator: {path.sep}\")\n",
    "print(f\"Environment variables available: {len(environ)}\")\n",
    "\n",
    "# You can also use parentheses for better formatting:\n",
    "# from os import (\n",
    "#     environ,\n",
    "#     path,\n",
    "#     getcwd\n",
    "# )\n",
    "\n",
    "# Output will show your current directory and environment info\n",
    "```\n",
    "\n",
    "**Why this works:**\n",
    "You can import multiple items by separating them with commas. The `os` package is built into Python, so no installation needed. Use parentheses for multi-line imports when importing many items for better readability.\n",
    "\n",
    "</details>"
   ]
  },
  {
   "cell_type": "markdown",
   "metadata": {},
   "source": [
    "---\n",
    "\n",
    "## Learner Activity 2\n",
    "**Practice**: Using different import styles\n",
    "\n",
    "Practice the different ways to import packages and their components."
   ]
  },
  {
   "cell_type": "markdown",
   "metadata": {},
   "source": [
    "### Exercise 1: Explore Package Functions\n",
    "\n",
    "**Task**: Import `requests` and use `dir(requests)` to see what functions are available\n",
    "\n",
    "**Expected Output**: A list of all attributes and methods in the requests package"
   ]
  },
  {
   "cell_type": "code",
   "execution_count": null,
   "metadata": {},
   "outputs": [],
   "source": [
    "# Your code here"
   ]
  },
  {
   "cell_type": "markdown",
   "metadata": {},
   "source": [
    "<details>\n",
    "<summary>Solution</summary>\n",
    "\n",
    "```python\n",
    "# Import requests package\n",
    "import requests\n",
    "\n",
    "# dir() lists all attributes and methods\n",
    "print(\"Functions in requests package:\")\n",
    "functions = [item for item in dir(requests) if not item.startswith('_')]\n",
    "print(functions)\n",
    "\n",
    "# You'll see methods like: get, post, put, delete, patch, etc.\n",
    "```\n",
    "\n",
    "**Why this works:**\n",
    "`dir()` is a built-in function that returns a list of valid attributes for an object. We filter out items starting with `_` (internal/private items) to see the public API. This is useful for exploring what a package can do.\n",
    "\n",
    "</details>"
   ]
  },
  {
   "cell_type": "markdown",
   "metadata": {},
   "source": [
    "### Exercise 2: Import with Alias\n",
    "\n",
    "**Task**: Import `requests` with alias `req`, then use it in a print statement\n",
    "\n",
    "**Expected Output**: A print statement showing you successfully used the alias"
   ]
  },
  {
   "cell_type": "code",
   "execution_count": null,
   "metadata": {},
   "outputs": [],
   "source": [
    "# Your code here"
   ]
  },
  {
   "cell_type": "markdown",
   "metadata": {},
   "source": [
    "<details>\n",
    "<summary>Solution</summary>\n",
    "\n",
    "```python\n",
    "# Import with alias\n",
    "import requests as req\n",
    "\n",
    "# Use the alias\n",
    "print(f\"Requests package imported as 'req': {req}\")\n",
    "print(f\"Package version: {req.__version__}\")\n",
    "```\n",
    "\n",
    "**Why this works:**\n",
    "The alias `req` becomes a reference to the requests package. You can use it exactly like the full name but with less typing. `__version__` is a special attribute many packages provide to show their version number.\n",
    "\n",
    "</details>"
   ]
  },
  {
   "cell_type": "markdown",
   "metadata": {},
   "source": [
    "### Exercise 3: Import Specific Function\n",
    "\n",
    "**Task**: Import only the `get` function from `requests` package\n",
    "\n",
    "**Expected Output**: Successfully import and demonstrate you can use `get()` directly"
   ]
  },
  {
   "cell_type": "code",
   "execution_count": null,
   "metadata": {},
   "outputs": [],
   "source": [
    "# Your code here"
   ]
  },
  {
   "cell_type": "markdown",
   "metadata": {},
   "source": [
    "<details>\n",
    "<summary>Solution</summary>\n",
    "\n",
    "```python\n",
    "# Import only the get function\n",
    "from requests import get\n",
    "\n",
    "# Test that we can use it directly\n",
    "print(f\"get function imported: {get}\")\n",
    "print(f\"Function type: {type(get)}\")\n",
    "```\n",
    "\n",
    "**Why this works:**\n",
    "`from package import function` brings the function into your current namespace. You can call it directly without the package prefix. This is cleaner when you frequently use specific functions.\n",
    "\n",
    "</details>"
   ]
  },
  {
   "cell_type": "markdown",
   "metadata": {},
   "source": [
    "### Exercise 4: Import from Built-in Package\n",
    "\n",
    "**Task**: Import `environ` from the built-in `os` package (no installation needed)\n",
    "\n",
    "**Expected Output**: Successfully import and print type of environ"
   ]
  },
  {
   "cell_type": "code",
   "execution_count": null,
   "metadata": {},
   "outputs": [],
   "source": [
    "# Your code here"
   ]
  },
  {
   "cell_type": "markdown",
   "metadata": {},
   "source": [
    "<details>\n",
    "<summary>Solution</summary>\n",
    "\n",
    "```python\n",
    "# Import from os (built-in package)\n",
    "from os import environ\n",
    "\n",
    "# environ is a dictionary-like object with environment variables\n",
    "print(f\"environ type: {type(environ)}\")\n",
    "print(f\"Number of environment variables: {len(environ)}\")\n",
    "```\n",
    "\n",
    "**Why this works:**\n",
    "Built-in packages like `os`, `sys`, `json` come with Python and don't need installation. `os.environ` is a special mapping object that behaves like a dictionary containing environment variables.\n",
    "\n",
    "</details>"
   ]
  },
  {
   "cell_type": "markdown",
   "metadata": {},
   "source": [
    "---\n",
    "\n",
    "## Instructor Activity 3\n",
    "**Concept**: Making HTTP API calls to retrieve data\n",
    "\n",
    "APIs (Application Programming Interfaces) allow programs to communicate with each other. HTTP APIs use web URLs to send and receive data. This is how most modern applications interact with external services.\n",
    "\n",
    "**Key Points**:\n",
    "- HTTP GET request retrieves data from a URL\n",
    "- Response object contains status code, headers, and content\n",
    "- Status codes: 200 (OK), 404 (Not Found), 500 (Server Error)\n",
    "- `.json()` method converts JSON response to Python dictionary\n",
    "- Most APIs return data in JSON format\n",
    "- Always check status code to ensure request succeeded\n",
    "- Some APIs require authentication (API keys) - we'll cover that in Activity 4"
   ]
  },
  {
   "cell_type": "markdown",
   "metadata": {},
   "source": [
    "### Example 1: Simple GET Request\n",
    "\n",
    "**Task**: Make a GET request to GitHub's API root endpoint\n",
    "\n",
    "**Expected Output**: Response object with status code 200"
   ]
  },
  {
   "cell_type": "code",
   "execution_count": null,
   "metadata": {},
   "outputs": [],
   "source": [
    "# Empty cell for demonstration"
   ]
  },
  {
   "cell_type": "markdown",
   "metadata": {},
   "source": [
    "<details>\n",
    "<summary>Solution</summary>\n",
    "\n",
    "```python\n",
    "import requests\n",
    "\n",
    "# Make a GET request to GitHub API\n",
    "response = requests.get(\"https://api.github.com\")\n",
    "\n",
    "# Print response details\n",
    "print(f\"Response object: {response}\")\n",
    "print(f\"Status code: {response.status_code}\")\n",
    "print(f\"Response type: {type(response)}\")\n",
    "\n",
    "# Output:\n",
    "# Response object: <Response [200]>\n",
    "# Status code: 200\n",
    "# Response type: <class 'requests.models.Response'>\n",
    "```\n",
    "\n",
    "**Why this works:**\n",
    "`requests.get(url)` sends an HTTP GET request to the specified URL and returns a Response object. The status code 200 means \"OK\" - the request succeeded. The Response object contains all the information returned by the server.\n",
    "\n",
    "</details>"
   ]
  },
  {
   "cell_type": "markdown",
   "metadata": {},
   "source": [
    "### Example 2: Checking Response Status\n",
    "\n",
    "**Task**: Make a request and check if it was successful\n",
    "\n",
    "**Expected Output**: Status code and success/failure message"
   ]
  },
  {
   "cell_type": "code",
   "execution_count": null,
   "metadata": {},
   "outputs": [],
   "source": [
    "# Empty cell for demonstration"
   ]
  },
  {
   "cell_type": "markdown",
   "metadata": {},
   "source": [
    "<details>\n",
    "<summary>Solution</summary>\n",
    "\n",
    "```python\n",
    "import requests\n",
    "\n",
    "# Make request to GitHub API\n",
    "response = requests.get(\"https://api.github.com\")\n",
    "\n",
    "# Check status code\n",
    "print(f\"Status Code: {response.status_code}\")\n",
    "\n",
    "# Check if request was successful (status code 200-299)\n",
    "if response.status_code == 200:\n",
    "    print(\"Success! Request completed successfully.\")\n",
    "else:\n",
    "    print(f\"Request failed with status: {response.status_code}\")\n",
    "\n",
    "# Alternative: use response.ok property\n",
    "print(f\"Request OK? {response.ok}\")\n",
    "\n",
    "# Common status codes:\n",
    "# 200: OK - Success\n",
    "# 201: Created - Resource successfully created\n",
    "# 400: Bad Request - Client error\n",
    "# 401: Unauthorized - Authentication required\n",
    "# 404: Not Found - Resource doesn't exist\n",
    "# 500: Internal Server Error - Server problem\n",
    "```\n",
    "\n",
    "**Why this works:**\n",
    "HTTP status codes indicate the result of the request. Codes in the 200s mean success, 400s mean client errors, 500s mean server errors. The `.ok` property returns True for status codes 200-299. Always check status before processing response data.\n",
    "\n",
    "</details>"
   ]
  },
  {
   "cell_type": "markdown",
   "metadata": {},
   "source": [
    "### Example 3: Getting JSON Data\n",
    "\n",
    "**Task**: Parse JSON response data into a Python dictionary\n",
    "\n",
    "**Expected Output**: Dictionary containing API response data"
   ]
  },
  {
   "cell_type": "code",
   "execution_count": null,
   "metadata": {},
   "outputs": [],
   "source": [
    "# Empty cell for demonstration"
   ]
  },
  {
   "cell_type": "markdown",
   "metadata": {},
   "source": [
    "<details>\n",
    "<summary>Solution</summary>\n",
    "\n",
    "```python\n",
    "import requests\n",
    "\n",
    "# Make request to GitHub API\n",
    "response = requests.get(\"https://api.github.com\")\n",
    "\n",
    "# Convert JSON response to Python dictionary\n",
    "data = response.json()\n",
    "\n",
    "print(f\"Data type: {type(data)}\")\n",
    "print(f\"Number of keys: {len(data)}\")\n",
    "print(\"\\nFirst few keys:\")\n",
    "for key in list(data.keys())[:5]:\n",
    "    print(f\"  - {key}: {data[key]}\")\n",
    "\n",
    "# Output shows dictionary with API endpoint URLs\n",
    "```\n",
    "\n",
    "**Why this works:**\n",
    "The `.json()` method parses JSON (JavaScript Object Notation) text into Python data structures - typically dictionaries and lists. JSON is the standard format for API data exchange. Most APIs return JSON, which maps naturally to Python dictionaries.\n",
    "\n",
    "</details>"
   ]
  },
  {
   "cell_type": "markdown",
   "metadata": {},
   "source": [
    "### Example 4: Accessing Data from Response\n",
    "\n",
    "**Task**: Extract specific information from an API response\n",
    "\n",
    "**Expected Output**: Specific values from the JSON data"
   ]
  },
  {
   "cell_type": "code",
   "execution_count": null,
   "metadata": {},
   "outputs": [],
   "source": [
    "# Empty cell for demonstration"
   ]
  },
  {
   "cell_type": "markdown",
   "metadata": {},
   "source": [
    "<details>\n",
    "<summary>Solution</summary>\n",
    "\n",
    "```python\n",
    "import requests\n",
    "\n",
    "# Get user information from GitHub API\n",
    "response = requests.get(\"https://api.github.com/users/octocat\")\n",
    "\n",
    "# Parse JSON data\n",
    "user_data = response.json()\n",
    "\n",
    "# Access specific fields\n",
    "print(f\"Username: {user_data['login']}\")\n",
    "print(f\"Name: {user_data['name']}\")\n",
    "print(f\"Bio: {user_data['bio']}\")\n",
    "print(f\"Public Repos: {user_data['public_repos']}\")\n",
    "print(f\"Followers: {user_data['followers']}\")\n",
    "print(f\"Profile URL: {user_data['html_url']}\")\n",
    "\n",
    "# Output shows octocat's GitHub profile information\n",
    "```\n",
    "\n",
    "**Why this works:**\n",
    "Once JSON is converted to a dictionary, you access values using keys just like any Python dict: `data[\"key\"]`. API documentation tells you what keys are available. GitHub's API is well-documented and free for basic use - perfect for learning.\n",
    "\n",
    "</details>"
   ]
  },
  {
   "cell_type": "markdown",
   "metadata": {},
   "source": [
    "---\n",
    "\n",
    "## Learner Activity 3\n",
    "**Practice**: Making GET requests and handling responses\n",
    "\n",
    "Practice making API calls and working with the returned data."
   ]
  },
  {
   "cell_type": "markdown",
   "metadata": {},
   "source": [
    "### Exercise 1: Make Request and Check Status\n",
    "\n",
    "**Task**: Make a GET request to `https://api.github.com/users/octocat` and print the status code\n",
    "\n",
    "**Expected Output**: Status code (should be 200 if successful)"
   ]
  },
  {
   "cell_type": "code",
   "execution_count": null,
   "metadata": {},
   "outputs": [],
   "source": [
    "# Your code here"
   ]
  },
  {
   "cell_type": "markdown",
   "metadata": {},
   "source": [
    "<details>\n",
    "<summary>Solution</summary>\n",
    "\n",
    "```python\n",
    "import requests\n",
    "\n",
    "# Make GET request\n",
    "response = requests.get(\"https://api.github.com/users/octocat\")\n",
    "\n",
    "# Print status code\n",
    "print(f\"Status Code: {response.status_code}\")\n",
    "\n",
    "# Output: Status Code: 200\n",
    "```\n",
    "\n",
    "**Why this works:**\n",
    "The URL points to GitHub's user API endpoint for the user \"octocat\". The `status_code` attribute contains the HTTP status code returned by the server. 200 indicates a successful request.\n",
    "\n",
    "</details>"
   ]
  },
  {
   "cell_type": "markdown",
   "metadata": {},
   "source": [
    "### Exercise 2: Parse JSON Response\n",
    "\n",
    "**Task**: Get the JSON data from the response and store it in a variable called `user_data`\n",
    "\n",
    "**Expected Output**: Dictionary containing user information"
   ]
  },
  {
   "cell_type": "code",
   "execution_count": null,
   "metadata": {},
   "outputs": [],
   "source": [
    "# Your code here"
   ]
  },
  {
   "cell_type": "markdown",
   "metadata": {},
   "source": [
    "<details>\n",
    "<summary>Solution</summary>\n",
    "\n",
    "```python\n",
    "import requests\n",
    "\n",
    "# Make request\n",
    "response = requests.get(\"https://api.github.com/users/octocat\")\n",
    "\n",
    "# Parse JSON to dictionary\n",
    "user_data = response.json()\n",
    "\n",
    "# Verify it's a dictionary\n",
    "print(f\"Type: {type(user_data)}\")\n",
    "print(f\"Keys available: {len(user_data)}\")\n",
    "\n",
    "# Output: Type: <class 'dict'>\n",
    "```\n",
    "\n",
    "**Why this works:**\n",
    "The `.json()` method parses the JSON response body into Python data structures. In this case, it returns a dictionary containing all the user's profile information.\n",
    "\n",
    "</details>"
   ]
  },
  {
   "cell_type": "markdown",
   "metadata": {},
   "source": [
    "### Exercise 3: Extract Specific Data\n",
    "\n",
    "**Task**: Access and print the \"login\" field from the user_data\n",
    "\n",
    "**Expected Output**: The username \"octocat\""
   ]
  },
  {
   "cell_type": "code",
   "execution_count": null,
   "metadata": {},
   "outputs": [],
   "source": [
    "# Your code here"
   ]
  },
  {
   "cell_type": "markdown",
   "metadata": {},
   "source": [
    "<details>\n",
    "<summary>Solution</summary>\n",
    "\n",
    "```python\n",
    "import requests\n",
    "\n",
    "# Make request and get data\n",
    "response = requests.get(\"https://api.github.com/users/octocat\")\n",
    "user_data = response.json()\n",
    "\n",
    "# Access the login field\n",
    "username = user_data[\"login\"]\n",
    "print(f\"Username: {username}\")\n",
    "\n",
    "# Output: Username: octocat\n",
    "```\n",
    "\n",
    "**Why this works:**\n",
    "Dictionary access using `[\"key\"]` retrieves the value for that key. The GitHub API returns a \"login\" field containing the username. Check API documentation to know what fields are available.\n",
    "\n",
    "</details>"
   ]
  },
  {
   "cell_type": "markdown",
   "metadata": {},
   "source": [
    "### Exercise 4: Try a Different API\n",
    "\n",
    "**Task**: Make a request to `https://jsonplaceholder.typicode.com/posts/1` and print the \"title\" field\n",
    "\n",
    "**Expected Output**: The title of post #1"
   ]
  },
  {
   "cell_type": "code",
   "execution_count": null,
   "metadata": {},
   "outputs": [],
   "source": [
    "# Your code here"
   ]
  },
  {
   "cell_type": "markdown",
   "metadata": {},
   "source": [
    "<details>\n",
    "<summary>Solution</summary>\n",
    "\n",
    "```python\n",
    "import requests\n",
    "\n",
    "# Make request to JSONPlaceholder API (fake REST API for testing)\n",
    "response = requests.get(\"https://jsonplaceholder.typicode.com/posts/1\")\n",
    "\n",
    "# Get JSON data\n",
    "post_data = response.json()\n",
    "\n",
    "# Print the title\n",
    "print(f\"Post Title: {post_data['title']}\")\n",
    "\n",
    "# Also show other available fields\n",
    "print(f\"\\nAvailable fields: {list(post_data.keys())}\")\n",
    "\n",
    "# Output shows the post title and available fields\n",
    "```\n",
    "\n",
    "**Why this works:**\n",
    "JSONPlaceholder is a free fake API for testing and prototyping. It returns sample data in standard REST API format. This demonstrates that the same request pattern works across different APIs.\n",
    "\n",
    "</details>"
   ]
  },
  {
   "cell_type": "markdown",
   "metadata": {},
   "source": [
    "---\n",
    "\n",
    "## Instructor Activity 4\n",
    "**Concept**: Storing sensitive information securely using environment variables\n",
    "\n",
    "Hardcoding API keys, passwords, or tokens directly in code is a security risk. If you share your code or push it to GitHub, those secrets are exposed. Environment variables provide a secure way to store sensitive data outside your code.\n",
    "\n",
    "**Key Points**:\n",
    "- Environment variables store configuration outside your code\n",
    "- Never hardcode API keys, passwords, or tokens in source files\n",
    "- `os.environ` is a dictionary-like object containing environment variables\n",
    "- Use `.get(key, default)` to safely access variables with fallback values\n",
    "- `getpass()` hides password input (shows *** instead of characters)\n",
    "- In production: use .env files or cloud secret managers (AWS Secrets Manager, etc.)\n",
    "- In Colab: use notebook secrets feature or getpass() for temporary values"
   ]
  },
  {
   "cell_type": "markdown",
   "metadata": {},
   "source": [
    "### Example 1: Understanding Environment Variables\n",
    "\n",
    "**Task**: View some environment variables in your system\n",
    "\n",
    "**Expected Output**: List of environment variables"
   ]
  },
  {
   "cell_type": "code",
   "execution_count": null,
   "metadata": {},
   "outputs": [],
   "source": [
    "# Empty cell for demonstration"
   ]
  },
  {
   "cell_type": "markdown",
   "metadata": {},
   "source": [
    "<details>\n",
    "<summary>Solution</summary>\n",
    "\n",
    "```python\n",
    "import os\n",
    "\n",
    "# os.environ is a dictionary-like object\n",
    "print(f\"Type: {type(os.environ)}\")\n",
    "print(f\"Number of environment variables: {len(os.environ)}\")\n",
    "\n",
    "# Show a few common environment variables (may vary by system)\n",
    "print(\"\\nSome common environment variables:\")\n",
    "common_vars = ['PATH', 'HOME', 'USER', 'LANG']\n",
    "for var in common_vars:\n",
    "    value = os.environ.get(var, 'Not set')\n",
    "    if value != 'Not set':\n",
    "        # Truncate long values for readability\n",
    "        display_value = value[:50] + '...' if len(value) > 50 else value\n",
    "        print(f\"  {var}: {display_value}\")\n",
    "\n",
    "# Environment variables are set by the operating system\n",
    "# They provide configuration to programs\n",
    "```\n",
    "\n",
    "**Why this works:**\n",
    "Environment variables are key-value pairs set by the operating system or shell. They provide configuration information to running programs. Common uses: system paths, user information, language settings, and application secrets.\n",
    "\n",
    "</details>"
   ]
  },
  {
   "cell_type": "markdown",
   "metadata": {},
   "source": [
    "### Example 2: Setting Environment Variables\n",
    "\n",
    "**Task**: Set a custom environment variable for API configuration\n",
    "\n",
    "**Expected Output**: Successfully set and retrieved environment variable"
   ]
  },
  {
   "cell_type": "code",
   "execution_count": null,
   "metadata": {},
   "outputs": [],
   "source": [
    "# Empty cell for demonstration"
   ]
  },
  {
   "cell_type": "markdown",
   "metadata": {},
   "source": [
    "<details>\n",
    "<summary>Solution</summary>\n",
    "\n",
    "```python\n",
    "import os\n",
    "\n",
    "# Set an environment variable (simulating API key storage)\n",
    "# In real apps, this would be set outside the code\n",
    "os.environ[\"API_KEY\"] = \"demo_key_12345\"\n",
    "os.environ[\"API_URL\"] = \"https://api.example.com\"\n",
    "\n",
    "# Retrieve the variables\n",
    "api_key = os.environ[\"API_KEY\"]\n",
    "api_url = os.environ[\"API_URL\"]\n",
    "\n",
    "print(f\"API Key: {api_key}\")\n",
    "print(f\"API URL: {api_url}\")\n",
    "\n",
    "# This is for demonstration only!\n",
    "# In real code, you would NOT set secrets in code like this\n",
    "# They would be set externally (shell, .env file, cloud config)\n",
    "```\n",
    "\n",
    "**Why this works:**\n",
    "`os.environ` acts like a dictionary. Setting `os.environ[\"KEY\"] = \"value\"` creates or updates an environment variable for the current process. In production, you set these externally (not in code) to keep secrets secure.\n",
    "\n",
    "</details>"
   ]
  },
  {
   "cell_type": "markdown",
   "metadata": {},
   "source": [
    "### Example 3: Safely Reading Environment Variables\n",
    "\n",
    "**Task**: Use `.get()` method to safely access environment variables with defaults\n",
    "\n",
    "**Expected Output**: Retrieved values or defaults when variables don't exist"
   ]
  },
  {
   "cell_type": "code",
   "execution_count": null,
   "metadata": {},
   "outputs": [],
   "source": [
    "# Empty cell for demonstration"
   ]
  },
  {
   "cell_type": "markdown",
   "metadata": {},
   "source": [
    "<details>\n",
    "<summary>Solution</summary>\n",
    "\n",
    "```python\n",
    "import os\n",
    "\n",
    "# Safe way: use .get() with default value\n",
    "# This won't crash if the variable doesn't exist\n",
    "api_key = os.environ.get(\"API_KEY\", \"default_key\")\n",
    "api_timeout = os.environ.get(\"API_TIMEOUT\", \"30\")  # Default to 30 seconds\n",
    "debug_mode = os.environ.get(\"DEBUG\", \"false\")\n",
    "\n",
    "print(f\"API Key: {api_key}\")\n",
    "print(f\"API Timeout: {api_timeout}\")\n",
    "print(f\"Debug Mode: {debug_mode}\")\n",
    "\n",
    "# Compare with unsafe way (commented out to avoid crash):\n",
    "# api_timeout = os.environ[\"API_TIMEOUT\"]  # Would raise KeyError if not set\n",
    "\n",
    "# .get() returns None or your default if key doesn't exist\n",
    "# Direct access with [] raises KeyError if key doesn't exist\n",
    "```\n",
    "\n",
    "**Why this works:**\n",
    "`.get(key, default)` safely retrieves environment variables. If the key doesn't exist, it returns the default value instead of crashing. This makes your code more robust - it works even if configuration is missing. Always use `.get()` for optional configuration.\n",
    "\n",
    "</details>"
   ]
  },
  {
   "cell_type": "markdown",
   "metadata": {},
   "source": [
    "### Example 4: Using getpass() for Password Input\n",
    "\n",
    "**Task**: Use `getpass()` to securely input a password (hidden from view)\n",
    "\n",
    "**Expected Output**: Prompt for password that hides what you type"
   ]
  },
  {
   "cell_type": "code",
   "execution_count": null,
   "metadata": {},
   "outputs": [],
   "source": [
    "# Empty cell for demonstration"
   ]
  },
  {
   "cell_type": "markdown",
   "metadata": {},
   "source": [
    "<details>\n",
    "<summary>Solution</summary>\n",
    "\n",
    "```python\n",
    "from getpass import getpass\n",
    "import os\n",
    "\n",
    "# Get password/API key from user without displaying it\n",
    "print(\"Enter your API key (input will be hidden):\")\n",
    "api_key = getpass(\"API Key: \")\n",
    "\n",
    "# Store in environment variable for use in this session\n",
    "os.environ[\"SECURE_API_KEY\"] = api_key\n",
    "\n",
    "# Show that we got the key (but only show first/last chars for security)\n",
    "if len(api_key) > 8:\n",
    "    masked = f\"{api_key[:4]}...{api_key[-4:]}\"\n",
    "else:\n",
    "    masked = \"*\" * len(api_key)\n",
    "\n",
    "print(f\"API Key stored securely: {masked}\")\n",
    "print(f\"Length: {len(api_key)} characters\")\n",
    "\n",
    "# In Colab/Jupyter, getpass shows a text box instead of command line input\n",
    "# Your input is never visible on screen - perfect for passwords/keys\n",
    "```\n",
    "\n",
    "**Why this works:**\n",
    "`getpass()` prompts for input but hides what the user types (shows nothing or ***). This prevents shoulder surfing and keeps passwords out of notebook output. Perfect for one-time entry of API keys in Colab notebooks. The input is returned as a string you can use or store in an environment variable.\n",
    "\n",
    "</details>"
   ]
  },
  {
   "cell_type": "markdown",
   "metadata": {},
   "source": [
    "---\n",
    "\n",
    "## Learner Activity 4\n",
    "**Practice**: Working with environment variables and secure input\n",
    "\n",
    "Practice storing and retrieving configuration data securely."
   ]
  },
  {
   "cell_type": "markdown",
   "metadata": {},
   "source": [
    "### Exercise 1: Set and Print Environment Variable\n",
    "\n",
    "**Task**: Set an environment variable `USER_NAME` with your name and print it\n",
    "\n",
    "**Expected Output**: Your name printed from the environment variable"
   ]
  },
  {
   "cell_type": "code",
   "execution_count": null,
   "metadata": {},
   "outputs": [],
   "source": [
    "# Your code here"
   ]
  },
  {
   "cell_type": "markdown",
   "metadata": {},
   "source": [
    "<details>\n",
    "<summary>Solution</summary>\n",
    "\n",
    "```python\n",
    "import os\n",
    "\n",
    "# Set environment variable\n",
    "os.environ[\"USER_NAME\"] = \"Alice\"  # Replace with your name\n",
    "\n",
    "# Print it\n",
    "print(f\"User Name: {os.environ['USER_NAME']}\")\n",
    "\n",
    "# Output: User Name: Alice\n",
    "```\n",
    "\n",
    "**Why this works:**\n",
    "Setting `os.environ[\"KEY\"]` creates an environment variable accessible throughout your program. This is useful for configuration that different parts of your code need to access.\n",
    "\n",
    "</details>"
   ]
  },
  {
   "cell_type": "markdown",
   "metadata": {},
   "source": [
    "### Exercise 2: Use .get() with Default\n",
    "\n",
    "**Task**: Use `os.environ.get()` to retrieve `USER_NAME` with a default value of \"Guest\"\n",
    "\n",
    "**Expected Output**: Your name if set, or \"Guest\" if not set"
   ]
  },
  {
   "cell_type": "code",
   "execution_count": null,
   "metadata": {},
   "outputs": [],
   "source": [
    "# Your code here"
   ]
  },
  {
   "cell_type": "markdown",
   "metadata": {},
   "source": [
    "<details>\n",
    "<summary>Solution</summary>\n",
    "\n",
    "```python\n",
    "import os\n",
    "\n",
    "# Safely get environment variable with default\n",
    "user_name = os.environ.get(\"USER_NAME\", \"Guest\")\n",
    "print(f\"Welcome, {user_name}!\")\n",
    "\n",
    "# Try with a variable that doesn't exist\n",
    "email = os.environ.get(\"USER_EMAIL\", \"no-email@example.com\")\n",
    "print(f\"Email: {email}\")\n",
    "\n",
    "# Output:\n",
    "# Welcome, Alice! (or Guest if not set)\n",
    "# Email: no-email@example.com\n",
    "```\n",
    "\n",
    "**Why this works:**\n",
    "`.get(key, default)` provides a fallback value when a variable isn't set. This prevents crashes and makes your code more resilient to missing configuration.\n",
    "\n",
    "</details>"
   ]
  },
  {
   "cell_type": "markdown",
   "metadata": {},
   "source": [
    "### Exercise 3: Use getpass() for Password\n",
    "\n",
    "**Task**: Use `getpass()` to ask user for a password (it will be hidden)\n",
    "\n",
    "**Expected Output**: Password prompt with hidden input"
   ]
  },
  {
   "cell_type": "code",
   "execution_count": null,
   "metadata": {},
   "outputs": [],
   "source": [
    "# Your code here"
   ]
  },
  {
   "cell_type": "markdown",
   "metadata": {},
   "source": [
    "<details>\n",
    "<summary>Solution</summary>\n",
    "\n",
    "```python\n",
    "from getpass import getpass\n",
    "\n",
    "# Get hidden password input\n",
    "password = getpass(\"Enter your password: \")\n",
    "\n",
    "# Show that we received it (but don't print the actual password!)\n",
    "print(f\"Password received (length: {len(password)} characters)\")\n",
    "print(\"Password is: \" + \"*\" * len(password))  # Show asterisks only\n",
    "```\n",
    "\n",
    "**Why this works:**\n",
    "`getpass()` prompts for input without displaying it on screen. This protects sensitive information from being visible in notebook output or over someone's shoulder.\n",
    "\n",
    "</details>"
   ]
  },
  {
   "cell_type": "markdown",
   "metadata": {},
   "source": [
    "### Exercise 4: Create Secure API Key Storage\n",
    "\n",
    "**Task**: Use getpass to ask for an API key, store it in environment variable `MY_API_KEY`, then use it in a print statement (mask most of it for security)\n",
    "\n",
    "**Expected Output**: Securely stored API key with masked display"
   ]
  },
  {
   "cell_type": "code",
   "execution_count": null,
   "metadata": {},
   "outputs": [],
   "source": [
    "# Your code here"
   ]
  },
  {
   "cell_type": "markdown",
   "metadata": {},
   "source": [
    "<details>\n",
    "<summary>Solution</summary>\n",
    "\n",
    "```python\n",
    "from getpass import getpass\n",
    "import os\n",
    "\n",
    "# Get API key securely\n",
    "print(\"Enter your API key:\")\n",
    "api_key = getpass(\"API Key: \")\n",
    "\n",
    "# Store in environment variable\n",
    "os.environ[\"MY_API_KEY\"] = api_key\n",
    "\n",
    "# Retrieve and display masked version\n",
    "stored_key = os.environ.get(\"MY_API_KEY\")\n",
    "if stored_key and len(stored_key) > 8:\n",
    "    masked_key = f\"{stored_key[:4]}{'*' * (len(stored_key) - 8)}{stored_key[-4:]}\"\n",
    "else:\n",
    "    masked_key = \"*\" * len(stored_key)\n",
    "\n",
    "print(f\"API Key stored: {masked_key}\")\n",
    "print(f\"Length: {len(stored_key)} characters\")\n",
    "print(\"\\nAPI key is now available for use in API calls!\")\n",
    "\n",
    "# In real applications, you would use this stored key in API requests\n",
    "# Example: headers = {\"Authorization\": f\"Bearer {os.environ.get('MY_API_KEY')}\"}\n",
    "```\n",
    "\n",
    "**Why this works:**\n",
    "This combines `getpass()` for secure input with `os.environ` for storage. The key is never displayed in full, only a masked version. This is the pattern you'd use in Colab notebooks to securely handle API keys. The key remains available for the session but isn't hardcoded in your notebook.\n",
    "\n",
    "</details>"
   ]
  },
  {
   "cell_type": "markdown",
   "metadata": {},
   "source": [
    "---\n",
    "\n",
    "## Optional Extra Practice\n",
    "**Challenge yourself with these problems that integrate all the concepts**\n",
    "\n",
    "These exercises combine packages, APIs, and security practices into realistic scenarios."
   ]
  },
  {
   "cell_type": "markdown",
   "metadata": {},
   "source": [
    "### Challenge 1: Weather Information Retriever\n",
    "\n",
    "**Scenario**: Build a simple weather information tool using a public API\n",
    "\n",
    "**Task**: \n",
    "1. Install and import `requests`\n",
    "2. Make a GET request to `https://wttr.in/London?format=j1` (free weather API)\n",
    "3. Parse the JSON response\n",
    "4. Extract and display the current temperature and weather description\n",
    "\n",
    "**Expected Output**: Current weather information for London"
   ]
  },
  {
   "cell_type": "code",
   "execution_count": null,
   "metadata": {},
   "outputs": [],
   "source": [
    "# Your code here"
   ]
  },
  {
   "cell_type": "markdown",
   "metadata": {},
   "source": [
    "<details>\n",
    "<summary>Solution</summary>\n",
    "\n",
    "```python\n",
    "import requests\n",
    "\n",
    "# Make request to wttr.in weather API\n",
    "# format=j1 returns JSON instead of ASCII art\n",
    "city = \"London\"\n",
    "url = f\"https://wttr.in/{city}?format=j1\"\n",
    "response = requests.get(url)\n",
    "\n",
    "# Check if request was successful\n",
    "if response.status_code == 200:\n",
    "    # Parse JSON data\n",
    "    weather_data = response.json()\n",
    "    \n",
    "    # Extract current conditions\n",
    "    current = weather_data['current_condition'][0]\n",
    "    temp_c = current['temp_C']\n",
    "    temp_f = current['temp_F']\n",
    "    description = current['weatherDesc'][0]['value']\n",
    "    humidity = current['humidity']\n",
    "    \n",
    "    # Display weather information\n",
    "    print(f\"Weather in {city}:\")\n",
    "    print(f\"Temperature: {temp_c}°C ({temp_f}°F)\")\n",
    "    print(f\"Conditions: {description}\")\n",
    "    print(f\"Humidity: {humidity}%\")\n",
    "else:\n",
    "    print(f\"Failed to get weather data. Status: {response.status_code}\")\n",
    "\n",
    "# Try with different cities by changing the city variable\n",
    "```\n",
    "\n",
    "**Why this works:**\n",
    "wttr.in is a free weather API that requires no authentication. The JSON format returns structured weather data we can parse. We check the status code, parse JSON, navigate the nested dictionary structure, and extract relevant fields. This demonstrates a complete API integration workflow: request → validate → parse → extract → display.\n",
    "\n",
    "</details>"
   ]
  },
  {
   "cell_type": "markdown",
   "metadata": {},
   "source": [
    "### Challenge 2: Secure API Client\n",
    "\n",
    "**Scenario**: Create a secure API client that uses environment variables for credentials\n",
    "\n",
    "**Task**:\n",
    "1. Use `getpass()` to get an API key from the user\n",
    "2. Store it in `os.environ` as \"GITHUB_TOKEN\"\n",
    "3. Make an authenticated request to GitHub API using the token in headers\n",
    "4. Format: `headers = {\"Authorization\": f\"Bearer {token}\"}`\n",
    "\n",
    "**Note**: For this exercise, you can use any string as the token - authentication will fail but the structure is what matters\n",
    "\n",
    "**Expected Output**: Request made with proper authorization header"
   ]
  },
  {
   "cell_type": "code",
   "execution_count": null,
   "metadata": {},
   "outputs": [],
   "source": [
    "# Your code here"
   ]
  },
  {
   "cell_type": "markdown",
   "metadata": {},
   "source": [
    "<details>\n",
    "<summary>Solution</summary>\n",
    "\n",
    "```python\n",
    "import requests\n",
    "from getpass import getpass\n",
    "import os\n",
    "\n",
    "# Get API token securely\n",
    "print(\"Enter your GitHub token (or any test string):\")\n",
    "token = getpass(\"Token: \")\n",
    "\n",
    "# Store in environment variable\n",
    "os.environ[\"GITHUB_TOKEN\"] = token\n",
    "\n",
    "# Retrieve token from environment for API call\n",
    "api_token = os.environ.get(\"GITHUB_TOKEN\")\n",
    "\n",
    "# Make authenticated request\n",
    "headers = {\n",
    "    \"Authorization\": f\"Bearer {api_token}\",\n",
    "    \"Accept\": \"application/vnd.github+json\"\n",
    "}\n",
    "\n",
    "response = requests.get(\"https://api.github.com/user\", headers=headers)\n",
    "\n",
    "print(f\"\\nRequest Status: {response.status_code}\")\n",
    "\n",
    "if response.status_code == 200:\n",
    "    user_data = response.json()\n",
    "    print(f\"Authenticated as: {user_data['login']}\")\n",
    "elif response.status_code == 401:\n",
    "    print(\"Authentication failed - token invalid or not provided\")\n",
    "    print(\"This is expected if using a test string!\")\n",
    "else:\n",
    "    print(f\"Request failed: {response.status_code}\")\n",
    "\n",
    "# Show the security pattern (without exposing the token)\n",
    "print(\"\\nSecurity Pattern Demonstrated:\")\n",
    "print(\"1. Token entered via getpass (hidden input)\")\n",
    "print(\"2. Token stored in environment variable\")\n",
    "print(\"3. Token retrieved from environment for API call\")\n",
    "print(\"4. Token sent in Authorization header\")\n",
    "print(\"5. Token never visible in code or output\")\n",
    "```\n",
    "\n",
    "**Why this works:**\n",
    "This demonstrates proper API key handling:\n",
    "1. **Secure Input**: `getpass()` hides the token during entry\n",
    "2. **Environment Storage**: Token stored in `os.environ`, not in code\n",
    "3. **Header Authentication**: Token passed in Authorization header (Bearer token pattern)\n",
    "4. **No Exposure**: Token never appears in code, output, or version control\n",
    "\n",
    "In production, you'd set `GITHUB_TOKEN` externally (shell, .env file, cloud secrets) rather than via getpass. This pattern works for any API requiring token authentication (OpenAI, Anthropic, AWS, etc.).\n",
    "\n",
    "</details>"
   ]
  },
  {
   "cell_type": "markdown",
   "metadata": {},
   "source": [
    "### Challenge 3: GitHub User Profile Explorer\n",
    "\n",
    "**Scenario**: Build an interactive tool to explore GitHub user profiles\n",
    "\n",
    "**Task**:\n",
    "1. Import requests\n",
    "2. Ask user for a GitHub username using `input()`\n",
    "3. Make API call to `https://api.github.com/users/{username}`\n",
    "4. Display: name, bio, public repos count, followers, following\n",
    "5. Handle the case where the user doesn't exist (404 error)\n",
    "\n",
    "**Expected Output**: User profile information or error message"
   ]
  },
  {
   "cell_type": "code",
   "execution_count": null,
   "metadata": {},
   "outputs": [],
   "source": [
    "# Your code here"
   ]
  },
  {
   "cell_type": "markdown",
   "metadata": {},
   "source": [
    "<details>\n",
    "<summary>Solution</summary>\n",
    "\n",
    "```python\n",
    "import requests\n",
    "\n",
    "# Get username from user\n",
    "username = input(\"Enter a GitHub username to explore: \")\n",
    "\n",
    "# Make API request\n",
    "url = f\"https://api.github.com/users/{username}\"\n",
    "response = requests.get(url)\n",
    "\n",
    "# Handle different response codes\n",
    "if response.status_code == 200:\n",
    "    # Parse user data\n",
    "    user = response.json()\n",
    "    \n",
    "    # Display profile information\n",
    "    print(f\"\\n{'='*50}\")\n",
    "    print(f\"GitHub Profile: {username}\")\n",
    "    print(f\"{'='*50}\")\n",
    "    print(f\"Name: {user.get('name', 'Not provided')}\")\n",
    "    print(f\"Bio: {user.get('bio', 'No bio')}\")\n",
    "    print(f\"Location: {user.get('location', 'Not specified')}\")\n",
    "    print(f\"\\nStats:\")\n",
    "    print(f\"  Public Repos: {user['public_repos']}\")\n",
    "    print(f\"  Followers: {user['followers']}\")\n",
    "    print(f\"  Following: {user['following']}\")\n",
    "    print(f\"\\nProfile URL: {user['html_url']}\")\n",
    "    print(f\"Created: {user['created_at'][:10]}\")\n",
    "    \n",
    "elif response.status_code == 404:\n",
    "    print(f\"\\nUser '{username}' not found on GitHub.\")\n",
    "    print(\"Please check the spelling and try again.\")\n",
    "    \n",
    "else:\n",
    "    print(f\"\\nError: Unable to fetch user data\")\n",
    "    print(f\"Status Code: {response.status_code}\")\n",
    "\n",
    "# Try with: octocat, torvalds, gvanrossum\n",
    "```\n",
    "\n",
    "**Why this works:**\n",
    "This demonstrates a complete interactive API application:\n",
    "1. **User Input**: `input()` gets the username dynamically\n",
    "2. **Dynamic URL**: f-string creates URL with user-provided username\n",
    "3. **Error Handling**: Checks status codes and handles different scenarios\n",
    "4. **Safe Access**: Uses `.get()` with defaults for optional fields\n",
    "5. **User-Friendly Output**: Formats data nicely for readability\n",
    "\n",
    "This pattern applies to any API: get input → construct URL → make request → check status → parse response → format output. You could extend this to fetch user repositories, check if they're hireable, etc.\n",
    "\n",
    "</details>"
   ]
  },
  {
   "cell_type": "markdown",
   "metadata": {},
   "source": [
    "### Challenge 4: Multi-API Data Integration\n",
    "\n",
    "**Scenario**: Combine data from two different APIs to create a richer dataset\n",
    "\n",
    "**Task**:\n",
    "1. Call GitHub API to get user data: `https://api.github.com/users/octocat`\n",
    "2. Call JSONPlaceholder API to get post data: `https://jsonplaceholder.typicode.com/posts/1`\n",
    "3. Store API endpoints in environment variables\n",
    "4. Combine data into a single dictionary with keys: `github_user`, `post_title`, `combined_date`\n",
    "5. Print the combined data\n",
    "\n",
    "**Expected Output**: Dictionary with data from both APIs"
   ]
  },
  {
   "cell_type": "code",
   "execution_count": null,
   "metadata": {},
   "outputs": [],
   "source": [
    "# Your code here"
   ]
  },
  {
   "cell_type": "markdown",
   "metadata": {},
   "source": [
    "<details>\n",
    "<summary>Solution</summary>\n",
    "\n",
    "```python\n",
    "import requests\n",
    "import os\n",
    "from datetime import datetime\n",
    "\n",
    "# Store API endpoints in environment variables (configuration)\n",
    "os.environ[\"GITHUB_API\"] = \"https://api.github.com/users/octocat\"\n",
    "os.environ[\"POSTS_API\"] = \"https://jsonplaceholder.typicode.com/posts/1\"\n",
    "\n",
    "# Get endpoints from environment\n",
    "github_url = os.environ.get(\"GITHUB_API\")\n",
    "posts_url = os.environ.get(\"POSTS_API\")\n",
    "\n",
    "# Make both API calls\n",
    "print(\"Fetching data from GitHub...\")\n",
    "github_response = requests.get(github_url)\n",
    "\n",
    "print(\"Fetching data from JSONPlaceholder...\")\n",
    "posts_response = requests.get(posts_url)\n",
    "\n",
    "# Check both requests succeeded\n",
    "if github_response.status_code == 200 and posts_response.status_code == 200:\n",
    "    # Parse both responses\n",
    "    github_data = github_response.json()\n",
    "    posts_data = posts_response.json()\n",
    "    \n",
    "    # Combine data into single dictionary\n",
    "    combined_data = {\n",
    "        \"github_user\": github_data['login'],\n",
    "        \"github_name\": github_data.get('name', 'N/A'),\n",
    "        \"github_repos\": github_data['public_repos'],\n",
    "        \"post_title\": posts_data['title'],\n",
    "        \"post_body\": posts_data['body'][:50] + \"...\",  # Truncate for display\n",
    "        \"combined_date\": datetime.now().strftime(\"%Y-%m-%d %H:%M:%S\"),\n",
    "        \"data_sources\": [\"GitHub API\", \"JSONPlaceholder API\"]\n",
    "    }\n",
    "    \n",
    "    # Display combined data\n",
    "    print(\"\\n\" + \"=\"*60)\n",
    "    print(\"COMBINED DATA FROM MULTIPLE APIs\")\n",
    "    print(\"=\"*60)\n",
    "    \n",
    "    for key, value in combined_data.items():\n",
    "        print(f\"{key}: {value}\")\n",
    "    \n",
    "    print(\"\\nData successfully integrated from multiple sources!\")\n",
    "    \n",
    "else:\n",
    "    print(\"Error: One or both API calls failed\")\n",
    "    print(f\"GitHub status: {github_response.status_code}\")\n",
    "    print(f\"Posts status: {posts_response.status_code}\")\n",
    "```\n",
    "\n",
    "**Why this works:**\n",
    "This demonstrates several advanced patterns:\n",
    "1. **Configuration Management**: API URLs stored in environment variables (easy to change)\n",
    "2. **Multiple API Calls**: Fetching from different sources in one program\n",
    "3. **Data Integration**: Combining responses into a unified data structure\n",
    "4. **Error Handling**: Checking both requests before processing\n",
    "5. **Data Enrichment**: Adding metadata (timestamp, sources) to combined data\n",
    "\n",
    "This is common in real applications - RAG systems combine vector database results with LLM APIs, analytics dashboards pull from multiple data sources, etc. The key is: fetch → validate → parse → combine → use.\n",
    "\n",
    "</details>"
   ]
  },
  {
   "cell_type": "markdown",
   "metadata": {},
   "source": [
    "### Challenge 5: Import Styles Comparison\n",
    "\n",
    "**Scenario**: Compare different import styles for the same functionality\n",
    "\n",
    "**Task**:\n",
    "Write the same API call three different ways:\n",
    "1. Using `import requests` (full package name)\n",
    "2. Using `import requests as req` (alias)\n",
    "3. Using `from requests import get` (specific function)\n",
    "\n",
    "All three should make a GET request to `https://api.github.com` and print the status code.\n",
    "\n",
    "**Expected Output**: Three different approaches producing the same result"
   ]
  },
  {
   "cell_type": "code",
   "execution_count": null,
   "metadata": {},
   "outputs": [],
   "source": [
    "# Your code here"
   ]
  },
  {
   "cell_type": "markdown",
   "metadata": {},
   "source": [
    "<details>\n",
    "<summary>Solution</summary>\n",
    "\n",
    "```python\n",
    "# Method 1: Full package import\n",
    "print(\"Method 1: Full Package Import\")\n",
    "print(\"-\" * 40)\n",
    "import requests\n",
    "\n",
    "response1 = requests.get(\"https://api.github.com\")\n",
    "print(f\"Code: response1 = requests.get(url)\")\n",
    "print(f\"Status: {response1.status_code}\")\n",
    "print(f\"Pros: Clear where functions come from\")\n",
    "print(f\"Cons: More typing\\n\")\n",
    "\n",
    "# Method 2: Import with alias\n",
    "print(\"Method 2: Import with Alias\")\n",
    "print(\"-\" * 40)\n",
    "import requests as req\n",
    "\n",
    "response2 = req.get(\"https://api.github.com\")\n",
    "print(f\"Code: response2 = req.get(url)\")\n",
    "print(f\"Status: {response2.status_code}\")\n",
    "print(f\"Pros: Less typing, still clear\")\n",
    "print(f\"Cons: Need to remember alias\\n\")\n",
    "\n",
    "# Method 3: Import specific function\n",
    "print(\"Method 3: Import Specific Function\")\n",
    "print(\"-\" * 40)\n",
    "from requests import get\n",
    "\n",
    "response3 = get(\"https://api.github.com\")\n",
    "print(f\"Code: response3 = get(url)\")\n",
    "print(f\"Status: {response3.status_code}\")\n",
    "print(f\"Pros: Cleanest, least typing\")\n",
    "print(f\"Cons: Less clear where 'get' comes from\\n\")\n",
    "\n",
    "# Verify all methods produced same result\n",
    "print(\"=\" * 40)\n",
    "print(\"All three methods work identically!\")\n",
    "print(f\"Same status code: {response1.status_code == response2.status_code == response3.status_code}\")\n",
    "print(\"\\nChoose based on:\")\n",
    "print(\"- Team conventions\")\n",
    "print(\"- How often you use the function\")\n",
    "print(\"- Code readability preferences\")\n",
    "```\n",
    "\n",
    "**Why this works:**\n",
    "All three import styles access the same underlying function, just with different syntax:\n",
    "1. **Full Import** (`requests.get`): Most explicit - always clear where functions come from\n",
    "2. **Alias** (`req.get`): Balances clarity with brevity - common in data science (np, pd)\n",
    "3. **Specific Import** (`get`): Most concise - good when you use a function frequently\n",
    "\n",
    "No method is \"better\" - it's about context:\n",
    "- Use full import when clarity matters most\n",
    "- Use alias for long package names (like `matplotlib.pyplot as plt`)\n",
    "- Use specific import when you use a function heavily in a module\n",
    "\n",
    "Following community conventions is usually best: `import requests` is standard, `import numpy as np` is standard, etc.\n",
    "\n",
    "</details>"
   ]
  },
  {
   "cell_type": "markdown",
   "metadata": {},
   "source": [
    "---\n",
    "\n",
    "## Summary\n",
    "\n",
    "**What You Learned:**\n",
    "- Install packages with pip to extend Python's capabilities\n",
    "- Use different import styles to organize code effectively\n",
    "- Make HTTP API calls to retrieve data from external services\n",
    "- Parse JSON responses and extract useful information\n",
    "- Handle sensitive information securely using environment variables\n",
    "- Use getpass() to hide password/API key input\n",
    "\n",
    "**Real-World Applications:**\n",
    "- **Software Engineering**: Integrate third-party services, manage configuration, protect secrets\n",
    "- **AI/ML Development**: Call OpenAI, Anthropic, or Gemini APIs; install ML libraries\n",
    "- **RAG Systems**: Query vector databases, fetch documents, generate embeddings\n",
    "- **Agentic AI**: Enable agents to call external tools and services securely\n",
    "\n",
    "**Best Practices:**\n",
    "1. Always install packages before importing them\n",
    "2. Check API response status codes before processing data\n",
    "3. Never hardcode API keys or passwords in source code\n",
    "4. Use environment variables for configuration and secrets\n",
    "5. Use `.get()` with defaults when accessing environment variables\n",
    "6. In Colab, use getpass() for one-time secret entry\n",
    "7. Read API documentation to understand rate limits and authentication\n",
    "8. Handle errors gracefully (404s, timeouts, etc.)\n",
    "\n",
    "**Next Steps:**\n",
    "- Explore more complex APIs (POST requests, authentication, pagination)\n",
    "- Learn about .env files for local development\n",
    "- Study API rate limiting and error handling\n",
    "- Practice with real AI APIs (OpenAI, Anthropic, etc.)\n",
    "- Build complete applications that integrate multiple services\n",
    "\n",
    "Great work! You now have the skills to integrate external services into your Python programs safely and effectively. 🚀"
   ]
  }
 ],
 "metadata": {
  "kernelspec": {
   "display_name": "Python 3",
   "language": "python",
   "name": "python3"
  },
  "language_info": {
   "codemirror_mode": {
    "name": "ipython",
    "version": 3
   },
   "file_extension": ".py",
   "mimetype": "text/x-python",
   "name": "python",
   "nbconvert_exporter": "python",
   "pygments_lexer": "ipython3",
   "version": "3.8.0"
  }
 },
 "nbformat": 4,
 "nbformat_minor": 4
}
