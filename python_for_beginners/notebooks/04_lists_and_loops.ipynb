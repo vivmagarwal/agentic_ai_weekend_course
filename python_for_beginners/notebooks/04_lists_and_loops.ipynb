{
 "cells": [
  {
   "cell_type": "markdown",
   "metadata": {},
   "source": [
    "# Lists and For Loops in Python\n",
    "\n",
    "## Learning Objectives\n",
    "By the end of this section, you will be able to:\n",
    "- Create and manipulate lists to store collections of data\n",
    "- Access list elements using positive and negative indexing\n",
    "- Write for loops to iterate over lists and other iterables\n",
    "- Combine lists, indexing, and loops to process data efficiently\n",
    "- Apply these concepts to real-world AI/RAG/Agentic AI applications\n",
    "\n",
    "## Why This Matters: Real-World AI/RAG/Agentic Applications\n",
    "\n",
    "**In AI Systems:**\n",
    "- Store and process batches of training data\n",
    "- Manage collections of model predictions\n",
    "- Handle sequences of tokens from language models\n",
    "- Process multiple API responses in parallel\n",
    "\n",
    "**In RAG (Retrieval-Augmented Generation) Pipelines:**\n",
    "- Store retrieved document chunks from vector databases\n",
    "- Iterate through search results to find relevant context\n",
    "- Process and rank multiple document embeddings\n",
    "- Build context windows from multiple text sources\n",
    "\n",
    "**In Agentic AI:**\n",
    "- Store sequences of agent actions and decisions\n",
    "- Manage tool call results from multiple agents\n",
    "- Track conversation history and context\n",
    "- Process task queues and action plans\n",
    "\n",
    "## Prerequisites\n",
    "- Understanding of variables and basic data types (strings, integers, floats)\n",
    "- Familiarity with functions and string methods\n",
    "- Basic understanding of code indentation in Python"
   ]
  },
  {
   "cell_type": "markdown",
   "metadata": {},
   "source": [
    "## Instructor Activity 1: Creating and Working with Lists\n",
    "\n",
    "**Concept**: Lists are ordered collections that can store multiple values of any type. They're one of Python's most versatile data structures.\n",
    "\n",
    "**Key Points**:\n",
    "- Lists are created with square brackets `[]`\n",
    "- Items are separated by commas\n",
    "- Lists can contain any data type (strings, numbers, even other lists)\n",
    "- Lists maintain order - items stay in the sequence you add them\n",
    "- Lists are mutable - they can be changed after creation"
   ]
  },
  {
   "cell_type": "markdown",
   "metadata": {},
   "source": [
    "### Example 1: Creating a Simple List\n",
    "\n",
    "**Problem**: Create a list of three fruits\n",
    "\n",
    "**Expected Output**: `['apple', 'banana', 'orange']`"
   ]
  },
  {
   "cell_type": "code",
   "execution_count": null,
   "metadata": {},
   "outputs": [],
   "source": [
    "# Empty cell for live demonstration"
   ]
  },
  {
   "cell_type": "markdown",
   "metadata": {},
   "source": [
    "<details>\n",
    "<summary>Solution</summary>\n",
    "\n",
    "```python\n",
    "# Create a list of fruits\n",
    "fruits = [\"apple\", \"banana\", \"orange\"]\n",
    "print(fruits)\n",
    "# Output: ['apple', 'banana', 'orange']\n",
    "\n",
    "# Lists can also be printed with a descriptive message\n",
    "print(\"My fruit list:\", fruits)\n",
    "```\n",
    "\n",
    "**Why this works:**\n",
    "Square brackets `[]` create a list, and items are separated by commas. The list preserves the order of items exactly as you entered them.\n",
    "\n",
    "</details>"
   ]
  },
  {
   "cell_type": "markdown",
   "metadata": {},
   "source": [
    "### Example 2: Lists with Different Data Types\n",
    "\n",
    "**Problem**: Create a list containing a person's name (string), age (integer), and height in meters (float)\n",
    "\n",
    "**Expected Output**: `['Alice', 25, 1.65]`"
   ]
  },
  {
   "cell_type": "code",
   "execution_count": null,
   "metadata": {},
   "outputs": [],
   "source": [
    "# Empty cell for live demonstration"
   ]
  },
  {
   "cell_type": "markdown",
   "metadata": {},
   "source": [
    "<details>\n",
    "<summary>Solution</summary>\n",
    "\n",
    "```python\n",
    "# Create a list with mixed data types\n",
    "person_info = [\"Alice\", 25, 1.65]\n",
    "print(person_info)\n",
    "# Output: ['Alice', 25, 1.65]\n",
    "\n",
    "# You can also create more descriptive variable names\n",
    "user_profile = [\"Bob\", 30, 1.80, \"Engineer\"]\n",
    "print(\"User profile:\", user_profile)\n",
    "```\n",
    "\n",
    "**Why this works:**\n",
    "Python lists can contain different data types in the same list. This flexibility makes lists perfect for storing related information about an entity (like a user profile or API response).\n",
    "\n",
    "**Real-world application**: In AI systems, you might receive mixed-type data from APIs or databases - lists handle this naturally.\n",
    "\n",
    "</details>"
   ]
  },
  {
   "cell_type": "markdown",
   "metadata": {},
   "source": [
    "### Example 3: Empty Lists and Adding Items\n",
    "\n",
    "**Problem**: Start with an empty list, then add three items using `.append()`\n",
    "\n",
    "**Expected Output**: \n",
    "```\n",
    "Empty list: []\n",
    "After adding items: ['task1', 'task2', 'task3']\n",
    "```"
   ]
  },
  {
   "cell_type": "code",
   "execution_count": null,
   "metadata": {},
   "outputs": [],
   "source": [
    "# Empty cell for live demonstration"
   ]
  },
  {
   "cell_type": "markdown",
   "metadata": {},
   "source": [
    "<details>\n",
    "<summary>Solution</summary>\n",
    "\n",
    "```python\n",
    "# Start with an empty list\n",
    "my_tasks = []\n",
    "print(\"Empty list:\", my_tasks)\n",
    "\n",
    "# Add items one at a time using append()\n",
    "my_tasks.append(\"task1\")\n",
    "my_tasks.append(\"task2\")\n",
    "my_tasks.append(\"task3\")\n",
    "\n",
    "print(\"After adding items:\", my_tasks)\n",
    "# Output: ['task1', 'task2', 'task3']\n",
    "```\n",
    "\n",
    "**Why this works:**\n",
    "The `.append()` method adds items to the end of a list. This is useful when you're building a list dynamically - you start empty and add items as you get them.\n",
    "\n",
    "**Real-world application**: In RAG systems, you might start with an empty list and append retrieved document chunks as they come from the vector database.\n",
    "\n",
    "</details>"
   ]
  },
  {
   "cell_type": "markdown",
   "metadata": {},
   "source": [
    "### Example 4: List Operations - Length and Membership\n",
    "\n",
    "**Problem**: Create a list of colors, check how many items it has, and test if \"blue\" is in the list\n",
    "\n",
    "**Expected Output**: \n",
    "```\n",
    "Number of colors: 4\n",
    "Is blue in the list? True\n",
    "Is purple in the list? False\n",
    "```"
   ]
  },
  {
   "cell_type": "code",
   "execution_count": null,
   "metadata": {},
   "outputs": [],
   "source": [
    "# Empty cell for live demonstration"
   ]
  },
  {
   "cell_type": "markdown",
   "metadata": {},
   "source": [
    "<details>\n",
    "<summary>Solution</summary>\n",
    "\n",
    "```python\n",
    "# Create a list of colors\n",
    "colors = [\"red\", \"blue\", \"green\", \"yellow\"]\n",
    "\n",
    "# Get the length of the list using len()\n",
    "num_colors = len(colors)\n",
    "print(\"Number of colors:\", num_colors)\n",
    "# Output: 4\n",
    "\n",
    "# Check if an item exists using 'in' keyword\n",
    "has_blue = \"blue\" in colors\n",
    "print(\"Is blue in the list?\", has_blue)\n",
    "# Output: True\n",
    "\n",
    "has_purple = \"purple\" in colors\n",
    "print(\"Is purple in the list?\", has_purple)\n",
    "# Output: False\n",
    "```\n",
    "\n",
    "**Why this works:**\n",
    "- `len()` is a built-in function that returns the number of items in a list\n",
    "- The `in` keyword checks if a value exists in the list, returning `True` or `False`\n",
    "- These operations are fast and don't modify the list\n",
    "\n",
    "**Real-world application**: In AI systems, you might check if a specific tool is in an agent's available tools list, or count how many documents were retrieved.\n",
    "\n",
    "</details>"
   ]
  },
  {
   "cell_type": "markdown",
   "metadata": {},
   "source": [
    "## Learner Activity 1: Practice Creating Lists\n",
    "\n",
    "**Practice Focus**: Creating lists and using basic list operations\n",
    "\n",
    "Now it's your turn to practice what we just learned!"
   ]
  },
  {
   "cell_type": "markdown",
   "metadata": {},
   "source": [
    "### Exercise 1: Create Your Favorite Foods List\n",
    "\n",
    "**Task**: Create a list of your three favorite foods and print it\n",
    "\n",
    "**Expected Output**: A list with three food items (your choice)"
   ]
  },
  {
   "cell_type": "code",
   "execution_count": null,
   "metadata": {},
   "outputs": [],
   "source": [
    "# Your code here"
   ]
  },
  {
   "cell_type": "markdown",
   "metadata": {},
   "source": [
    "<details>\n",
    "<summary>Solution</summary>\n",
    "\n",
    "```python\n",
    "# Create a list of favorite foods\n",
    "favorite_foods = [\"pizza\", \"sushi\", \"chocolate\"]\n",
    "print(\"My favorite foods:\", favorite_foods)\n",
    "# Output: My favorite foods: ['pizza', 'sushi', 'chocolate']\n",
    "\n",
    "# Your list will be different based on your preferences!\n",
    "```\n",
    "\n",
    "**Why this works:**\n",
    "You create a list by putting items in square brackets, separated by commas. Each string is enclosed in quotes.\n",
    "\n",
    "</details>"
   ]
  },
  {
   "cell_type": "markdown",
   "metadata": {},
   "source": [
    "### Exercise 2: Mixed Data Types List\n",
    "\n",
    "**Task**: Create a list containing your name (string), age (integer), and height in meters (float). Print the list.\n",
    "\n",
    "**Expected Output**: A list with three items of different types"
   ]
  },
  {
   "cell_type": "code",
   "execution_count": null,
   "metadata": {},
   "outputs": [],
   "source": [
    "# Your code here"
   ]
  },
  {
   "cell_type": "markdown",
   "metadata": {},
   "source": [
    "<details>\n",
    "<summary>Solution</summary>\n",
    "\n",
    "```python\n",
    "# Create a list with mixed data types about yourself\n",
    "my_info = [\"Sarah\", 28, 1.70]\n",
    "print(\"My information:\", my_info)\n",
    "# Output: My information: ['Sarah', 28, 1.7]\n",
    "\n",
    "# Notice: string in quotes, integer without quotes, float with decimal\n",
    "```\n",
    "\n",
    "**Why this works:**\n",
    "Lists can store different data types together. This is useful for storing related but different kinds of information about a single entity.\n",
    "\n",
    "</details>"
   ]
  },
  {
   "cell_type": "markdown",
   "metadata": {},
   "source": [
    "### Exercise 3: Building a List with Append\n",
    "\n",
    "**Task**: Create an empty list called `shopping_cart`, then add three items to it using `.append()`. Print the list after each addition.\n",
    "\n",
    "**Expected Output**:\n",
    "```\n",
    "After adding item 1: ['bread']\n",
    "After adding item 2: ['bread', 'milk']\n",
    "After adding item 3: ['bread', 'milk', 'eggs']\n",
    "```"
   ]
  },
  {
   "cell_type": "code",
   "execution_count": null,
   "metadata": {},
   "outputs": [],
   "source": [
    "# Your code here"
   ]
  },
  {
   "cell_type": "markdown",
   "metadata": {},
   "source": [
    "<details>\n",
    "<summary>Solution</summary>\n",
    "\n",
    "```python\n",
    "# Start with an empty shopping cart\n",
    "shopping_cart = []\n",
    "\n",
    "# Add items one at a time\n",
    "shopping_cart.append(\"bread\")\n",
    "print(\"After adding item 1:\", shopping_cart)\n",
    "\n",
    "shopping_cart.append(\"milk\")\n",
    "print(\"After adding item 2:\", shopping_cart)\n",
    "\n",
    "shopping_cart.append(\"eggs\")\n",
    "print(\"After adding item 3:\", shopping_cart)\n",
    "# Output shows list growing with each append\n",
    "```\n",
    "\n",
    "**Why this works:**\n",
    "Each `.append()` adds the new item to the end of the list. This modifies the original list - you can see it growing with each print statement.\n",
    "\n",
    "</details>"
   ]
  },
  {
   "cell_type": "markdown",
   "metadata": {},
   "source": [
    "### Exercise 4: List Operations Practice\n",
    "\n",
    "**Task**: Create a list of at least 4 programming languages. Then:\n",
    "1. Print the total number of languages in your list\n",
    "2. Check if \"Python\" is in the list\n",
    "3. Check if \"Ruby\" is in the list\n",
    "\n",
    "**Expected Output**:\n",
    "```\n",
    "Number of languages: 4\n",
    "Is Python in the list? True\n",
    "Is Ruby in the list? False\n",
    "```\n",
    "(Results will vary based on your list)"
   ]
  },
  {
   "cell_type": "code",
   "execution_count": null,
   "metadata": {},
   "outputs": [],
   "source": [
    "# Your code here"
   ]
  },
  {
   "cell_type": "markdown",
   "metadata": {},
   "source": [
    "<details>\n",
    "<summary>Solution</summary>\n",
    "\n",
    "```python\n",
    "# Create a list of programming languages\n",
    "languages = [\"Python\", \"JavaScript\", \"Java\", \"C++\"]\n",
    "\n",
    "# Get and print the length\n",
    "num_languages = len(languages)\n",
    "print(\"Number of languages:\", num_languages)\n",
    "# Output: Number of languages: 4\n",
    "\n",
    "# Check for Python\n",
    "has_python = \"Python\" in languages\n",
    "print(\"Is Python in the list?\", has_python)\n",
    "# Output: Is Python in the list? True\n",
    "\n",
    "# Check for Ruby\n",
    "has_ruby = \"Ruby\" in languages\n",
    "print(\"Is Ruby in the list?\", has_ruby)\n",
    "# Output: Is Ruby in the list? False\n",
    "```\n",
    "\n",
    "**Why this works:**\n",
    "- `len()` counts all items in the list\n",
    "- `in` returns `True` if the item exists, `False` otherwise\n",
    "- Note that the search is case-sensitive: \"Python\" ≠ \"python\"\n",
    "\n",
    "</details>"
   ]
  },
  {
   "cell_type": "markdown",
   "metadata": {},
   "source": [
    "## Instructor Activity 2: List Indexing\n",
    "\n",
    "**Concept**: Accessing individual list elements using their position (index)\n",
    "\n",
    "**Key Points**:\n",
    "- Python uses **zero-based indexing** (first item is at index 0)\n",
    "- Positive indices count from the start: 0, 1, 2, 3...\n",
    "- Negative indices count from the end: -1 (last), -2 (second-to-last), etc.\n",
    "- `list[0]` gets the first element, `list[-1]` gets the last element\n",
    "- IndexError occurs if you try to access an index that doesn't exist\n",
    "\n",
    "**Visual representation**:\n",
    "```\n",
    "List:     ['apple', 'banana', 'orange', 'grape']\n",
    "Index:        0        1         2        3\n",
    "Negative:    -4       -3        -2       -1\n",
    "```"
   ]
  },
  {
   "cell_type": "markdown",
   "metadata": {},
   "source": [
    "### Example 1: Positive Indexing\n",
    "\n",
    "**Problem**: Access the first, second, and third items from a fruits list using positive indices\n",
    "\n",
    "**Expected Output**:\n",
    "```\n",
    "First fruit: apple\n",
    "Second fruit: banana\n",
    "Third fruit: orange\n",
    "```"
   ]
  },
  {
   "cell_type": "code",
   "execution_count": null,
   "metadata": {},
   "outputs": [],
   "source": [
    "# Empty cell for live demonstration"
   ]
  },
  {
   "cell_type": "markdown",
   "metadata": {},
   "source": [
    "<details>\n",
    "<summary>Solution</summary>\n",
    "\n",
    "```python\n",
    "# Create a list of fruits\n",
    "fruits = [\"apple\", \"banana\", \"orange\", \"grape\"]\n",
    "\n",
    "# Access items using positive indices (counting from 0)\n",
    "first_fruit = fruits[0]  # Index 0 = first item\n",
    "second_fruit = fruits[1]  # Index 1 = second item\n",
    "third_fruit = fruits[2]   # Index 2 = third item\n",
    "\n",
    "print(\"First fruit:\", first_fruit)\n",
    "print(\"Second fruit:\", second_fruit)\n",
    "print(\"Third fruit:\", third_fruit)\n",
    "# Output: apple, banana, orange\n",
    "```\n",
    "\n",
    "**Why this works:**\n",
    "Python lists use zero-based indexing. The first item is always at index 0, the second at index 1, and so on. Think of the index as \"how many steps from the start\".\n",
    "\n",
    "**Real-world application**: In AI systems, you might access the first prediction from a model's output list, or get the top-ranked document from search results.\n",
    "\n",
    "</details>"
   ]
  },
  {
   "cell_type": "markdown",
   "metadata": {},
   "source": [
    "### Example 2: Accessing the Last Item with Positive Index\n",
    "\n",
    "**Problem**: Given a list, access the last item using a positive index\n",
    "\n",
    "**Expected Output**: `grape`"
   ]
  },
  {
   "cell_type": "code",
   "execution_count": null,
   "metadata": {},
   "outputs": [],
   "source": [
    "# Empty cell for live demonstration"
   ]
  },
  {
   "cell_type": "markdown",
   "metadata": {},
   "source": [
    "<details>\n",
    "<summary>Solution</summary>\n",
    "\n",
    "```python\n",
    "fruits = [\"apple\", \"banana\", \"orange\", \"grape\"]\n",
    "\n",
    "# Method 1: Count the items and use length - 1\n",
    "list_length = len(fruits)  # 4 items\n",
    "last_index = list_length - 1  # Index 3\n",
    "last_fruit = fruits[last_index]\n",
    "print(\"Last fruit (method 1):\", last_fruit)\n",
    "\n",
    "# Method 2: Calculate directly in one line\n",
    "last_fruit = fruits[len(fruits) - 1]\n",
    "print(\"Last fruit (method 2):\", last_fruit)\n",
    "# Output: grape\n",
    "```\n",
    "\n",
    "**Why this works:**\n",
    "Since indexing starts at 0, the last item is at position `len(list) - 1`. For a list with 4 items (length 4), the indices are 0, 1, 2, 3, so the last one is at index 3.\n",
    "\n",
    "**Note**: There's an easier way using negative indexing (coming next!).\n",
    "\n",
    "</details>"
   ]
  },
  {
   "cell_type": "markdown",
   "metadata": {},
   "source": [
    "### Example 3: Negative Indexing (The Easy Way!)\n",
    "\n",
    "**Problem**: Use negative indices to access the last and second-to-last items\n",
    "\n",
    "**Expected Output**:\n",
    "```\n",
    "Last fruit: grape\n",
    "Second to last: orange\n",
    "Third from end: banana\n",
    "```"
   ]
  },
  {
   "cell_type": "code",
   "execution_count": null,
   "metadata": {},
   "outputs": [],
   "source": [
    "# Empty cell for live demonstration"
   ]
  },
  {
   "cell_type": "markdown",
   "metadata": {},
   "source": [
    "<details>\n",
    "<summary>Solution</summary>\n",
    "\n",
    "```python\n",
    "fruits = [\"apple\", \"banana\", \"orange\", \"grape\"]\n",
    "\n",
    "# Negative indices count from the end\n",
    "last = fruits[-1]       # Last item\n",
    "second_last = fruits[-2]  # Second to last\n",
    "third_last = fruits[-3]   # Third from end\n",
    "\n",
    "print(\"Last fruit:\", last)\n",
    "print(\"Second to last:\", second_last)\n",
    "print(\"Third from end:\", third_last)\n",
    "# Output: grape, orange, banana\n",
    "```\n",
    "\n",
    "**Why this works:**\n",
    "Negative indices count backwards from the end of the list. `-1` is always the last item, `-2` is second-to-last, etc. This is much easier than calculating `len(list) - 1`!\n",
    "\n",
    "**Real-world application**: In RAG systems, you might want to get the most recent conversation turn (last item) without knowing the exact length of the history.\n",
    "\n",
    "**Visualization**:\n",
    "```\n",
    "['apple', 'banana', 'orange', 'grape']\n",
    "   -4       -3        -2       -1\n",
    "```\n",
    "\n",
    "</details>"
   ]
  },
  {
   "cell_type": "markdown",
   "metadata": {},
   "source": [
    "### Example 4: Index Errors and How to Avoid Them\n",
    "\n",
    "**Problem**: Demonstrate what happens when you use an invalid index, and how to avoid it\n",
    "\n",
    "**Expected Output**: Error demonstration and safe alternative"
   ]
  },
  {
   "cell_type": "code",
   "execution_count": null,
   "metadata": {},
   "outputs": [],
   "source": [
    "# Empty cell for live demonstration"
   ]
  },
  {
   "cell_type": "markdown",
   "metadata": {},
   "source": [
    "<details>\n",
    "<summary>Solution</summary>\n",
    "\n",
    "```python\n",
    "fruits = [\"apple\", \"banana\", \"orange\"]\n",
    "\n",
    "# This list has 3 items, so valid indices are 0, 1, 2\n",
    "print(\"List length:\", len(fruits))\n",
    "print(\"Valid indices: 0 to\", len(fruits) - 1)\n",
    "\n",
    "# Safe access\n",
    "print(\"Item at index 2:\", fruits[2])  # Works!\n",
    "\n",
    "# Attempting to access index 3 would cause an IndexError:\n",
    "# print(fruits[3])  # Uncomment to see the error!\n",
    "# IndexError: list index out of range\n",
    "\n",
    "# Safe way: Check length first\n",
    "index = 3\n",
    "if index < len(fruits):\n",
    "    print(\"Item at index\", index, \":\", fruits[index])\n",
    "else:\n",
    "    print(\"Index\", index, \"is out of range. List has only\", len(fruits), \"items.\")\n",
    "# Output: Index 3 is out of range. List has only 3 items.\n",
    "```\n",
    "\n",
    "**Why this works:**\n",
    "- IndexError happens when you try to access an index that doesn't exist\n",
    "- For a list of length N, valid indices are 0 to N-1 (positive) or -N to -1 (negative)\n",
    "- Always check the list length before accessing indices if you're not sure they exist\n",
    "\n",
    "**Real-world application**: In AI systems, always validate indices before accessing API response arrays to prevent crashes.\n",
    "\n",
    "</details>"
   ]
  },
  {
   "cell_type": "markdown",
   "metadata": {},
   "source": [
    "## Learner Activity 2: Practice List Indexing\n",
    "\n",
    "**Practice Focus**: Accessing list elements with positive and negative indices\n",
    "\n",
    "Time to practice indexing!"
   ]
  },
  {
   "cell_type": "markdown",
   "metadata": {},
   "source": [
    "### Exercise 1: Access First and Last with Positive Indices\n",
    "\n",
    "**Task**: Create a list of 5 cities. Access and print the first and last cities using positive indices only.\n",
    "\n",
    "**Expected Output**:\n",
    "```\n",
    "First city: [your first city]\n",
    "Last city: [your last city]\n",
    "```"
   ]
  },
  {
   "cell_type": "code",
   "execution_count": null,
   "metadata": {},
   "outputs": [],
   "source": [
    "# Your code here"
   ]
  },
  {
   "cell_type": "markdown",
   "metadata": {},
   "source": [
    "<details>\n",
    "<summary>Solution</summary>\n",
    "\n",
    "```python\n",
    "# Create a list of 5 cities\n",
    "cities = [\"New York\", \"London\", \"Tokyo\", \"Paris\", \"Sydney\"]\n",
    "\n",
    "# Access first city (index 0)\n",
    "first_city = cities[0]\n",
    "print(\"First city:\", first_city)\n",
    "\n",
    "# Access last city (index 4, which is len(cities) - 1)\n",
    "last_city = cities[len(cities) - 1]\n",
    "print(\"Last city:\", last_city)\n",
    "# Output: First city: New York, Last city: Sydney\n",
    "```\n",
    "\n",
    "**Why this works:**\n",
    "The first item is always at index 0. For the last item with positive indexing, we use `len(cities) - 1` because indexing starts at 0.\n",
    "\n",
    "</details>"
   ]
  },
  {
   "cell_type": "markdown",
   "metadata": {},
   "source": [
    "### Exercise 2: Using Negative Indexing\n",
    "\n",
    "**Task**: Using the same cities list, access the last two cities using negative indices.\n",
    "\n",
    "**Expected Output**:\n",
    "```\n",
    "Last city: [your last city]\n",
    "Second to last city: [your second-to-last city]\n",
    "```"
   ]
  },
  {
   "cell_type": "code",
   "execution_count": null,
   "metadata": {},
   "outputs": [],
   "source": [
    "# Your code here"
   ]
  },
  {
   "cell_type": "markdown",
   "metadata": {},
   "source": [
    "<details>\n",
    "<summary>Solution</summary>\n",
    "\n",
    "```python\n",
    "cities = [\"New York\", \"London\", \"Tokyo\", \"Paris\", \"Sydney\"]\n",
    "\n",
    "# Use negative indices to count from the end\n",
    "last_city = cities[-1]\n",
    "second_last_city = cities[-2]\n",
    "\n",
    "print(\"Last city:\", last_city)\n",
    "print(\"Second to last city:\", second_last_city)\n",
    "# Output: Last city: Sydney, Second to last city: Paris\n",
    "```\n",
    "\n",
    "**Why this works:**\n",
    "Negative indices make it easy to access items from the end without knowing the list length. `-1` is always the last item, `-2` is always second-to-last, regardless of list size.\n",
    "\n",
    "</details>"
   ]
  },
  {
   "cell_type": "markdown",
   "metadata": {},
   "source": [
    "### Exercise 3: Accessing the Middle Element\n",
    "\n",
    "**Task**: Create a list of numbers: `[10, 20, 30, 40, 50]`. Access and print the middle element (30) by calculating its index.\n",
    "\n",
    "**Hint**: For a list with 5 items, the middle index is `len(list) // 2` (integer division)\n",
    "\n",
    "**Expected Output**: `Middle element: 30`"
   ]
  },
  {
   "cell_type": "code",
   "execution_count": null,
   "metadata": {},
   "outputs": [],
   "source": [
    "# Your code here"
   ]
  },
  {
   "cell_type": "markdown",
   "metadata": {},
   "source": [
    "<details>\n",
    "<summary>Solution</summary>\n",
    "\n",
    "```python\n",
    "# Create a list of numbers\n",
    "numbers = [10, 20, 30, 40, 50]\n",
    "\n",
    "# Calculate the middle index\n",
    "# For 5 items: len(numbers) // 2 = 5 // 2 = 2\n",
    "middle_index = len(numbers) // 2\n",
    "middle_element = numbers[middle_index]\n",
    "\n",
    "print(\"Middle element:\", middle_element)\n",
    "# Output: Middle element: 30\n",
    "\n",
    "# Verify by showing all indices\n",
    "print(\"List:\", numbers)\n",
    "print(\"Middle index:\", middle_index)\n",
    "```\n",
    "\n",
    "**Why this works:**\n",
    "Using integer division (`//`) gives us the middle index. For a list with 5 items (indices 0-4), dividing by 2 gives us index 2, which is exactly in the middle.\n",
    "\n",
    "**Note**: `//` is integer division (result is rounded down). Regular `/` would give 2.5, but indices must be whole numbers.\n",
    "\n",
    "</details>"
   ]
  },
  {
   "cell_type": "markdown",
   "metadata": {},
   "source": [
    "### Exercise 4: Safe Index Access\n",
    "\n",
    "**Task**: Create a list of 3 items. Try to safely access index 5 using an if-statement to check if the index is valid first.\n",
    "\n",
    "**Expected Output**: A message saying the index is out of range"
   ]
  },
  {
   "cell_type": "code",
   "execution_count": null,
   "metadata": {},
   "outputs": [],
   "source": [
    "# Your code here"
   ]
  },
  {
   "cell_type": "markdown",
   "metadata": {},
   "source": [
    "<details>\n",
    "<summary>Solution</summary>\n",
    "\n",
    "```python\n",
    "# Create a small list\n",
    "colors = [\"red\", \"green\", \"blue\"]\n",
    "\n",
    "# Try to access index 5 safely\n",
    "index_to_access = 5\n",
    "\n",
    "# Check if index is valid before accessing\n",
    "if index_to_access < len(colors):\n",
    "    print(\"Item at index\", index_to_access, \":\", colors[index_to_access])\n",
    "else:\n",
    "    print(\"Cannot access index\", index_to_access)\n",
    "    print(\"List only has\", len(colors), \"items (indices 0 to\", len(colors)-1, \")\")\n",
    "# Output: Cannot access index 5\n",
    "#         List only has 3 items (indices 0 to 2)\n",
    "```\n",
    "\n",
    "**Why this works:**\n",
    "By checking `if index_to_access < len(colors)` first, we prevent the IndexError from occurring. This is essential in production code where indices might come from user input or calculations.\n",
    "\n",
    "**Real-world application**: In AI systems, always validate array indices before accessing data from API responses or model outputs.\n",
    "\n",
    "</details>"
   ]
  },
  {
   "cell_type": "markdown",
   "metadata": {},
   "source": [
    "## Instructor Activity 3: For Loops - Iteration\n",
    "\n",
    "**Concept**: Using for loops to automatically process each item in a list\n",
    "\n",
    "**Key Points**:\n",
    "- `for` loops repeat code for each item in a collection (iteration)\n",
    "- Syntax: `for variable_name in list:` (colon is required, code must be indented)\n",
    "- The loop variable takes the value of each item, one at a time\n",
    "- Can loop over lists, strings, ranges, and other iterables\n",
    "- Use `enumerate()` to get both the index and value\n",
    "- Use `range()` to create sequences of numbers\n",
    "\n",
    "**Why loops matter**: Instead of writing repetitive code with indexing, loops let you process all items automatically."
   ]
  },
  {
   "cell_type": "markdown",
   "metadata": {},
   "source": [
    "### Example 1: Basic For Loop\n",
    "\n",
    "**Problem**: Print each fruit in a list, one per line\n",
    "\n",
    "**Expected Output**:\n",
    "```\n",
    "apple\n",
    "banana\n",
    "orange\n",
    "```"
   ]
  },
  {
   "cell_type": "code",
   "execution_count": null,
   "metadata": {},
   "outputs": [],
   "source": [
    "# Empty cell for live demonstration"
   ]
  },
  {
   "cell_type": "markdown",
   "metadata": {},
   "source": [
    "<details>\n",
    "<summary>Solution</summary>\n",
    "\n",
    "```python\n",
    "# Create a list of fruits\n",
    "fruits = [\"apple\", \"banana\", \"orange\"]\n",
    "\n",
    "# Without a loop (tedious):\n",
    "print(\"Without loop:\")\n",
    "print(fruits[0])\n",
    "print(fruits[1])\n",
    "print(fruits[2])\n",
    "\n",
    "print(\"\\nWith a for loop:\")\n",
    "# With a for loop (elegant and scalable)\n",
    "for fruit in fruits:\n",
    "    print(fruit)\n",
    "# Output: apple, banana, orange (each on a new line)\n",
    "```\n",
    "\n",
    "**Why this works:**\n",
    "The for loop automatically goes through each item in the list. In each iteration, the variable `fruit` holds one item from the list. The indented code runs once for each item.\n",
    "\n",
    "**Real-world application**: In RAG systems, you loop through retrieved document chunks to process each one.\n",
    "\n",
    "</details>"
   ]
  },
  {
   "cell_type": "markdown",
   "metadata": {},
   "source": [
    "### Example 2: Loop with String Operations\n",
    "\n",
    "**Problem**: Convert each name in a list to uppercase using a for loop\n",
    "\n",
    "**Expected Output**:\n",
    "```\n",
    "ALICE\n",
    "BOB\n",
    "CHARLIE\n",
    "```"
   ]
  },
  {
   "cell_type": "code",
   "execution_count": null,
   "metadata": {},
   "outputs": [],
   "source": [
    "# Empty cell for live demonstration"
   ]
  },
  {
   "cell_type": "markdown",
   "metadata": {},
   "source": [
    "<details>\n",
    "<summary>Solution</summary>\n",
    "\n",
    "```python\n",
    "# List of names in lowercase\n",
    "names = [\"alice\", \"bob\", \"charlie\"]\n",
    "\n",
    "# Loop through and convert each to uppercase\n",
    "for name in names:\n",
    "    uppercase_name = name.upper()\n",
    "    print(uppercase_name)\n",
    "# Output: ALICE, BOB, CHARLIE (each on new line)\n",
    "\n",
    "# Alternative: Do the operation directly in print\n",
    "print(\"\\nAlternative method:\")\n",
    "for name in names:\n",
    "    print(name.upper())\n",
    "```\n",
    "\n",
    "**Why this works:**\n",
    "Inside the loop, we can perform any operation on the current item. Here, we call `.upper()` on each name. The loop handles all items automatically - no need to manually process each one.\n",
    "\n",
    "**Real-world application**: In data processing, you might normalize text data (lowercase, strip whitespace, etc.) for each item in a dataset.\n",
    "\n",
    "</details>"
   ]
  },
  {
   "cell_type": "markdown",
   "metadata": {},
   "source": [
    "### Example 3: Loop with Enumerate (Getting Index and Value)\n",
    "\n",
    "**Problem**: Print each fruit with its position number\n",
    "\n",
    "**Expected Output**:\n",
    "```\n",
    "0: apple\n",
    "1: banana\n",
    "2: orange\n",
    "```"
   ]
  },
  {
   "cell_type": "code",
   "execution_count": null,
   "metadata": {},
   "outputs": [],
   "source": [
    "# Empty cell for live demonstration"
   ]
  },
  {
   "cell_type": "markdown",
   "metadata": {},
   "source": [
    "<details>\n",
    "<summary>Solution</summary>\n",
    "\n",
    "```python\n",
    "fruits = [\"apple\", \"banana\", \"orange\"]\n",
    "\n",
    "# Use enumerate to get both index and value\n",
    "for index, fruit in enumerate(fruits):\n",
    "    print(f\"{index}: {fruit}\")\n",
    "# Output: 0: apple, 1: banana, 2: orange\n",
    "\n",
    "# You can also start counting from 1 instead of 0\n",
    "print(\"\\nStarting from 1:\")\n",
    "for position, fruit in enumerate(fruits, start=1):\n",
    "    print(f\"{position}: {fruit}\")\n",
    "# Output: 1: apple, 2: banana, 3: orange\n",
    "```\n",
    "\n",
    "**Why this works:**\n",
    "`enumerate()` is a built-in function that gives you both the index and the value in each iteration. It returns pairs of (index, value), which we unpack into two variables. The `start` parameter lets you choose where the counting begins.\n",
    "\n",
    "**Real-world application**: Useful when you need to track position while processing items, like numbering search results or logging which batch item failed.\n",
    "\n",
    "</details>"
   ]
  },
  {
   "cell_type": "markdown",
   "metadata": {},
   "source": [
    "### Example 4: Looping Over Different Iterables\n",
    "\n",
    "**Problem**: Demonstrate for loops with different types of iterables: strings, ranges, and lists\n",
    "\n",
    "**Expected Output**: Examples of looping over different data types"
   ]
  },
  {
   "cell_type": "code",
   "execution_count": null,
   "metadata": {},
   "outputs": [],
   "source": [
    "# Empty cell for live demonstration"
   ]
  },
  {
   "cell_type": "markdown",
   "metadata": {},
   "source": [
    "<details>\n",
    "<summary>Solution</summary>\n",
    "\n",
    "```python\n",
    "# 1. Loop over a string (iterates over each character)\n",
    "print(\"Looping over a string:\")\n",
    "for char in \"AI\":\n",
    "    print(char)\n",
    "# Output: A, I (each on new line)\n",
    "\n",
    "# 2. Loop over a range of numbers\n",
    "print(\"\\nLooping over range(5):\")\n",
    "for i in range(5):\n",
    "    print(i)\n",
    "# Output: 0, 1, 2, 3, 4 (range starts at 0, goes up to but not including 5)\n",
    "\n",
    "# 3. Loop over a list (we've seen this)\n",
    "print(\"\\nLooping over a list:\")\n",
    "for number in [10, 20, 30]:\n",
    "    print(number)\n",
    "# Output: 10, 20, 30\n",
    "\n",
    "# 4. Using range to loop N times\n",
    "print(\"\\nLoop 3 times:\")\n",
    "for i in range(3):\n",
    "    print(f\"Iteration {i+1}\")\n",
    "# Output: Iteration 1, Iteration 2, Iteration 3\n",
    "```\n",
    "\n",
    "**Why this works:**\n",
    "- Strings are iterable (you can loop over characters)\n",
    "- `range(n)` creates a sequence from 0 to n-1\n",
    "- Lists are iterable (loop over items)\n",
    "- Any iterable can be used in a for loop\n",
    "\n",
    "**Key insight**: `range()` is useful when you want to repeat code N times or generate number sequences.\n",
    "\n",
    "**Real-world application**: Use `range()` to process batches of data (e.g., \"process the next 100 items\"), or to repeat API calls with retries.\n",
    "\n",
    "</details>"
   ]
  },
  {
   "cell_type": "markdown",
   "metadata": {},
   "source": [
    "## Learner Activity 3: Practice For Loops\n",
    "\n",
    "**Practice Focus**: Using for loops to iterate over lists and other iterables\n",
    "\n",
    "Now practice writing your own for loops!"
   ]
  },
  {
   "cell_type": "markdown",
   "metadata": {},
   "source": [
    "### Exercise 1: Print Each Name\n",
    "\n",
    "**Task**: Create a list of at least 4 names. Use a for loop to print each name on a separate line.\n",
    "\n",
    "**Expected Output**:\n",
    "```\n",
    "[name1]\n",
    "[name2]\n",
    "[name3]\n",
    "[name4]\n",
    "```"
   ]
  },
  {
   "cell_type": "code",
   "execution_count": null,
   "metadata": {},
   "outputs": [],
   "source": [
    "# Your code here"
   ]
  },
  {
   "cell_type": "markdown",
   "metadata": {},
   "source": [
    "<details>\n",
    "<summary>Solution</summary>\n",
    "\n",
    "```python\n",
    "# Create a list of names\n",
    "names = [\"Alice\", \"Bob\", \"Charlie\", \"Diana\"]\n",
    "\n",
    "# Loop through and print each name\n",
    "for name in names:\n",
    "    print(name)\n",
    "# Output: Each name on a separate line\n",
    "```\n",
    "\n",
    "**Why this works:**\n",
    "The for loop automatically goes through each item in the list. The variable `name` takes on each value in turn, and the indented print statement runs for each one.\n",
    "\n",
    "</details>"
   ]
  },
  {
   "cell_type": "markdown",
   "metadata": {},
   "source": [
    "### Exercise 2: Transform Numbers with a Loop\n",
    "\n",
    "**Task**: Create a list of numbers: `[1, 2, 3, 4, 5]`. Use a for loop to print each number multiplied by 2.\n",
    "\n",
    "**Expected Output**:\n",
    "```\n",
    "2\n",
    "4\n",
    "6\n",
    "8\n",
    "10\n",
    "```"
   ]
  },
  {
   "cell_type": "code",
   "execution_count": null,
   "metadata": {},
   "outputs": [],
   "source": [
    "# Your code here"
   ]
  },
  {
   "cell_type": "markdown",
   "metadata": {},
   "source": [
    "<details>\n",
    "<summary>Solution</summary>\n",
    "\n",
    "```python\n",
    "# Create a list of numbers\n",
    "numbers = [1, 2, 3, 4, 5]\n",
    "\n",
    "# Loop through and print each number multiplied by 2\n",
    "for num in numbers:\n",
    "    result = num * 2\n",
    "    print(result)\n",
    "# Output: 2, 4, 6, 8, 10 (each on new line)\n",
    "\n",
    "# Alternative: Calculate directly in print\n",
    "print(\"\\nAlternative:\")\n",
    "for num in numbers:\n",
    "    print(num * 2)\n",
    "```\n",
    "\n",
    "**Why this works:**\n",
    "In each iteration, `num` takes the next value from the list. We multiply it by 2 and print the result. The loop handles all items automatically.\n",
    "\n",
    "</details>"
   ]
  },
  {
   "cell_type": "markdown",
   "metadata": {},
   "source": [
    "### Exercise 3: Uppercase All Words\n",
    "\n",
    "**Task**: Create a list of words: `[\"hello\", \"world\", \"python\", \"ai\"]`. Use a for loop to print each word in uppercase.\n",
    "\n",
    "**Expected Output**:\n",
    "```\n",
    "HELLO\n",
    "WORLD\n",
    "PYTHON\n",
    "AI\n",
    "```"
   ]
  },
  {
   "cell_type": "code",
   "execution_count": null,
   "metadata": {},
   "outputs": [],
   "source": [
    "# Your code here"
   ]
  },
  {
   "cell_type": "markdown",
   "metadata": {},
   "source": [
    "<details>\n",
    "<summary>Solution</summary>\n",
    "\n",
    "```python\n",
    "# Create a list of words\n",
    "words = [\"hello\", \"world\", \"python\", \"ai\"]\n",
    "\n",
    "# Loop through and print each word in uppercase\n",
    "for word in words:\n",
    "    print(word.upper())\n",
    "# Output: HELLO, WORLD, PYTHON, AI (each on new line)\n",
    "```\n",
    "\n",
    "**Why this works:**\n",
    "The `.upper()` method converts a string to uppercase. We call it on each word in the loop. This pattern (applying the same operation to each item) is extremely common in data processing.\n",
    "\n",
    "**Real-world application**: Text normalization for AI models often requires converting all text to the same case.\n",
    "\n",
    "</details>"
   ]
  },
  {
   "cell_type": "markdown",
   "metadata": {},
   "source": [
    "### Exercise 4: Using Enumerate\n",
    "\n",
    "**Task**: Create a list of your choice with at least 4 items. Use `enumerate()` to print both the index and the value for each item.\n",
    "\n",
    "**Expected Output**:\n",
    "```\n",
    "Index 0: [item]\n",
    "Index 1: [item]\n",
    "Index 2: [item]\n",
    "Index 3: [item]\n",
    "```"
   ]
  },
  {
   "cell_type": "code",
   "execution_count": null,
   "metadata": {},
   "outputs": [],
   "source": [
    "# Your code here"
   ]
  },
  {
   "cell_type": "markdown",
   "metadata": {},
   "source": [
    "<details>\n",
    "<summary>Solution</summary>\n",
    "\n",
    "```python\n",
    "# Create a list of programming languages\n",
    "languages = [\"Python\", \"JavaScript\", \"Java\", \"C++\"]\n",
    "\n",
    "# Use enumerate to get both index and value\n",
    "for index, language in enumerate(languages):\n",
    "    print(f\"Index {index}: {language}\")\n",
    "# Output: Index 0: Python, Index 1: JavaScript, etc.\n",
    "\n",
    "# Alternative: Start counting from 1\n",
    "print(\"\\nCounting from 1:\")\n",
    "for position, language in enumerate(languages, start=1):\n",
    "    print(f\"Position {position}: {language}\")\n",
    "# Output: Position 1: Python, Position 2: JavaScript, etc.\n",
    "```\n",
    "\n",
    "**Why this works:**\n",
    "`enumerate()` returns pairs of (index, value) for each item. We unpack these into two variables (`index` and `language`). This is useful when you need to know both the position and the content.\n",
    "\n",
    "**Real-world application**: When processing search results, you might want to number them or log which item in a batch caused an error.\n",
    "\n",
    "</details>"
   ]
  },
  {
   "cell_type": "markdown",
   "metadata": {},
   "source": [
    "## Optional Extra Practice: Integration of All Concepts\n",
    "\n",
    "**Challenge yourself with these problems that combine lists, indexing, and loops!**\n",
    "\n",
    "These exercises integrate everything you've learned. Take your time and think through each step."
   ]
  },
  {
   "cell_type": "markdown",
   "metadata": {},
   "source": [
    "### Challenge 1: Temperature Converter\n",
    "\n",
    "**Task**: Create a list of Celsius temperatures: `[0, 10, 20, 30, 40]`. Use a for loop to convert each to Fahrenheit (F = C × 9/5 + 32) and print the results.\n",
    "\n",
    "**Expected Output**:\n",
    "```\n",
    "0°C = 32.0°F\n",
    "10°C = 50.0°F\n",
    "20°C = 68.0°F\n",
    "30°C = 86.0°F\n",
    "40°C = 104.0°F\n",
    "```"
   ]
  },
  {
   "cell_type": "code",
   "execution_count": null,
   "metadata": {},
   "outputs": [],
   "source": [
    "# Your code here"
   ]
  },
  {
   "cell_type": "markdown",
   "metadata": {},
   "source": [
    "<details>\n",
    "<summary>Solution</summary>\n",
    "\n",
    "```python\n",
    "# List of Celsius temperatures\n",
    "celsius_temps = [0, 10, 20, 30, 40]\n",
    "\n",
    "# Convert each temperature and print\n",
    "for celsius in celsius_temps:\n",
    "    fahrenheit = celsius * 9/5 + 32\n",
    "    print(f\"{celsius}°C = {fahrenheit}°F\")\n",
    "# Output: Each temperature converted to Fahrenheit\n",
    "```\n",
    "\n",
    "**Why this works:**\n",
    "We loop through each Celsius value, apply the conversion formula, and print both the original and converted values. The f-string formatting makes the output clean and readable.\n",
    "\n",
    "**Real-world application**: Data transformation is common in AI pipelines - converting units, normalizing values, scaling features.\n",
    "\n",
    "</details>"
   ]
  },
  {
   "cell_type": "markdown",
   "metadata": {},
   "source": [
    "### Challenge 2: Name Formatter\n",
    "\n",
    "**Task**: Create a list of names in lowercase: `[\"alice\", \"bob\", \"charlie\"]`. Use a loop to create a new list with properly capitalized names (first letter uppercase), then print the new list.\n",
    "\n",
    "**Hint**: Use the `.title()` or `.capitalize()` method\n",
    "\n",
    "**Expected Output**: `['Alice', 'Bob', 'Charlie']`"
   ]
  },
  {
   "cell_type": "code",
   "execution_count": null,
   "metadata": {},
   "outputs": [],
   "source": [
    "# Your code here"
   ]
  },
  {
   "cell_type": "markdown",
   "metadata": {},
   "source": [
    "<details>\n",
    "<summary>Solution</summary>\n",
    "\n",
    "```python\n",
    "# List of lowercase names\n",
    "lowercase_names = [\"alice\", \"bob\", \"charlie\"]\n",
    "\n",
    "# Create a new list with capitalized names\n",
    "capitalized_names = []\n",
    "\n",
    "for name in lowercase_names:\n",
    "    capitalized = name.capitalize()  # Or use .title()\n",
    "    capitalized_names.append(capitalized)\n",
    "\n",
    "print(\"Original:\", lowercase_names)\n",
    "print(\"Capitalized:\", capitalized_names)\n",
    "# Output: ['Alice', 'Bob', 'Charlie']\n",
    "```\n",
    "\n",
    "**Why this works:**\n",
    "We start with an empty list and use `.append()` inside the loop to add each capitalized name. The `.capitalize()` method converts the first character to uppercase and the rest to lowercase.\n",
    "\n",
    "**Real-world application**: Cleaning and normalizing user input or data from external sources is a common preprocessing step.\n",
    "\n",
    "</details>"
   ]
  },
  {
   "cell_type": "markdown",
   "metadata": {},
   "source": [
    "### Challenge 3: First, Last, and Everything Between\n",
    "\n",
    "**Task**: Create a list of at least 5 items. Use indexing to print the first and last items, then use a loop to print all the items in between (excluding first and last).\n",
    "\n",
    "**Expected Output**:\n",
    "```\n",
    "First: [first item]\n",
    "Last: [last item]\n",
    "Items in between:\n",
    "[item 2]\n",
    "[item 3]\n",
    "[item 4]\n",
    "```"
   ]
  },
  {
   "cell_type": "code",
   "execution_count": null,
   "metadata": {},
   "outputs": [],
   "source": [
    "# Your code here"
   ]
  },
  {
   "cell_type": "markdown",
   "metadata": {},
   "source": [
    "<details>\n",
    "<summary>Solution</summary>\n",
    "\n",
    "```python\n",
    "# Create a list with at least 5 items\n",
    "items = [\"apple\", \"banana\", \"orange\", \"grape\", \"mango\"]\n",
    "\n",
    "# Print first and last using indexing\n",
    "print(\"First:\", items[0])\n",
    "print(\"Last:\", items[-1])\n",
    "\n",
    "# Print items in between (excluding first and last)\n",
    "print(\"Items in between:\")\n",
    "for i in range(1, len(items) - 1):\n",
    "    print(items[i])\n",
    "# Output: banana, orange, grape\n",
    "\n",
    "# Alternative using list slicing (if you know slicing):\n",
    "print(\"\\nAlternative method:\")\n",
    "for item in items[1:-1]:\n",
    "    print(item)\n",
    "```\n",
    "\n",
    "**Why this works:**\n",
    "- We use `items[0]` for first and `items[-1]` for last\n",
    "- `range(1, len(items) - 1)` generates indices from 1 to second-to-last\n",
    "- For a list of length 5, this gives us indices 1, 2, 3 (the middle items)\n",
    "\n",
    "**Real-world application**: Processing the \"middle\" of data is common - like excluding header and footer rows, or processing all but the edge cases.\n",
    "\n",
    "</details>"
   ]
  },
  {
   "cell_type": "markdown",
   "metadata": {},
   "source": [
    "### Challenge 4: Search and Report\n",
    "\n",
    "**Task**: Create a list of product names. Ask the user for a search term using `input()`. Loop through the list and print which products contain the search term (case-insensitive).\n",
    "\n",
    "**Hint**: Convert both the product name and search term to lowercase before comparing\n",
    "\n",
    "**Example Output** (if searching for \"phone\"):\n",
    "```\n",
    "Enter search term: phone\n",
    "Found 'phone' in: Smartphone\n",
    "Found 'phone' in: Headphones\n",
    "```"
   ]
  },
  {
   "cell_type": "code",
   "execution_count": null,
   "metadata": {},
   "outputs": [],
   "source": [
    "# Your code here"
   ]
  },
  {
   "cell_type": "markdown",
   "metadata": {},
   "source": [
    "<details>\n",
    "<summary>Solution</summary>\n",
    "\n",
    "```python\n",
    "# List of product names\n",
    "products = [\"Laptop\", \"Smartphone\", \"Tablet\", \"Headphones\", \"Monitor\", \"Keyboard\"]\n",
    "\n",
    "# Get search term from user\n",
    "search_term = input(\"Enter search term: \")\n",
    "\n",
    "# Search through products (case-insensitive)\n",
    "print(f\"\\nSearching for '{search_term}':\")\n",
    "found_any = False\n",
    "\n",
    "for product in products:\n",
    "    # Convert both to lowercase for comparison\n",
    "    if search_term.lower() in product.lower():\n",
    "        print(f\"Found '{search_term}' in: {product}\")\n",
    "        found_any = True\n",
    "\n",
    "if not found_any:\n",
    "    print(f\"No products found containing '{search_term}'\")\n",
    "```\n",
    "\n",
    "**Why this works:**\n",
    "- `input()` gets text from the user\n",
    "- We convert both strings to lowercase using `.lower()` for case-insensitive comparison\n",
    "- The `in` operator checks if the search term is contained in the product name\n",
    "- We track if anything was found to provide a \"not found\" message if needed\n",
    "\n",
    "**Real-world application**: This is a basic search functionality. In AI systems, you might filter documents or search results based on user queries before sending to an LLM.\n",
    "\n",
    "</details>"
   ]
  },
  {
   "cell_type": "markdown",
   "metadata": {},
   "source": [
    "### Challenge 5: Data Summary Statistics\n",
    "\n",
    "**Task**: Create a list of numbers. Use a for loop to calculate and print:\n",
    "1. The sum of all numbers\n",
    "2. The count of numbers\n",
    "3. The average (sum / count)\n",
    "4. The last number using negative indexing\n",
    "\n",
    "**Given**: `numbers = [10, 20, 30, 40, 50]`\n",
    "\n",
    "**Expected Output**:\n",
    "```\n",
    "Sum: 150\n",
    "Count: 5\n",
    "Average: 30.0\n",
    "Last number: 50\n",
    "```"
   ]
  },
  {
   "cell_type": "code",
   "execution_count": null,
   "metadata": {},
   "outputs": [],
   "source": [
    "# Your code here"
   ]
  },
  {
   "cell_type": "markdown",
   "metadata": {},
   "source": [
    "<details>\n",
    "<summary>Solution</summary>\n",
    "\n",
    "```python\n",
    "# List of numbers\n",
    "numbers = [10, 20, 30, 40, 50]\n",
    "\n",
    "# Calculate sum using a loop\n",
    "total_sum = 0\n",
    "for num in numbers:\n",
    "    total_sum = total_sum + num  # Add each number to the sum\n",
    "\n",
    "# Count is just the length\n",
    "count = len(numbers)\n",
    "\n",
    "# Calculate average\n",
    "average = total_sum / count\n",
    "\n",
    "# Get last number using negative indexing\n",
    "last_number = numbers[-1]\n",
    "\n",
    "# Print all results\n",
    "print(\"Sum:\", total_sum)\n",
    "print(\"Count:\", count)\n",
    "print(\"Average:\", average)\n",
    "print(\"Last number:\", last_number)\n",
    "\n",
    "# Note: Python has built-in sum() function, but this shows how loops work:\n",
    "print(\"\\nUsing built-in sum():\")\n",
    "print(\"Sum:\", sum(numbers))\n",
    "```\n",
    "\n",
    "**Why this works:**\n",
    "- We start with `total_sum = 0` and add each number in the loop\n",
    "- `len()` gives us the count\n",
    "- Average is simply total divided by count\n",
    "- Negative indexing `[-1]` gets the last item\n",
    "\n",
    "**Real-world application**: Computing statistics on data is fundamental in AI/ML. You might calculate metrics like average confidence scores, total tokens processed, or summary statistics on model predictions.\n",
    "\n",
    "</details>"
   ]
  },
  {
   "cell_type": "markdown",
   "metadata": {},
   "source": [
    "---\n",
    "\n",
    "## Congratulations!\n",
    "\n",
    "You've completed the Lists and For Loops notebook! You now know how to:\n",
    "\n",
    "✅ Create and manipulate lists  \n",
    "✅ Access list elements using positive and negative indexing  \n",
    "✅ Write for loops to iterate over collections  \n",
    "✅ Combine these concepts to process data efficiently  \n",
    "✅ Apply these skills to real-world AI/RAG/Agentic AI scenarios  \n",
    "\n",
    "These fundamentals are essential for working with data in Python, especially in AI applications where you'll frequently process collections of documents, tokens, predictions, and more.\n",
    "\n",
    "**Next Steps**: Practice these concepts with your own data, and explore more advanced list operations like list comprehensions and slicing in future notebooks!"
   ]
  }
 ],
 "metadata": {
  "kernelspec": {
   "display_name": "Python 3",
   "language": "python",
   "name": "python3"
  },
  "language_info": {
   "codemirror_mode": {
    "name": "ipython",
    "version": 3
   },
   "file_extension": ".py",
   "mimetype": "text/x-python",
   "name": "python",
   "nbconvert_exporter": "python",
   "pygments_lexer": "ipython3",
   "version": "3.8.0"
  }
 },
 "nbformat": 4,
 "nbformat_minor": 4
}
